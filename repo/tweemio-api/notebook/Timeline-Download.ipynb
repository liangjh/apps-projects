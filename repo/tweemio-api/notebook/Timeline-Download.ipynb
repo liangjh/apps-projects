{
 "cells": [
  {
   "cell_type": "markdown",
   "metadata": {},
   "source": [
    "# Twitter Timeline / User Profile Download"
   ]
  },
  {
   "cell_type": "markdown",
   "metadata": {},
   "source": [
    "Download twitter timelines and save to disk locally, for model training purposes.  \n",
    "Download twitter model user profiles, for quick save (i.e. user profile urls)"
   ]
  },
  {
   "cell_type": "markdown",
   "metadata": {},
   "source": [
    "### Imports"
   ]
  },
  {
   "cell_type": "code",
   "execution_count": null,
   "metadata": {
    "ExecuteTime": {
     "end_time": "2020-08-14T02:49:12.456150Z",
     "start_time": "2020-08-14T02:49:12.451150Z"
    }
   },
   "outputs": [],
   "source": [
    "import os\n",
    "os.chdir('..')"
   ]
  },
  {
   "cell_type": "code",
   "execution_count": null,
   "metadata": {
    "ExecuteTime": {
     "end_time": "2020-08-14T02:49:12.698941Z",
     "start_time": "2020-08-14T02:49:12.695426Z"
    }
   },
   "outputs": [],
   "source": [
    "import datetime\n",
    "import pickle\n",
    "import itertools\n",
    "import json"
   ]
  },
  {
   "cell_type": "code",
   "execution_count": null,
   "metadata": {
    "ExecuteTime": {
     "end_time": "2020-08-14T02:49:14.178421Z",
     "start_time": "2020-08-14T02:49:12.879835Z"
    }
   },
   "outputs": [],
   "source": [
    "import assembly\n",
    "from assembly import config as asmbl_config\n",
    "from assembly import db as asmbl_db\n",
    "from assembly import models as asmbl_models"
   ]
  },
  {
   "cell_type": "code",
   "execution_count": null,
   "metadata": {
    "ExecuteTime": {
     "end_time": "2020-08-14T02:49:15.178392Z",
     "start_time": "2020-08-14T02:49:14.181511Z"
    }
   },
   "outputs": [],
   "source": [
    "from lib.tweemio import twitter\n",
    "from lib.tweemio import similarity"
   ]
  },
  {
   "cell_type": "markdown",
   "metadata": {},
   "source": [
    "### Initializations"
   ]
  },
  {
   "cell_type": "code",
   "execution_count": null,
   "metadata": {
    "ExecuteTime": {
     "end_time": "2020-08-14T02:49:15.570993Z",
     "start_time": "2020-08-14T02:49:15.181714Z"
    }
   },
   "outputs": [],
   "source": [
    "#  Assembly initialization - will use configs defined for env in question\n",
    "os.environ['ASSEMBLY_ENV'] = 'Development'\n",
    "app = assembly.Assembly.init(__name__, {'default': []})"
   ]
  },
  {
   "cell_type": "code",
   "execution_count": null,
   "metadata": {
    "ExecuteTime": {
     "end_time": "2020-08-14T02:49:16.319172Z",
     "start_time": "2020-08-14T02:49:16.312829Z"
    }
   },
   "outputs": [],
   "source": [
    "twapi = twitter.TwitterApi(asmbl_config['TWITTER_API_CREDS'])"
   ]
  },
  {
   "cell_type": "markdown",
   "metadata": {},
   "source": [
    "### User Inputs"
   ]
  },
  {
   "cell_type": "code",
   "execution_count": null,
   "metadata": {
    "ExecuteTime": {
     "end_time": "2020-08-14T02:49:17.529652Z",
     "start_time": "2020-08-14T02:49:17.525280Z"
    }
   },
   "outputs": [],
   "source": [
    "userprofile_save_location = '/Users/liangjh/workspace/tweemio-api/resources/model_user_profiles.json'\n",
    "timelines_save_location = '/Users/liangjh/workspace/tweemio-api/data/mdl-timelines/'"
   ]
  },
  {
   "cell_type": "code",
   "execution_count": null,
   "metadata": {
    "ExecuteTime": {
     "end_time": "2020-08-14T02:49:18.036878Z",
     "start_time": "2020-08-14T02:49:18.032883Z"
    }
   },
   "outputs": [],
   "source": [
    "#  Full list of twitter handles, across multiple categories\n",
    "#  Download full timelines (or as much as the API will give us)\n",
    "twitter_handles = list(itertools.chain(*[spec['screen_names'] \n",
    "                                         for category,spec in app.config['SIMILARITY_COMPARISONS'].items()]))"
   ]
  },
  {
   "cell_type": "markdown",
   "metadata": {},
   "source": [
    "### Timeline Download, Save to Disk"
   ]
  },
  {
   "cell_type": "code",
   "execution_count": null,
   "metadata": {
    "ExecuteTime": {
     "end_time": "2020-08-14T02:54:43.723027Z",
     "start_time": "2020-08-14T02:54:43.717675Z"
    }
   },
   "outputs": [],
   "source": [
    "twitter_handles.index('johnlegendbillmaher')"
   ]
  },
  {
   "cell_type": "code",
   "execution_count": null,
   "metadata": {
    "ExecuteTime": {
     "end_time": "2020-08-14T02:52:09.278327Z",
     "start_time": "2020-08-14T02:49:27.099290Z"
    }
   },
   "outputs": [],
   "source": [
    "#  Serialize to JSON, save w/ timestamp\n",
    "timeline_map = {}\n",
    "for screen_name in twitter_handles:\n",
    "    print(f'Downloading timeline for screen name: {screen_name}')\n",
    "    user_timeline = twapi.timeline_raw(screen_name)\n",
    "    timeline_map[screen_name] = user_timeline"
   ]
  },
  {
   "cell_type": "code",
   "execution_count": null,
   "metadata": {
    "ExecuteTime": {
     "end_time": "2020-08-14T02:56:56.481517Z",
     "start_time": "2020-08-14T02:56:35.641048Z"
    },
    "scrolled": true
   },
   "outputs": [],
   "source": [
    "for screen_name, tline in timeline_map.items():\n",
    "    print(f'writing {screen_name} to file...')\n",
    "    tline_js = [tli._json for tli in tline]\n",
    "    with open(f\"{timelines_save_location}/{datetime.date.today().strftime('%Y%m%d')}__{screen_name}.json\", \"w\") as outfile:\n",
    "        json.dump(tline_js, outfile)"
   ]
  },
  {
   "cell_type": "markdown",
   "metadata": {
    "ExecuteTime": {
     "end_time": "2020-01-26T21:23:09.088006Z",
     "start_time": "2020-01-26T21:23:09.078114Z"
    }
   },
   "source": [
    "### User Profile Download, Persist to JSON"
   ]
  },
  {
   "cell_type": "markdown",
   "metadata": {},
   "source": [
    "Users that are used to calibrate model and provide similarity scores against.   \n",
    "Save some of their profile information to a JSON to allow front-end to render "
   ]
  },
  {
   "cell_type": "code",
   "execution_count": null,
   "metadata": {
    "ExecuteTime": {
     "end_time": "2020-08-13T01:58:17.791919Z",
     "start_time": "2020-08-13T01:58:17.773720Z"
    }
   },
   "outputs": [],
   "source": [
    "# ** If Needed **\n",
    "#  Load timelines (for readability analysis)\n",
    "# timeline_map = {}\n",
    "# for screen_name in twitter_handles:\n",
    "#     with open(f\"{timelines_save_location}/{datetime.date.today().strftime('%Y%m%d')__{screen_name}}.json\") as f:\n",
    "#         tline_data = json.load(f);\n",
    "#     timeline_map[screen_name] = tline_data"
   ]
  },
  {
   "cell_type": "code",
   "execution_count": null,
   "metadata": {
    "ExecuteTime": {
     "end_time": "2020-08-14T03:01:58.956078Z",
     "start_time": "2020-08-14T03:00:11.046526Z"
    }
   },
   "outputs": [],
   "source": [
    "user_profile_map = {}\n",
    "for screen_name in twitter_handles:\n",
    "    print('getting user: ' + screen_name)\n",
    "    usr = twapi.user(screen_name=screen_name)   \n",
    "\n",
    "    #  Calc readability score, save\n",
    "    tline = timeline_map[screen_name]\n",
    "    timeline_text  = list(reversed([tli._json['full_text'] for tli in tline]))\n",
    "    timeline_text =  twitter.TwitterApi.timeline_filter(timeline_text, condense_factor=asmbl_config['TWEET_CONDENSE_FACTOR'])\n",
    "    readability = similarity.mdl_readability_scores(timeline_text)    \n",
    "\n",
    "    user_profile_map[screen_name] = {\n",
    "        'user': {\n",
    "            'screen_name': screen_name,\n",
    "            'name': usr.name,\n",
    "            'desc': usr.description,\n",
    "            'profile_img': usr.profile_image_url_https\n",
    "        },\n",
    "        'readability': readability\n",
    "    }"
   ]
  },
  {
   "cell_type": "code",
   "execution_count": null,
   "metadata": {
    "ExecuteTime": {
     "end_time": "2020-08-14T03:03:35.230783Z",
     "start_time": "2020-08-14T03:03:35.221153Z"
    }
   },
   "outputs": [],
   "source": [
    "with open(userprofile_save_location, 'w') as outfile:\n",
    "    json.dump(user_profile_map, outfile)"
   ]
  },
  {
   "cell_type": "code",
   "execution_count": null,
   "metadata": {},
   "outputs": [],
   "source": []
  }
 ],
 "metadata": {
  "kernelspec": {
   "display_name": "Python 3",
   "language": "python",
   "name": "python3"
  },
  "language_info": {
   "codemirror_mode": {
    "name": "ipython",
    "version": 3
   },
   "file_extension": ".py",
   "mimetype": "text/x-python",
   "name": "python",
   "nbconvert_exporter": "python",
   "pygments_lexer": "ipython3",
   "version": "3.7.1"
  }
 },
 "nbformat": 4,
 "nbformat_minor": 2
}
