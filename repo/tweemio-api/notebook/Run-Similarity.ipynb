{
 "cells": [
  {
   "cell_type": "markdown",
   "metadata": {},
   "source": [
    "# Tweem.io Similarity Comparison"
   ]
  },
  {
   "cell_type": "markdown",
   "metadata": {},
   "source": [
    "### Imports"
   ]
  },
  {
   "cell_type": "code",
   "execution_count": 1,
   "metadata": {
    "ExecuteTime": {
     "end_time": "2020-02-02T01:53:55.885879Z",
     "start_time": "2020-02-02T01:53:55.881799Z"
    }
   },
   "outputs": [],
   "source": [
    "#  Necessary to allow assembly framework to run\n",
    "import os\n",
    "os.chdir('..')"
   ]
  },
  {
   "cell_type": "code",
   "execution_count": 2,
   "metadata": {
    "ExecuteTime": {
     "end_time": "2020-02-02T01:53:58.412567Z",
     "start_time": "2020-02-02T01:53:55.888480Z"
    }
   },
   "outputs": [],
   "source": [
    "import pandas as pd\n",
    "import numpy as np\n",
    "import inspect\n",
    "import importlib\n",
    "\n",
    "import assembly\n",
    "from assembly import config as asmbl_config\n",
    "from assembly import db as asmbl_db\n",
    "from assembly import models as asmbl_models\n",
    "\n",
    "from lib.tweemio import twm\n",
    "from lib.tweemio import similarity\n",
    "from lib.tweemio import twitter"
   ]
  },
  {
   "cell_type": "code",
   "execution_count": 3,
   "metadata": {
    "ExecuteTime": {
     "end_time": "2020-02-02T00:39:22.465577Z",
     "start_time": "2020-02-02T00:39:22.462945Z"
    }
   },
   "outputs": [],
   "source": [
    "# importlib.reload(similarity)\n",
    "# importlib.reload(filepersist)"
   ]
  },
  {
   "cell_type": "markdown",
   "metadata": {},
   "source": [
    "### Settings"
   ]
  },
  {
   "cell_type": "code",
   "execution_count": 3,
   "metadata": {
    "ExecuteTime": {
     "end_time": "2020-02-02T00:50:56.595953Z",
     "start_time": "2020-02-02T00:50:56.535424Z"
    }
   },
   "outputs": [],
   "source": [
    "os.environ['ASSEMBLY_ENV'] = 'Development'\n",
    "app = assembly.Assembly.init(__name__, {'default': []})"
   ]
  },
  {
   "cell_type": "markdown",
   "metadata": {},
   "source": [
    "### Calculate Similarity to Group"
   ]
  },
  {
   "cell_type": "code",
   "execution_count": 4,
   "metadata": {
    "ExecuteTime": {
     "end_time": "2020-02-02T00:51:01.240812Z",
     "start_time": "2020-02-02T00:50:57.766353Z"
    }
   },
   "outputs": [],
   "source": [
    "results = twm.calculate(app.config, screen_name='barackobama', group='trumpian', force=True) #, compare_to_screen_names=['realdonaldtrump'])"
   ]
  },
  {
   "cell_type": "code",
   "execution_count": 44,
   "metadata": {
    "ExecuteTime": {
     "end_time": "2020-01-27T16:26:59.707123Z",
     "start_time": "2020-01-27T16:26:59.697165Z"
    }
   },
   "outputs": [
    {
     "data": {
      "text/plain": [
       "{'realdonaldtrump': 0.0362871456636854,\n",
       " 'kellyannepolls': 0.05737222991201928,\n",
       " 'secpompeo': 0.11167948068663866,\n",
       " 'mike_pence': 0.06720481314569705,\n",
       " 'devinnunes': 1.9921557356344103e-05,\n",
       " 'lindseygrahamsc': 0.007312821960141586,\n",
       " 'donaldjtrumpjr': 0.0015974980293346611,\n",
       " 'rudygiuliani': 0.0007456474545912521,\n",
       " 'govmikehuckabee': 0.00879048543646449,\n",
       " 'alandersh': 0.00044566331079554106,\n",
       " 'repmattgaetz': 0.0010570736682972686,\n",
       " 'jim_jordan': 0.0046734620896466015,\n",
       " 'repmarkmeadows': 0.0002013814121971472,\n",
       " 'gopleader': 0.008936633656353447,\n",
       " 'gtconway3d': 0.00020415448715250007,\n",
       " 'scaramucci': 0.01527626348948547}"
      ]
     },
     "execution_count": 44,
     "metadata": {},
     "output_type": "execute_result"
    }
   ],
   "source": [
    "{screen_name : np.mean(result.y_prob) for screen_name, result in results.items()}"
   ]
  },
  {
   "cell_type": "markdown",
   "metadata": {},
   "source": [
    "### Scratchpad"
   ]
  },
  {
   "cell_type": "code",
   "execution_count": 68,
   "metadata": {
    "ExecuteTime": {
     "end_time": "2020-01-28T01:00:51.987804Z",
     "start_time": "2020-01-28T01:00:51.984584Z"
    }
   },
   "outputs": [],
   "source": [
    "screen_name='barackobama'"
   ]
  },
  {
   "cell_type": "code",
   "execution_count": 66,
   "metadata": {
    "ExecuteTime": {
     "end_time": "2020-01-28T01:00:07.870771Z",
     "start_time": "2020-01-28T01:00:07.864798Z"
    }
   },
   "outputs": [],
   "source": [
    "tapi = twitter.TwitterApi(app.config['TWITTER_API_CREDS'])\n",
    "tweets = tapi.timeline(screen_name, condense_factor=app.config['TWEET_CONDENSE_FACTOR'])"
   ]
  },
  {
   "cell_type": "code",
   "execution_count": 74,
   "metadata": {
    "ExecuteTime": {
     "end_time": "2020-01-28T01:02:16.049526Z",
     "start_time": "2020-01-28T01:02:15.549789Z"
    }
   },
   "outputs": [],
   "source": [
    "nlp_parser = similarity.get_nlp_readability()\n",
    "\n",
    "nlpdocs = [nlp_parser(tweet) for tweet in tweets]\n",
    "\n",
    "fkgl  = [nlpdoc._.flesch_kincaid_grade_level for nlpdoc in nlpdocs]\n",
    "fkre  = [nlpdoc._.flesch_kincaid_reading_ease for nlpdoc in nlpdocs]\n",
    "dc    = [nlpdoc._.dale_chall for nlpdoc in nlpdocs]\n",
    "cl    = [nlpdoc._.coleman_liau_index for nlpdoc in nlpdocs]\n",
    "autor = [nlpdoc._.automated_readability_index for nlpdoc in nlpdocs]\n",
    "\n",
    "{\n",
    "    'flesch_kincaid_grade_level': np.mean(fkgl),\n",
    "    'flesch_kincaid_reading_ease': np.mean(fkre),\n",
    "    'dale_chall': np.mean(dc),\n",
    "    'coleman_liau_index': np.mean(cl),\n",
    "    'automated_readability_index': np.mean(autor)\n",
    "}"
   ]
  },
  {
   "cell_type": "code",
   "execution_count": null,
   "metadata": {},
   "outputs": [],
   "source": [
    "# ============================================================================================"
   ]
  },
  {
   "cell_type": "code",
   "execution_count": null,
   "metadata": {},
   "outputs": [],
   "source": [
    "# POC w/ google cloud service\n",
    "# Load creds locally, then set into credentials object"
   ]
  },
  {
   "cell_type": "code",
   "execution_count": 131,
   "metadata": {
    "ExecuteTime": {
     "end_time": "2020-01-29T04:14:07.233780Z",
     "start_time": "2020-01-29T04:14:07.230326Z"
    }
   },
   "outputs": [],
   "source": [
    "import json\n",
    "from google.cloud import storage\n",
    "from google.oauth2 import service_account"
   ]
  },
  {
   "cell_type": "code",
   "execution_count": 148,
   "metadata": {
    "ExecuteTime": {
     "end_time": "2020-01-29T04:22:38.325409Z",
     "start_time": "2020-01-29T04:22:38.321081Z"
    }
   },
   "outputs": [],
   "source": [
    "with open('/Users/liangjh/workspace/tspire-api/app/resources/gcs-tspire-creds.json', 'r') as f:\n",
    "    credinfo = json.load(f)\n",
    "\n",
    "credentials = service_account.Credentials.from_service_account_info(credinfo)\n",
    "storage_client = storage.Client('tspire', credentials=credentials)"
   ]
  },
  {
   "cell_type": "code",
   "execution_count": 153,
   "metadata": {
    "ExecuteTime": {
     "end_time": "2020-01-29T04:25:03.264479Z",
     "start_time": "2020-01-29T04:25:01.905762Z"
    }
   },
   "outputs": [],
   "source": [
    "bucket = storage_client.get_bucket('images.trumpspired.com')"
   ]
  },
  {
   "cell_type": "code",
   "execution_count": null,
   "metadata": {
    "ExecuteTime": {
     "end_time": "2020-01-29T04:25:25.304223Z",
     "start_time": "2020-01-29T04:25:23.528852Z"
    }
   },
   "outputs": [],
   "source": [
    "list(bucket.list_blobs())"
   ]
  },
  {
   "cell_type": "code",
   "execution_count": 158,
   "metadata": {
    "ExecuteTime": {
     "end_time": "2020-01-29T04:26:06.298475Z",
     "start_time": "2020-01-29T04:26:06.235221Z"
    }
   },
   "outputs": [],
   "source": [
    "blob = bucket.get_blob('generated/002fd842e6f74ddebdd88895bdf2b499.jpg')"
   ]
  },
  {
   "cell_type": "code",
   "execution_count": 4,
   "metadata": {
    "ExecuteTime": {
     "end_time": "2020-01-30T04:17:16.093546Z",
     "start_time": "2020-01-30T04:17:15.808438Z"
    }
   },
   "outputs": [],
   "source": [
    "from lib.tweemio import filepersist"
   ]
  },
  {
   "cell_type": "code",
   "execution_count": 16,
   "metadata": {
    "ExecuteTime": {
     "end_time": "2020-01-30T04:16:04.116544Z",
     "start_time": "2020-01-30T04:16:04.110623Z"
    }
   },
   "outputs": [
    {
     "data": {
      "text/plain": [
       "<module 'lib.tweemio.filepersist' from '/Users/liangjh/Workspace/tweemio-api/lib/tweemio/filepersist.py'>"
      ]
     },
     "execution_count": 16,
     "metadata": {},
     "output_type": "execute_result"
    }
   ],
   "source": [
    "importlib.reload(filepersist)"
   ]
  },
  {
   "cell_type": "code",
   "execution_count": 5,
   "metadata": {
    "ExecuteTime": {
     "end_time": "2020-01-30T04:17:18.313250Z",
     "start_time": "2020-01-30T04:17:18.306811Z"
    }
   },
   "outputs": [],
   "source": [
    "client = filepersist.gcs_client()"
   ]
  },
  {
   "cell_type": "code",
   "execution_count": 7,
   "metadata": {
    "ExecuteTime": {
     "end_time": "2020-01-30T04:17:43.990388Z",
     "start_time": "2020-01-30T04:17:42.650366Z"
    }
   },
   "outputs": [],
   "source": [
    "bucket = client.get_bucket('images.trumpspired.com')"
   ]
  },
  {
   "cell_type": "code",
   "execution_count": 39,
   "metadata": {
    "ExecuteTime": {
     "end_time": "2020-02-02T00:11:50.880022Z",
     "start_time": "2020-02-02T00:11:50.866151Z"
    }
   },
   "outputs": [],
   "source": [
    "import uuid"
   ]
  },
  {
   "cell_type": "code",
   "execution_count": 40,
   "metadata": {
    "ExecuteTime": {
     "end_time": "2020-02-02T00:12:01.941753Z",
     "start_time": "2020-02-02T00:12:01.935552Z"
    }
   },
   "outputs": [],
   "source": [
    "guid = uuid.uuid4().hex"
   ]
  },
  {
   "cell_type": "code",
   "execution_count": 43,
   "metadata": {
    "ExecuteTime": {
     "end_time": "2020-02-02T00:13:57.941031Z",
     "start_time": "2020-02-02T00:13:57.924598Z"
    }
   },
   "outputs": [],
   "source": [
    "mdl = asmbl_models.TwmUserCalc.create(\n",
    "        screen_name='jliang1', grp='trumpian', uuid=guid)"
   ]
  },
  {
   "cell_type": "code",
   "execution_count": 44,
   "metadata": {
    "ExecuteTime": {
     "end_time": "2020-02-02T00:14:14.985682Z",
     "start_time": "2020-02-02T00:14:14.979400Z"
    }
   },
   "outputs": [
    {
     "data": {
      "text/plain": [
       "<TwmUserCalc>"
      ]
     },
     "execution_count": 44,
     "metadata": {},
     "output_type": "execute_result"
    }
   ],
   "source": [
    "mdl.update()"
   ]
  },
  {
   "cell_type": "code",
   "execution_count": 46,
   "metadata": {
    "ExecuteTime": {
     "end_time": "2020-02-02T00:15:21.012982Z",
     "start_time": "2020-02-02T00:15:20.972779Z"
    }
   },
   "outputs": [
    {
     "data": {
      "text/plain": [
       "<TwmUserCalc>"
      ]
     },
     "execution_count": 46,
     "metadata": {},
     "output_type": "execute_result"
    }
   ],
   "source": [
    "mdl.delete()"
   ]
  },
  {
   "cell_type": "code",
   "execution_count": 48,
   "metadata": {
    "ExecuteTime": {
     "end_time": "2020-02-02T00:29:12.831226Z",
     "start_time": "2020-02-02T00:29:12.825102Z"
    }
   },
   "outputs": [
    {
     "data": {
      "text/plain": [
       "'20200201'"
      ]
     },
     "execution_count": 48,
     "metadata": {},
     "output_type": "execute_result"
    }
   ],
   "source": [
    "datetime.date.today().strftime('%Y%m%d')"
   ]
  },
  {
   "cell_type": "code",
   "execution_count": null,
   "metadata": {},
   "outputs": [],
   "source": []
  }
 ],
 "metadata": {
  "kernelspec": {
   "display_name": "Python 3",
   "language": "python",
   "name": "python3"
  },
  "language_info": {
   "codemirror_mode": {
    "name": "ipython",
    "version": 3
   },
   "file_extension": ".py",
   "mimetype": "text/x-python",
   "name": "python",
   "nbconvert_exporter": "python",
   "pygments_lexer": "ipython3",
   "version": "3.7.1"
  }
 },
 "nbformat": 4,
 "nbformat_minor": 2
}
