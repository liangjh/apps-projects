{
 "cells": [
  {
   "cell_type": "markdown",
   "metadata": {},
   "source": [
    "# TWEEM.IO SIMILARITY MODEL"
   ]
  },
  {
   "cell_type": "markdown",
   "metadata": {},
   "source": [
    "## Multinomial Naive Bayes Text Classifier: v1.0"
   ]
  },
  {
   "cell_type": "markdown",
   "metadata": {},
   "source": [
    "Uses Multinomial Naive Bayes Classifier  \n",
    "Corpus is full list of tweets from group / category  \n",
    "Tweets can be downloaded via a different notebook, and persisted via a different notebook  \n",
    "Tweet library is vectorized via count vectorizer or td-idf  \n",
    "Use of NLP (spacy) to remove stop words, lemmatization, etc during training phases  \n",
    "Data persisted to local FS.  We can use local info  "
   ]
  },
  {
   "cell_type": "markdown",
   "metadata": {},
   "source": [
    "### Imports"
   ]
  },
  {
   "cell_type": "code",
   "execution_count": 1,
   "metadata": {
    "ExecuteTime": {
     "end_time": "2020-07-11T19:46:51.932710Z",
     "start_time": "2020-07-11T19:46:51.927154Z"
    }
   },
   "outputs": [],
   "source": [
    "#  Change to project base to allow assembly framework to init properly\n",
    "import os\n",
    "os.chdir('..')"
   ]
  },
  {
   "cell_type": "code",
   "execution_count": 2,
   "metadata": {
    "ExecuteTime": {
     "end_time": "2020-07-11T19:46:52.838876Z",
     "start_time": "2020-07-11T19:46:51.935598Z"
    }
   },
   "outputs": [],
   "source": [
    "import re\n",
    "import json\n",
    "import itertools\n",
    "import functools\n",
    "# import spacy\n",
    "# import spacy_readability\n",
    "import string\n",
    "import collections\n",
    "import datetime\n",
    "import importlib\n",
    "import pandas as pd\n",
    "import numpy as np\n",
    "import pickle"
   ]
  },
  {
   "cell_type": "code",
   "execution_count": 3,
   "metadata": {
    "ExecuteTime": {
     "end_time": "2020-07-11T19:46:53.871929Z",
     "start_time": "2020-07-11T19:46:52.842181Z"
    }
   },
   "outputs": [],
   "source": [
    "#  Scikit-learn imports\n",
    "import sklearn\n",
    "from sklearn import tree as skl_tree\n",
    "from sklearn import metrics as skl_metrics\n",
    "from sklearn import model_selection as skl_model_selection\n",
    "from sklearn import linear_model as skl_linear\n",
    "from sklearn import naive_bayes as skl_naive_bayes\n",
    "from sklearn import preprocessing as skl_preprocess\n",
    "from sklearn import feature_extraction as skl_ftex"
   ]
  },
  {
   "cell_type": "code",
   "execution_count": 5,
   "metadata": {
    "ExecuteTime": {
     "end_time": "2020-07-11T19:47:37.611682Z",
     "start_time": "2020-07-11T19:47:36.865507Z"
    }
   },
   "outputs": [],
   "source": [
    "import assembly\n",
    "from assembly import config as asmbl_config\n",
    "from assembly import db as asmbl_db\n",
    "from assembly import models as asmbl_models\n",
    "\n",
    "from lib.tweemio import twm\n",
    "from lib.tweemio import similarity\n",
    "from lib.tweemio import twitter"
   ]
  },
  {
   "cell_type": "code",
   "execution_count": 6,
   "metadata": {
    "ExecuteTime": {
     "end_time": "2020-07-11T19:47:39.674474Z",
     "start_time": "2020-07-11T19:47:39.340223Z"
    }
   },
   "outputs": [],
   "source": [
    "import seaborn as sns\n",
    "import matplotlib.pyplot as plt\n",
    "%matplotlib notebook "
   ]
  },
  {
   "cell_type": "code",
   "execution_count": 7,
   "metadata": {
    "ExecuteTime": {
     "end_time": "2020-07-11T19:47:40.497037Z",
     "start_time": "2020-07-11T19:47:40.293348Z"
    }
   },
   "outputs": [],
   "source": [
    "import spacy\n",
    "from spacy.lang.en.stop_words import STOP_WORDS"
   ]
  },
  {
   "cell_type": "markdown",
   "metadata": {},
   "source": [
    "### Settings"
   ]
  },
  {
   "cell_type": "code",
   "execution_count": 8,
   "metadata": {
    "ExecuteTime": {
     "end_time": "2020-07-11T19:47:46.495892Z",
     "start_time": "2020-07-11T19:47:46.066593Z"
    }
   },
   "outputs": [
    {
     "data": {
      "text/plain": [
       "[('tagger', <spacy.pipeline.pipes.Tagger at 0x11e2468d0>),\n",
       " ('parser', <spacy.pipeline.pipes.DependencyParser at 0x11e3a6168>),\n",
       " ('ner', <spacy.pipeline.pipes.EntityRecognizer at 0x11e3a61c8>)]"
      ]
     },
     "execution_count": 8,
     "metadata": {},
     "output_type": "execute_result"
    }
   ],
   "source": [
    "#  Initialize small english module\n",
    "#  We only need the tokenizer & lemmatizer\n",
    "nlp = spacy.load(\"en_core_web_sm\")\n",
    "nlp.disable_pipes(*['tagger','parser','ner'])"
   ]
  },
  {
   "cell_type": "code",
   "execution_count": 9,
   "metadata": {
    "ExecuteTime": {
     "end_time": "2020-07-11T19:47:49.258313Z",
     "start_time": "2020-07-11T19:47:48.965814Z"
    }
   },
   "outputs": [],
   "source": [
    "#  Assembly initialization - will use configs defined for env in question\n",
    "os.environ['ASSEMBLY_ENV'] = 'Development'\n",
    "app = assembly.Assembly.init(__name__, {'default': []})"
   ]
  },
  {
   "cell_type": "markdown",
   "metadata": {},
   "source": [
    "### Calibration / Testing Inputs"
   ]
  },
  {
   "cell_type": "markdown",
   "metadata": {},
   "source": [
    "Settings controlling model calibration"
   ]
  },
  {
   "cell_type": "code",
   "execution_count": 10,
   "metadata": {
    "ExecuteTime": {
     "end_time": "2020-07-11T19:48:05.304480Z",
     "start_time": "2020-07-11T19:48:05.300691Z"
    }
   },
   "outputs": [],
   "source": [
    "group = 'trumpian'  # name of group (default)\n",
    "condense_factor = 4   #  Tweets to combine into a single observation for model training purposes\n",
    "tline_recents = 400  #  How many recent tweets to evaluate in model\n",
    "tline_suffix = '20200126'  #  Last time tweet timeline was pulled \n",
    "tline_save_location = '/Users/liangjh/Workspace/tweemio-api/data/timelines'  # Timeline persistence location\n",
    "model_persist_dir = '/Users/liangjh/Workspace/tweemio-api/data/models'  #  Model persistence location"
   ]
  },
  {
   "cell_type": "code",
   "execution_count": 11,
   "metadata": {
    "ExecuteTime": {
     "end_time": "2020-07-11T19:48:06.203838Z",
     "start_time": "2020-07-11T19:48:06.200453Z"
    }
   },
   "outputs": [],
   "source": [
    "#  Twitter screen names to evaluate / calibrate (depends on the group)\n",
    "twitter_handles = app.config['SIMILARITY_COMPARISONS'][group]['screen_names']"
   ]
  },
  {
   "cell_type": "markdown",
   "metadata": {
    "ExecuteTime": {
     "end_time": "2020-01-21T03:48:18.065992Z",
     "start_time": "2020-01-21T03:48:18.063273Z"
    }
   },
   "source": [
    "### Load Saved Tweet Timelines"
   ]
  },
  {
   "cell_type": "code",
   "execution_count": 12,
   "metadata": {
    "ExecuteTime": {
     "end_time": "2020-07-11T19:48:24.216141Z",
     "start_time": "2020-07-11T19:48:20.852126Z"
    }
   },
   "outputs": [],
   "source": [
    "#  All timeline JSON saved to file system (as of last retrieval)\n",
    "#  Load / parse for extraction\n",
    "timeline_map = {}\n",
    "for screen_name in twitter_handles:\n",
    "#     print(f'Loading {screen_name}')\n",
    "    fileloc = f'{tline_save_location}/{screen_name}-{tline_suffix}.json'\n",
    "    with open(fileloc, 'r') as infile:\n",
    "        content = json.load(infile)\n",
    "        timeline_map[screen_name] = content"
   ]
  },
  {
   "cell_type": "code",
   "execution_count": 13,
   "metadata": {
    "ExecuteTime": {
     "end_time": "2020-07-11T19:48:30.412964Z",
     "start_time": "2020-07-11T19:48:30.386638Z"
    }
   },
   "outputs": [],
   "source": [
    "timeline_text = {screen_name: list(reversed([tli['full_text'] for tli in tline])) \n",
    "                 for screen_name, tline in timeline_map.items()}\n",
    "timeline_text = {screen_name:tl[-tline_recents:] for screen_name,tl in timeline_text.items()}"
   ]
  },
  {
   "cell_type": "markdown",
   "metadata": {},
   "source": [
    "### Construct Tweet Timeline"
   ]
  },
  {
   "cell_type": "code",
   "execution_count": 15,
   "metadata": {
    "ExecuteTime": {
     "end_time": "2020-07-11T19:49:22.638228Z",
     "start_time": "2020-07-11T19:49:19.339809Z"
    }
   },
   "outputs": [],
   "source": [
    "#  Combine all timelines into a single dataframe, for feature extraction\n",
    "tl_dfs = []\n",
    "for screen_name, tline in timeline_text.items():\n",
    "\n",
    "    #  Strip out any urls, put into correct form to condense appropriately\n",
    "    tline_text = [' '.join([('' if (re.match(r'^(http)', word) != None) else word) for word in text.split()]).strip() for text in tline]\n",
    "    tline_text = [t for t in tline_text if len(t.strip()) > 0]\n",
    "    \n",
    "    #  Condense / merge: combine multiple tweets in timeline into single\n",
    "    tline_text = [\n",
    "        ' '.join(timeline_group) for timeline_group in \n",
    "        zip(*[tline_text[n::condense_factor] for n in range(0, condense_factor)])\n",
    "    ]\n",
    "\n",
    "    #  Separate mentions, to lemmatize\n",
    "    tline_text_nomention = [' '.join([('' if (re.match(r'^(@|#|http)', word) != None) else word) for word in text.split()]).strip() for text in tline_text]    \n",
    "    tline_text_mention   = [' '.join([('' if (re.match(r'^(@|#)', word) == None) else word) for word in text.split()]).strip() for text in tline_text]\n",
    "        \n",
    "    #  Lemmatize, then reconstitute mentions with lemmatized non-mentioned text field\n",
    "    tline_text_nomention = [' '.join([tok.lemma_ for tok in nlp(text)]) for text in tline_text_nomention]\n",
    "    tline_text = [nom + ' ' + mn for nom,mn in list(zip(tline_text_nomention, tline_text_mention))]\n",
    "    \n",
    "    tl_df = pd.DataFrame({'screenname': screen_name, 'text': tline_text, \n",
    "                          'text_nomention': tline_text_nomention, 'text_mention': tline_text_mention})\n",
    "    tl_dfs.append(tl_df)\n",
    "\n",
    "feature_df = pd.concat(tl_dfs)"
   ]
  },
  {
   "cell_type": "markdown",
   "metadata": {},
   "source": [
    "### Train Multinomial NB Model"
   ]
  },
  {
   "cell_type": "markdown",
   "metadata": {},
   "source": [
    "Evaluate / fit / train model.   \n",
    "There is the vectorizer and the trained model.  Each should "
   ]
  },
  {
   "cell_type": "code",
   "execution_count": 16,
   "metadata": {
    "ExecuteTime": {
     "end_time": "2020-07-11T19:49:22.653220Z",
     "start_time": "2020-07-11T19:49:22.640166Z"
    }
   },
   "outputs": [],
   "source": [
    "feature_short_df = feature_df[['screenname', 'text', 'text_nomention', 'text_mention']]"
   ]
  },
  {
   "cell_type": "code",
   "execution_count": 17,
   "metadata": {
    "ExecuteTime": {
     "end_time": "2020-07-11T19:49:22.829529Z",
     "start_time": "2020-07-11T19:49:22.654939Z"
    }
   },
   "outputs": [],
   "source": [
    "#  As we are evaluating the full dataframe, we can calibrate the word vector once and use it for all \n",
    "x = feature_short_df.text_nomention\n",
    "# x = feature_short_df.text\n",
    "vect = skl_ftex.text.CountVectorizer(stop_words='english').fit(x)\n",
    "# vect = skl_ftex.text.TfidfVectorizer(stop_words='english').fit(x)"
   ]
  },
  {
   "cell_type": "code",
   "execution_count": 22,
   "metadata": {
    "ExecuteTime": {
     "end_time": "2020-07-11T19:59:57.344993Z",
     "start_time": "2020-07-11T19:59:57.194404Z"
    }
   },
   "outputs": [],
   "source": [
    "#  -- Train Model ---\n",
    "#  Train model for the entire group; all use the same underlying data\n",
    "#  Text to sparse matrix (features) (X)\n",
    "x = feature_short_df.text\n",
    "x_dtm = vect.transform(x)\n",
    "#  Set labels to train on (Y)\n",
    "y = feature_short_df.screenname\n",
    "#  Fit Naive Bayes Multinomial\n",
    "model_nb = skl_naive_bayes.MultinomialNB()\n",
    "model_nb.fit(x_dtm, y)\n",
    "common_model = model_nb"
   ]
  },
  {
   "cell_type": "markdown",
   "metadata": {},
   "source": [
    "### Test / Evaluate"
   ]
  },
  {
   "cell_type": "markdown",
   "metadata": {},
   "source": [
    "Evaluate all similarity combinations within a given group, against latest tweet stream.  \n",
    "Authors should be highly similar to his/her own tweet stresm (given models), and sufficiently different from other authors"
   ]
  },
  {
   "cell_type": "code",
   "execution_count": 28,
   "metadata": {
    "ExecuteTime": {
     "end_time": "2020-07-11T20:02:00.666231Z",
     "start_time": "2020-07-11T20:01:44.309515Z"
    }
   },
   "outputs": [],
   "source": [
    "#  Get all timelines in group (most recent)\n",
    "tapi = twitter.TwitterApi(app.config['TWITTER_API_CREDS'])\n",
    "sn_timelines = {screen_name: tapi.timeline(screen_name, condense_factor=condense_factor) for screen_name in twitter_handles}"
   ]
  },
  {
   "cell_type": "code",
   "execution_count": 82,
   "metadata": {
    "ExecuteTime": {
     "end_time": "2020-07-11T21:30:27.747827Z",
     "start_time": "2020-07-11T21:30:27.742764Z"
    }
   },
   "outputs": [],
   "source": [
    "def fit_candidate_common(cnd_timeline, vect, mdl, target_label):\n",
    "    #  Use vectorizer from before\n",
    "    x_vect = vect.transform(cnd_timeline)\n",
    "    #  Get probability of the tweet matching candidate label\n",
    "    y_prob = mdl.predict_proba(x_vect)\n",
    "    y_match_idx = np.where(mdl.classes_ == target_label)[0][0]\n",
    "    y_prob_aln = y_prob[:, y_match_idx]    \n",
    "    return y_prob_aln    "
   ]
  },
  {
   "cell_type": "code",
   "execution_count": 83,
   "metadata": {
    "ExecuteTime": {
     "end_time": "2020-07-11T21:30:31.836867Z",
     "start_time": "2020-07-11T21:30:29.231854Z"
    },
    "scrolled": true
   },
   "outputs": [],
   "source": [
    "#  --- COMMON MODEL CASE ---\n",
    "#  For each screen name, \n",
    "#  Predict fit using group model\n",
    "fit_results = {\n",
    "    (mdl_screen_name, cnd_screen_name) : fit_candidate_common(sn_timelines[cnd_screen_name], vect, common_model, mdl_screen_name)\n",
    "    for cnd_screen_name in twitter_handles\n",
    "    for mdl_screen_name in twitter_handles\n",
    "}    "
   ]
  },
  {
   "cell_type": "code",
   "execution_count": 37,
   "metadata": {
    "ExecuteTime": {
     "end_time": "2020-07-11T20:15:09.816717Z",
     "start_time": "2020-07-11T20:15:09.781354Z"
    }
   },
   "outputs": [],
   "source": [
    "#  Shape into a heatmap plottable object\n",
    "#  Shape everything into dataframe, then unstack\n",
    "score_df = pd.DataFrame([\n",
    "                (keytup[0], keytup[1], avgscore)\n",
    "                for keytup, avgscore in fit_results_scores.items()], \n",
    "            columns=['mdl_sn', 'cnd_sn', 'score']).set_index(['mdl_sn','cnd_sn']).unstack()"
   ]
  },
  {
   "cell_type": "code",
   "execution_count": 38,
   "metadata": {
    "ExecuteTime": {
     "end_time": "2020-07-11T20:15:11.878491Z",
     "start_time": "2020-07-11T20:15:11.608530Z"
    },
    "scrolled": false
   },
   "outputs": [
    {
     "data": {
      "application/javascript": [
       "/* Put everything inside the global mpl namespace */\n",
       "window.mpl = {};\n",
       "\n",
       "\n",
       "mpl.get_websocket_type = function() {\n",
       "    if (typeof(WebSocket) !== 'undefined') {\n",
       "        return WebSocket;\n",
       "    } else if (typeof(MozWebSocket) !== 'undefined') {\n",
       "        return MozWebSocket;\n",
       "    } else {\n",
       "        alert('Your browser does not have WebSocket support. ' +\n",
       "              'Please try Chrome, Safari or Firefox ≥ 6. ' +\n",
       "              'Firefox 4 and 5 are also supported but you ' +\n",
       "              'have to enable WebSockets in about:config.');\n",
       "    };\n",
       "}\n",
       "\n",
       "mpl.figure = function(figure_id, websocket, ondownload, parent_element) {\n",
       "    this.id = figure_id;\n",
       "\n",
       "    this.ws = websocket;\n",
       "\n",
       "    this.supports_binary = (this.ws.binaryType != undefined);\n",
       "\n",
       "    if (!this.supports_binary) {\n",
       "        var warnings = document.getElementById(\"mpl-warnings\");\n",
       "        if (warnings) {\n",
       "            warnings.style.display = 'block';\n",
       "            warnings.textContent = (\n",
       "                \"This browser does not support binary websocket messages. \" +\n",
       "                    \"Performance may be slow.\");\n",
       "        }\n",
       "    }\n",
       "\n",
       "    this.imageObj = new Image();\n",
       "\n",
       "    this.context = undefined;\n",
       "    this.message = undefined;\n",
       "    this.canvas = undefined;\n",
       "    this.rubberband_canvas = undefined;\n",
       "    this.rubberband_context = undefined;\n",
       "    this.format_dropdown = undefined;\n",
       "\n",
       "    this.image_mode = 'full';\n",
       "\n",
       "    this.root = $('<div/>');\n",
       "    this._root_extra_style(this.root)\n",
       "    this.root.attr('style', 'display: inline-block');\n",
       "\n",
       "    $(parent_element).append(this.root);\n",
       "\n",
       "    this._init_header(this);\n",
       "    this._init_canvas(this);\n",
       "    this._init_toolbar(this);\n",
       "\n",
       "    var fig = this;\n",
       "\n",
       "    this.waiting = false;\n",
       "\n",
       "    this.ws.onopen =  function () {\n",
       "            fig.send_message(\"supports_binary\", {value: fig.supports_binary});\n",
       "            fig.send_message(\"send_image_mode\", {});\n",
       "            if (mpl.ratio != 1) {\n",
       "                fig.send_message(\"set_dpi_ratio\", {'dpi_ratio': mpl.ratio});\n",
       "            }\n",
       "            fig.send_message(\"refresh\", {});\n",
       "        }\n",
       "\n",
       "    this.imageObj.onload = function() {\n",
       "            if (fig.image_mode == 'full') {\n",
       "                // Full images could contain transparency (where diff images\n",
       "                // almost always do), so we need to clear the canvas so that\n",
       "                // there is no ghosting.\n",
       "                fig.context.clearRect(0, 0, fig.canvas.width, fig.canvas.height);\n",
       "            }\n",
       "            fig.context.drawImage(fig.imageObj, 0, 0);\n",
       "        };\n",
       "\n",
       "    this.imageObj.onunload = function() {\n",
       "        fig.ws.close();\n",
       "    }\n",
       "\n",
       "    this.ws.onmessage = this._make_on_message_function(this);\n",
       "\n",
       "    this.ondownload = ondownload;\n",
       "}\n",
       "\n",
       "mpl.figure.prototype._init_header = function() {\n",
       "    var titlebar = $(\n",
       "        '<div class=\"ui-dialog-titlebar ui-widget-header ui-corner-all ' +\n",
       "        'ui-helper-clearfix\"/>');\n",
       "    var titletext = $(\n",
       "        '<div class=\"ui-dialog-title\" style=\"width: 100%; ' +\n",
       "        'text-align: center; padding: 3px;\"/>');\n",
       "    titlebar.append(titletext)\n",
       "    this.root.append(titlebar);\n",
       "    this.header = titletext[0];\n",
       "}\n",
       "\n",
       "\n",
       "\n",
       "mpl.figure.prototype._canvas_extra_style = function(canvas_div) {\n",
       "\n",
       "}\n",
       "\n",
       "\n",
       "mpl.figure.prototype._root_extra_style = function(canvas_div) {\n",
       "\n",
       "}\n",
       "\n",
       "mpl.figure.prototype._init_canvas = function() {\n",
       "    var fig = this;\n",
       "\n",
       "    var canvas_div = $('<div/>');\n",
       "\n",
       "    canvas_div.attr('style', 'position: relative; clear: both; outline: 0');\n",
       "\n",
       "    function canvas_keyboard_event(event) {\n",
       "        return fig.key_event(event, event['data']);\n",
       "    }\n",
       "\n",
       "    canvas_div.keydown('key_press', canvas_keyboard_event);\n",
       "    canvas_div.keyup('key_release', canvas_keyboard_event);\n",
       "    this.canvas_div = canvas_div\n",
       "    this._canvas_extra_style(canvas_div)\n",
       "    this.root.append(canvas_div);\n",
       "\n",
       "    var canvas = $('<canvas/>');\n",
       "    canvas.addClass('mpl-canvas');\n",
       "    canvas.attr('style', \"left: 0; top: 0; z-index: 0; outline: 0\")\n",
       "\n",
       "    this.canvas = canvas[0];\n",
       "    this.context = canvas[0].getContext(\"2d\");\n",
       "\n",
       "    var backingStore = this.context.backingStorePixelRatio ||\n",
       "\tthis.context.webkitBackingStorePixelRatio ||\n",
       "\tthis.context.mozBackingStorePixelRatio ||\n",
       "\tthis.context.msBackingStorePixelRatio ||\n",
       "\tthis.context.oBackingStorePixelRatio ||\n",
       "\tthis.context.backingStorePixelRatio || 1;\n",
       "\n",
       "    mpl.ratio = (window.devicePixelRatio || 1) / backingStore;\n",
       "\n",
       "    var rubberband = $('<canvas/>');\n",
       "    rubberband.attr('style', \"position: absolute; left: 0; top: 0; z-index: 1;\")\n",
       "\n",
       "    var pass_mouse_events = true;\n",
       "\n",
       "    canvas_div.resizable({\n",
       "        start: function(event, ui) {\n",
       "            pass_mouse_events = false;\n",
       "        },\n",
       "        resize: function(event, ui) {\n",
       "            fig.request_resize(ui.size.width, ui.size.height);\n",
       "        },\n",
       "        stop: function(event, ui) {\n",
       "            pass_mouse_events = true;\n",
       "            fig.request_resize(ui.size.width, ui.size.height);\n",
       "        },\n",
       "    });\n",
       "\n",
       "    function mouse_event_fn(event) {\n",
       "        if (pass_mouse_events)\n",
       "            return fig.mouse_event(event, event['data']);\n",
       "    }\n",
       "\n",
       "    rubberband.mousedown('button_press', mouse_event_fn);\n",
       "    rubberband.mouseup('button_release', mouse_event_fn);\n",
       "    // Throttle sequential mouse events to 1 every 20ms.\n",
       "    rubberband.mousemove('motion_notify', mouse_event_fn);\n",
       "\n",
       "    rubberband.mouseenter('figure_enter', mouse_event_fn);\n",
       "    rubberband.mouseleave('figure_leave', mouse_event_fn);\n",
       "\n",
       "    canvas_div.on(\"wheel\", function (event) {\n",
       "        event = event.originalEvent;\n",
       "        event['data'] = 'scroll'\n",
       "        if (event.deltaY < 0) {\n",
       "            event.step = 1;\n",
       "        } else {\n",
       "            event.step = -1;\n",
       "        }\n",
       "        mouse_event_fn(event);\n",
       "    });\n",
       "\n",
       "    canvas_div.append(canvas);\n",
       "    canvas_div.append(rubberband);\n",
       "\n",
       "    this.rubberband = rubberband;\n",
       "    this.rubberband_canvas = rubberband[0];\n",
       "    this.rubberband_context = rubberband[0].getContext(\"2d\");\n",
       "    this.rubberband_context.strokeStyle = \"#000000\";\n",
       "\n",
       "    this._resize_canvas = function(width, height) {\n",
       "        // Keep the size of the canvas, canvas container, and rubber band\n",
       "        // canvas in synch.\n",
       "        canvas_div.css('width', width)\n",
       "        canvas_div.css('height', height)\n",
       "\n",
       "        canvas.attr('width', width * mpl.ratio);\n",
       "        canvas.attr('height', height * mpl.ratio);\n",
       "        canvas.attr('style', 'width: ' + width + 'px; height: ' + height + 'px;');\n",
       "\n",
       "        rubberband.attr('width', width);\n",
       "        rubberband.attr('height', height);\n",
       "    }\n",
       "\n",
       "    // Set the figure to an initial 600x600px, this will subsequently be updated\n",
       "    // upon first draw.\n",
       "    this._resize_canvas(600, 600);\n",
       "\n",
       "    // Disable right mouse context menu.\n",
       "    $(this.rubberband_canvas).bind(\"contextmenu\",function(e){\n",
       "        return false;\n",
       "    });\n",
       "\n",
       "    function set_focus () {\n",
       "        canvas.focus();\n",
       "        canvas_div.focus();\n",
       "    }\n",
       "\n",
       "    window.setTimeout(set_focus, 100);\n",
       "}\n",
       "\n",
       "mpl.figure.prototype._init_toolbar = function() {\n",
       "    var fig = this;\n",
       "\n",
       "    var nav_element = $('<div/>');\n",
       "    nav_element.attr('style', 'width: 100%');\n",
       "    this.root.append(nav_element);\n",
       "\n",
       "    // Define a callback function for later on.\n",
       "    function toolbar_event(event) {\n",
       "        return fig.toolbar_button_onclick(event['data']);\n",
       "    }\n",
       "    function toolbar_mouse_event(event) {\n",
       "        return fig.toolbar_button_onmouseover(event['data']);\n",
       "    }\n",
       "\n",
       "    for(var toolbar_ind in mpl.toolbar_items) {\n",
       "        var name = mpl.toolbar_items[toolbar_ind][0];\n",
       "        var tooltip = mpl.toolbar_items[toolbar_ind][1];\n",
       "        var image = mpl.toolbar_items[toolbar_ind][2];\n",
       "        var method_name = mpl.toolbar_items[toolbar_ind][3];\n",
       "\n",
       "        if (!name) {\n",
       "            // put a spacer in here.\n",
       "            continue;\n",
       "        }\n",
       "        var button = $('<button/>');\n",
       "        button.addClass('ui-button ui-widget ui-state-default ui-corner-all ' +\n",
       "                        'ui-button-icon-only');\n",
       "        button.attr('role', 'button');\n",
       "        button.attr('aria-disabled', 'false');\n",
       "        button.click(method_name, toolbar_event);\n",
       "        button.mouseover(tooltip, toolbar_mouse_event);\n",
       "\n",
       "        var icon_img = $('<span/>');\n",
       "        icon_img.addClass('ui-button-icon-primary ui-icon');\n",
       "        icon_img.addClass(image);\n",
       "        icon_img.addClass('ui-corner-all');\n",
       "\n",
       "        var tooltip_span = $('<span/>');\n",
       "        tooltip_span.addClass('ui-button-text');\n",
       "        tooltip_span.html(tooltip);\n",
       "\n",
       "        button.append(icon_img);\n",
       "        button.append(tooltip_span);\n",
       "\n",
       "        nav_element.append(button);\n",
       "    }\n",
       "\n",
       "    var fmt_picker_span = $('<span/>');\n",
       "\n",
       "    var fmt_picker = $('<select/>');\n",
       "    fmt_picker.addClass('mpl-toolbar-option ui-widget ui-widget-content');\n",
       "    fmt_picker_span.append(fmt_picker);\n",
       "    nav_element.append(fmt_picker_span);\n",
       "    this.format_dropdown = fmt_picker[0];\n",
       "\n",
       "    for (var ind in mpl.extensions) {\n",
       "        var fmt = mpl.extensions[ind];\n",
       "        var option = $(\n",
       "            '<option/>', {selected: fmt === mpl.default_extension}).html(fmt);\n",
       "        fmt_picker.append(option);\n",
       "    }\n",
       "\n",
       "    // Add hover states to the ui-buttons\n",
       "    $( \".ui-button\" ).hover(\n",
       "        function() { $(this).addClass(\"ui-state-hover\");},\n",
       "        function() { $(this).removeClass(\"ui-state-hover\");}\n",
       "    );\n",
       "\n",
       "    var status_bar = $('<span class=\"mpl-message\"/>');\n",
       "    nav_element.append(status_bar);\n",
       "    this.message = status_bar[0];\n",
       "}\n",
       "\n",
       "mpl.figure.prototype.request_resize = function(x_pixels, y_pixels) {\n",
       "    // Request matplotlib to resize the figure. Matplotlib will then trigger a resize in the client,\n",
       "    // which will in turn request a refresh of the image.\n",
       "    this.send_message('resize', {'width': x_pixels, 'height': y_pixels});\n",
       "}\n",
       "\n",
       "mpl.figure.prototype.send_message = function(type, properties) {\n",
       "    properties['type'] = type;\n",
       "    properties['figure_id'] = this.id;\n",
       "    this.ws.send(JSON.stringify(properties));\n",
       "}\n",
       "\n",
       "mpl.figure.prototype.send_draw_message = function() {\n",
       "    if (!this.waiting) {\n",
       "        this.waiting = true;\n",
       "        this.ws.send(JSON.stringify({type: \"draw\", figure_id: this.id}));\n",
       "    }\n",
       "}\n",
       "\n",
       "\n",
       "mpl.figure.prototype.handle_save = function(fig, msg) {\n",
       "    var format_dropdown = fig.format_dropdown;\n",
       "    var format = format_dropdown.options[format_dropdown.selectedIndex].value;\n",
       "    fig.ondownload(fig, format);\n",
       "}\n",
       "\n",
       "\n",
       "mpl.figure.prototype.handle_resize = function(fig, msg) {\n",
       "    var size = msg['size'];\n",
       "    if (size[0] != fig.canvas.width || size[1] != fig.canvas.height) {\n",
       "        fig._resize_canvas(size[0], size[1]);\n",
       "        fig.send_message(\"refresh\", {});\n",
       "    };\n",
       "}\n",
       "\n",
       "mpl.figure.prototype.handle_rubberband = function(fig, msg) {\n",
       "    var x0 = msg['x0'] / mpl.ratio;\n",
       "    var y0 = (fig.canvas.height - msg['y0']) / mpl.ratio;\n",
       "    var x1 = msg['x1'] / mpl.ratio;\n",
       "    var y1 = (fig.canvas.height - msg['y1']) / mpl.ratio;\n",
       "    x0 = Math.floor(x0) + 0.5;\n",
       "    y0 = Math.floor(y0) + 0.5;\n",
       "    x1 = Math.floor(x1) + 0.5;\n",
       "    y1 = Math.floor(y1) + 0.5;\n",
       "    var min_x = Math.min(x0, x1);\n",
       "    var min_y = Math.min(y0, y1);\n",
       "    var width = Math.abs(x1 - x0);\n",
       "    var height = Math.abs(y1 - y0);\n",
       "\n",
       "    fig.rubberband_context.clearRect(\n",
       "        0, 0, fig.canvas.width / mpl.ratio, fig.canvas.height / mpl.ratio);\n",
       "\n",
       "    fig.rubberband_context.strokeRect(min_x, min_y, width, height);\n",
       "}\n",
       "\n",
       "mpl.figure.prototype.handle_figure_label = function(fig, msg) {\n",
       "    // Updates the figure title.\n",
       "    fig.header.textContent = msg['label'];\n",
       "}\n",
       "\n",
       "mpl.figure.prototype.handle_cursor = function(fig, msg) {\n",
       "    var cursor = msg['cursor'];\n",
       "    switch(cursor)\n",
       "    {\n",
       "    case 0:\n",
       "        cursor = 'pointer';\n",
       "        break;\n",
       "    case 1:\n",
       "        cursor = 'default';\n",
       "        break;\n",
       "    case 2:\n",
       "        cursor = 'crosshair';\n",
       "        break;\n",
       "    case 3:\n",
       "        cursor = 'move';\n",
       "        break;\n",
       "    }\n",
       "    fig.rubberband_canvas.style.cursor = cursor;\n",
       "}\n",
       "\n",
       "mpl.figure.prototype.handle_message = function(fig, msg) {\n",
       "    fig.message.textContent = msg['message'];\n",
       "}\n",
       "\n",
       "mpl.figure.prototype.handle_draw = function(fig, msg) {\n",
       "    // Request the server to send over a new figure.\n",
       "    fig.send_draw_message();\n",
       "}\n",
       "\n",
       "mpl.figure.prototype.handle_image_mode = function(fig, msg) {\n",
       "    fig.image_mode = msg['mode'];\n",
       "}\n",
       "\n",
       "mpl.figure.prototype.updated_canvas_event = function() {\n",
       "    // Called whenever the canvas gets updated.\n",
       "    this.send_message(\"ack\", {});\n",
       "}\n",
       "\n",
       "// A function to construct a web socket function for onmessage handling.\n",
       "// Called in the figure constructor.\n",
       "mpl.figure.prototype._make_on_message_function = function(fig) {\n",
       "    return function socket_on_message(evt) {\n",
       "        if (evt.data instanceof Blob) {\n",
       "            /* FIXME: We get \"Resource interpreted as Image but\n",
       "             * transferred with MIME type text/plain:\" errors on\n",
       "             * Chrome.  But how to set the MIME type?  It doesn't seem\n",
       "             * to be part of the websocket stream */\n",
       "            evt.data.type = \"image/png\";\n",
       "\n",
       "            /* Free the memory for the previous frames */\n",
       "            if (fig.imageObj.src) {\n",
       "                (window.URL || window.webkitURL).revokeObjectURL(\n",
       "                    fig.imageObj.src);\n",
       "            }\n",
       "\n",
       "            fig.imageObj.src = (window.URL || window.webkitURL).createObjectURL(\n",
       "                evt.data);\n",
       "            fig.updated_canvas_event();\n",
       "            fig.waiting = false;\n",
       "            return;\n",
       "        }\n",
       "        else if (typeof evt.data === 'string' && evt.data.slice(0, 21) == \"data:image/png;base64\") {\n",
       "            fig.imageObj.src = evt.data;\n",
       "            fig.updated_canvas_event();\n",
       "            fig.waiting = false;\n",
       "            return;\n",
       "        }\n",
       "\n",
       "        var msg = JSON.parse(evt.data);\n",
       "        var msg_type = msg['type'];\n",
       "\n",
       "        // Call the  \"handle_{type}\" callback, which takes\n",
       "        // the figure and JSON message as its only arguments.\n",
       "        try {\n",
       "            var callback = fig[\"handle_\" + msg_type];\n",
       "        } catch (e) {\n",
       "            console.log(\"No handler for the '\" + msg_type + \"' message type: \", msg);\n",
       "            return;\n",
       "        }\n",
       "\n",
       "        if (callback) {\n",
       "            try {\n",
       "                // console.log(\"Handling '\" + msg_type + \"' message: \", msg);\n",
       "                callback(fig, msg);\n",
       "            } catch (e) {\n",
       "                console.log(\"Exception inside the 'handler_\" + msg_type + \"' callback:\", e, e.stack, msg);\n",
       "            }\n",
       "        }\n",
       "    };\n",
       "}\n",
       "\n",
       "// from http://stackoverflow.com/questions/1114465/getting-mouse-location-in-canvas\n",
       "mpl.findpos = function(e) {\n",
       "    //this section is from http://www.quirksmode.org/js/events_properties.html\n",
       "    var targ;\n",
       "    if (!e)\n",
       "        e = window.event;\n",
       "    if (e.target)\n",
       "        targ = e.target;\n",
       "    else if (e.srcElement)\n",
       "        targ = e.srcElement;\n",
       "    if (targ.nodeType == 3) // defeat Safari bug\n",
       "        targ = targ.parentNode;\n",
       "\n",
       "    // jQuery normalizes the pageX and pageY\n",
       "    // pageX,Y are the mouse positions relative to the document\n",
       "    // offset() returns the position of the element relative to the document\n",
       "    var x = e.pageX - $(targ).offset().left;\n",
       "    var y = e.pageY - $(targ).offset().top;\n",
       "\n",
       "    return {\"x\": x, \"y\": y};\n",
       "};\n",
       "\n",
       "/*\n",
       " * return a copy of an object with only non-object keys\n",
       " * we need this to avoid circular references\n",
       " * http://stackoverflow.com/a/24161582/3208463\n",
       " */\n",
       "function simpleKeys (original) {\n",
       "  return Object.keys(original).reduce(function (obj, key) {\n",
       "    if (typeof original[key] !== 'object')\n",
       "        obj[key] = original[key]\n",
       "    return obj;\n",
       "  }, {});\n",
       "}\n",
       "\n",
       "mpl.figure.prototype.mouse_event = function(event, name) {\n",
       "    var canvas_pos = mpl.findpos(event)\n",
       "\n",
       "    if (name === 'button_press')\n",
       "    {\n",
       "        this.canvas.focus();\n",
       "        this.canvas_div.focus();\n",
       "    }\n",
       "\n",
       "    var x = canvas_pos.x * mpl.ratio;\n",
       "    var y = canvas_pos.y * mpl.ratio;\n",
       "\n",
       "    this.send_message(name, {x: x, y: y, button: event.button,\n",
       "                             step: event.step,\n",
       "                             guiEvent: simpleKeys(event)});\n",
       "\n",
       "    /* This prevents the web browser from automatically changing to\n",
       "     * the text insertion cursor when the button is pressed.  We want\n",
       "     * to control all of the cursor setting manually through the\n",
       "     * 'cursor' event from matplotlib */\n",
       "    event.preventDefault();\n",
       "    return false;\n",
       "}\n",
       "\n",
       "mpl.figure.prototype._key_event_extra = function(event, name) {\n",
       "    // Handle any extra behaviour associated with a key event\n",
       "}\n",
       "\n",
       "mpl.figure.prototype.key_event = function(event, name) {\n",
       "\n",
       "    // Prevent repeat events\n",
       "    if (name == 'key_press')\n",
       "    {\n",
       "        if (event.which === this._key)\n",
       "            return;\n",
       "        else\n",
       "            this._key = event.which;\n",
       "    }\n",
       "    if (name == 'key_release')\n",
       "        this._key = null;\n",
       "\n",
       "    var value = '';\n",
       "    if (event.ctrlKey && event.which != 17)\n",
       "        value += \"ctrl+\";\n",
       "    if (event.altKey && event.which != 18)\n",
       "        value += \"alt+\";\n",
       "    if (event.shiftKey && event.which != 16)\n",
       "        value += \"shift+\";\n",
       "\n",
       "    value += 'k';\n",
       "    value += event.which.toString();\n",
       "\n",
       "    this._key_event_extra(event, name);\n",
       "\n",
       "    this.send_message(name, {key: value,\n",
       "                             guiEvent: simpleKeys(event)});\n",
       "    return false;\n",
       "}\n",
       "\n",
       "mpl.figure.prototype.toolbar_button_onclick = function(name) {\n",
       "    if (name == 'download') {\n",
       "        this.handle_save(this, null);\n",
       "    } else {\n",
       "        this.send_message(\"toolbar_button\", {name: name});\n",
       "    }\n",
       "};\n",
       "\n",
       "mpl.figure.prototype.toolbar_button_onmouseover = function(tooltip) {\n",
       "    this.message.textContent = tooltip;\n",
       "};\n",
       "mpl.toolbar_items = [[\"Home\", \"Reset original view\", \"fa fa-home icon-home\", \"home\"], [\"Back\", \"Back to previous view\", \"fa fa-arrow-left icon-arrow-left\", \"back\"], [\"Forward\", \"Forward to next view\", \"fa fa-arrow-right icon-arrow-right\", \"forward\"], [\"\", \"\", \"\", \"\"], [\"Pan\", \"Pan axes with left mouse, zoom with right\", \"fa fa-arrows icon-move\", \"pan\"], [\"Zoom\", \"Zoom to rectangle\", \"fa fa-square-o icon-check-empty\", \"zoom\"], [\"\", \"\", \"\", \"\"], [\"Download\", \"Download plot\", \"fa fa-floppy-o icon-save\", \"download\"]];\n",
       "\n",
       "mpl.extensions = [\"eps\", \"pdf\", \"png\", \"ps\", \"raw\", \"svg\"];\n",
       "\n",
       "mpl.default_extension = \"png\";var comm_websocket_adapter = function(comm) {\n",
       "    // Create a \"websocket\"-like object which calls the given IPython comm\n",
       "    // object with the appropriate methods. Currently this is a non binary\n",
       "    // socket, so there is still some room for performance tuning.\n",
       "    var ws = {};\n",
       "\n",
       "    ws.close = function() {\n",
       "        comm.close()\n",
       "    };\n",
       "    ws.send = function(m) {\n",
       "        //console.log('sending', m);\n",
       "        comm.send(m);\n",
       "    };\n",
       "    // Register the callback with on_msg.\n",
       "    comm.on_msg(function(msg) {\n",
       "        //console.log('receiving', msg['content']['data'], msg);\n",
       "        // Pass the mpl event to the overridden (by mpl) onmessage function.\n",
       "        ws.onmessage(msg['content']['data'])\n",
       "    });\n",
       "    return ws;\n",
       "}\n",
       "\n",
       "mpl.mpl_figure_comm = function(comm, msg) {\n",
       "    // This is the function which gets called when the mpl process\n",
       "    // starts-up an IPython Comm through the \"matplotlib\" channel.\n",
       "\n",
       "    var id = msg.content.data.id;\n",
       "    // Get hold of the div created by the display call when the Comm\n",
       "    // socket was opened in Python.\n",
       "    var element = $(\"#\" + id);\n",
       "    var ws_proxy = comm_websocket_adapter(comm)\n",
       "\n",
       "    function ondownload(figure, format) {\n",
       "        window.open(figure.imageObj.src);\n",
       "    }\n",
       "\n",
       "    var fig = new mpl.figure(id, ws_proxy,\n",
       "                           ondownload,\n",
       "                           element.get(0));\n",
       "\n",
       "    // Call onopen now - mpl needs it, as it is assuming we've passed it a real\n",
       "    // web socket which is closed, not our websocket->open comm proxy.\n",
       "    ws_proxy.onopen();\n",
       "\n",
       "    fig.parent_element = element.get(0);\n",
       "    fig.cell_info = mpl.find_output_cell(\"<div id='\" + id + \"'></div>\");\n",
       "    if (!fig.cell_info) {\n",
       "        console.error(\"Failed to find cell for figure\", id, fig);\n",
       "        return;\n",
       "    }\n",
       "\n",
       "    var output_index = fig.cell_info[2]\n",
       "    var cell = fig.cell_info[0];\n",
       "\n",
       "};\n",
       "\n",
       "mpl.figure.prototype.handle_close = function(fig, msg) {\n",
       "    var width = fig.canvas.width/mpl.ratio\n",
       "    fig.root.unbind('remove')\n",
       "\n",
       "    // Update the output cell to use the data from the current canvas.\n",
       "    fig.push_to_output();\n",
       "    var dataURL = fig.canvas.toDataURL();\n",
       "    // Re-enable the keyboard manager in IPython - without this line, in FF,\n",
       "    // the notebook keyboard shortcuts fail.\n",
       "    IPython.keyboard_manager.enable()\n",
       "    $(fig.parent_element).html('<img src=\"' + dataURL + '\" width=\"' + width + '\">');\n",
       "    fig.close_ws(fig, msg);\n",
       "}\n",
       "\n",
       "mpl.figure.prototype.close_ws = function(fig, msg){\n",
       "    fig.send_message('closing', msg);\n",
       "    // fig.ws.close()\n",
       "}\n",
       "\n",
       "mpl.figure.prototype.push_to_output = function(remove_interactive) {\n",
       "    // Turn the data on the canvas into data in the output cell.\n",
       "    var width = this.canvas.width/mpl.ratio\n",
       "    var dataURL = this.canvas.toDataURL();\n",
       "    this.cell_info[1]['text/html'] = '<img src=\"' + dataURL + '\" width=\"' + width + '\">';\n",
       "}\n",
       "\n",
       "mpl.figure.prototype.updated_canvas_event = function() {\n",
       "    // Tell IPython that the notebook contents must change.\n",
       "    IPython.notebook.set_dirty(true);\n",
       "    this.send_message(\"ack\", {});\n",
       "    var fig = this;\n",
       "    // Wait a second, then push the new image to the DOM so\n",
       "    // that it is saved nicely (might be nice to debounce this).\n",
       "    setTimeout(function () { fig.push_to_output() }, 1000);\n",
       "}\n",
       "\n",
       "mpl.figure.prototype._init_toolbar = function() {\n",
       "    var fig = this;\n",
       "\n",
       "    var nav_element = $('<div/>');\n",
       "    nav_element.attr('style', 'width: 100%');\n",
       "    this.root.append(nav_element);\n",
       "\n",
       "    // Define a callback function for later on.\n",
       "    function toolbar_event(event) {\n",
       "        return fig.toolbar_button_onclick(event['data']);\n",
       "    }\n",
       "    function toolbar_mouse_event(event) {\n",
       "        return fig.toolbar_button_onmouseover(event['data']);\n",
       "    }\n",
       "\n",
       "    for(var toolbar_ind in mpl.toolbar_items){\n",
       "        var name = mpl.toolbar_items[toolbar_ind][0];\n",
       "        var tooltip = mpl.toolbar_items[toolbar_ind][1];\n",
       "        var image = mpl.toolbar_items[toolbar_ind][2];\n",
       "        var method_name = mpl.toolbar_items[toolbar_ind][3];\n",
       "\n",
       "        if (!name) { continue; };\n",
       "\n",
       "        var button = $('<button class=\"btn btn-default\" href=\"#\" title=\"' + name + '\"><i class=\"fa ' + image + ' fa-lg\"></i></button>');\n",
       "        button.click(method_name, toolbar_event);\n",
       "        button.mouseover(tooltip, toolbar_mouse_event);\n",
       "        nav_element.append(button);\n",
       "    }\n",
       "\n",
       "    // Add the status bar.\n",
       "    var status_bar = $('<span class=\"mpl-message\" style=\"text-align:right; float: right;\"/>');\n",
       "    nav_element.append(status_bar);\n",
       "    this.message = status_bar[0];\n",
       "\n",
       "    // Add the close button to the window.\n",
       "    var buttongrp = $('<div class=\"btn-group inline pull-right\"></div>');\n",
       "    var button = $('<button class=\"btn btn-mini btn-primary\" href=\"#\" title=\"Stop Interaction\"><i class=\"fa fa-power-off icon-remove icon-large\"></i></button>');\n",
       "    button.click(function (evt) { fig.handle_close(fig, {}); } );\n",
       "    button.mouseover('Stop Interaction', toolbar_mouse_event);\n",
       "    buttongrp.append(button);\n",
       "    var titlebar = this.root.find($('.ui-dialog-titlebar'));\n",
       "    titlebar.prepend(buttongrp);\n",
       "}\n",
       "\n",
       "mpl.figure.prototype._root_extra_style = function(el){\n",
       "    var fig = this\n",
       "    el.on(\"remove\", function(){\n",
       "\tfig.close_ws(fig, {});\n",
       "    });\n",
       "}\n",
       "\n",
       "mpl.figure.prototype._canvas_extra_style = function(el){\n",
       "    // this is important to make the div 'focusable\n",
       "    el.attr('tabindex', 0)\n",
       "    // reach out to IPython and tell the keyboard manager to turn it's self\n",
       "    // off when our div gets focus\n",
       "\n",
       "    // location in version 3\n",
       "    if (IPython.notebook.keyboard_manager) {\n",
       "        IPython.notebook.keyboard_manager.register_events(el);\n",
       "    }\n",
       "    else {\n",
       "        // location in version 2\n",
       "        IPython.keyboard_manager.register_events(el);\n",
       "    }\n",
       "\n",
       "}\n",
       "\n",
       "mpl.figure.prototype._key_event_extra = function(event, name) {\n",
       "    var manager = IPython.notebook.keyboard_manager;\n",
       "    if (!manager)\n",
       "        manager = IPython.keyboard_manager;\n",
       "\n",
       "    // Check for shift+enter\n",
       "    if (event.shiftKey && event.which == 13) {\n",
       "        this.canvas_div.blur();\n",
       "        // select the cell after this one\n",
       "        var index = IPython.notebook.find_cell_index(this.cell_info[0]);\n",
       "        IPython.notebook.select(index + 1);\n",
       "    }\n",
       "}\n",
       "\n",
       "mpl.figure.prototype.handle_save = function(fig, msg) {\n",
       "    fig.ondownload(fig, null);\n",
       "}\n",
       "\n",
       "\n",
       "mpl.find_output_cell = function(html_output) {\n",
       "    // Return the cell and output element which can be found *uniquely* in the notebook.\n",
       "    // Note - this is a bit hacky, but it is done because the \"notebook_saving.Notebook\"\n",
       "    // IPython event is triggered only after the cells have been serialised, which for\n",
       "    // our purposes (turning an active figure into a static one), is too late.\n",
       "    var cells = IPython.notebook.get_cells();\n",
       "    var ncells = cells.length;\n",
       "    for (var i=0; i<ncells; i++) {\n",
       "        var cell = cells[i];\n",
       "        if (cell.cell_type === 'code'){\n",
       "            for (var j=0; j<cell.output_area.outputs.length; j++) {\n",
       "                var data = cell.output_area.outputs[j];\n",
       "                if (data.data) {\n",
       "                    // IPython >= 3 moved mimebundle to data attribute of output\n",
       "                    data = data.data;\n",
       "                }\n",
       "                if (data['text/html'] == html_output) {\n",
       "                    return [cell, data, j];\n",
       "                }\n",
       "            }\n",
       "        }\n",
       "    }\n",
       "}\n",
       "\n",
       "// Register the function which deals with the matplotlib target/channel.\n",
       "// The kernel may be null if the page has been refreshed.\n",
       "if (IPython.notebook.kernel != null) {\n",
       "    IPython.notebook.kernel.comm_manager.register_target('matplotlib', mpl.mpl_figure_comm);\n",
       "}\n"
      ],
      "text/plain": [
       "<IPython.core.display.Javascript object>"
      ]
     },
     "metadata": {},
     "output_type": "display_data"
    },
    {
     "data": {
      "text/html": [
       "<img src=\"data:image/png;base64,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\" width=\"1198.8889206485992\">"
      ],
      "text/plain": [
       "<IPython.core.display.HTML object>"
      ]
     },
     "metadata": {},
     "output_type": "display_data"
    }
   ],
   "source": [
    "fig, ax = plt.subplots(figsize=(12,8))\n",
    "sns.heatmap(score_df, cmap='YlGnBu', ax=ax, vmin=0, vmax=1)\n",
    "# plt.figure(figsize=(20,20))\n",
    "plt.show()"
   ]
  },
  {
   "cell_type": "markdown",
   "metadata": {},
   "source": [
    "### Persist / Save Trained Models to Files"
   ]
  },
  {
   "cell_type": "markdown",
   "metadata": {},
   "source": [
    "Save to local file system.  \n",
    "Another notebook will handle saving to database."
   ]
  },
  {
   "cell_type": "code",
   "execution_count": 165,
   "metadata": {
    "ExecuteTime": {
     "end_time": "2020-07-12T18:35:49.453918Z",
     "start_time": "2020-07-12T18:35:49.377388Z"
    }
   },
   "outputs": [],
   "source": [
    "#  Save vectorizer\n",
    "pickle.dump(vect, open(f'{model_persist_dir}/{group}-mnbv1-vectorizer.pik', 'wb'))"
   ]
  },
  {
   "cell_type": "code",
   "execution_count": 166,
   "metadata": {
    "ExecuteTime": {
     "end_time": "2020-07-12T18:35:49.577939Z",
     "start_time": "2020-07-12T18:35:49.519153Z"
    }
   },
   "outputs": [],
   "source": [
    "#  Save calibrated model files\n",
    "pickle.dump(model_nb, open(f'{model_persist_dir}/{group}-mnbv1-similarity.pik', 'wb'))"
   ]
  }
 ],
 "metadata": {
  "kernelspec": {
   "display_name": "Python 3",
   "language": "python",
   "name": "python3"
  },
  "language_info": {
   "codemirror_mode": {
    "name": "ipython",
    "version": 3
   },
   "file_extension": ".py",
   "mimetype": "text/x-python",
   "name": "python",
   "nbconvert_exporter": "python",
   "pygments_lexer": "ipython3",
   "version": "3.7.1"
  }
 },
 "nbformat": 4,
 "nbformat_minor": 2
}
