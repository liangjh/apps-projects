{
 "cells": [
  {
   "cell_type": "code",
   "execution_count": 79,
   "metadata": {
    "ExecuteTime": {
     "end_time": "2020-01-07T04:30:40.098982Z",
     "start_time": "2020-01-07T04:30:40.084394Z"
    }
   },
   "outputs": [],
   "source": [
    "import io\n",
    "\n",
    "from lib.tweemio import twm\n",
    "from flask import Flask\n",
    "import flask_cloudy\n",
    "\n",
    "import os\n",
    "\n",
    "import assembly\n",
    "from assembly import config"
   ]
  },
  {
   "cell_type": "code",
   "execution_count": 80,
   "metadata": {
    "ExecuteTime": {
     "end_time": "2020-01-07T04:30:40.492106Z",
     "start_time": "2020-01-07T04:30:40.476476Z"
    }
   },
   "outputs": [],
   "source": [
    "os.environ['ASSEMBLY_ENV'] = 'Development'"
   ]
  },
  {
   "cell_type": "code",
   "execution_count": 81,
   "metadata": {
    "ExecuteTime": {
     "end_time": "2020-01-07T04:30:41.599382Z",
     "start_time": "2020-01-07T04:30:41.449686Z"
    }
   },
   "outputs": [],
   "source": [
    "app = assembly.Assembly.init(__name__, {'default': []})\n",
    "# app = Flask(__name__)"
   ]
  },
  {
   "cell_type": "code",
   "execution_count": 22,
   "metadata": {
    "ExecuteTime": {
     "end_time": "2020-01-04T15:27:26.461731Z",
     "start_time": "2020-01-04T15:27:26.454824Z"
    }
   },
   "outputs": [
    {
     "data": {
      "text/plain": [
       "[('STORAGE_PROVIDER', 'LOCAL'),\n",
       " ('STORAGE_KEY', None),\n",
       " ('STORAGE_SECRET', None),\n",
       " ('STORAGE_REGION_NAME', None),\n",
       " ('STORAGE_CONTAINER', '/Users/liangjh/Workspace/tweemio-api/data'),\n",
       " ('STORAGE_SERVER', True),\n",
       " ('STORAGE_SERVER_URL', 'files'),\n",
       " ('STORAGE_UPLOAD_FILE_PROPS',\n",
       "  {'image': {'extensions': ['jpg', 'png', 'gif', 'jpeg'], 'public': True},\n",
       "   'profile-image': {'prefix': 'profile-image/',\n",
       "    'extensions': ['jpg', 'png', 'gif', 'jpeg'],\n",
       "    'public': True}})]"
      ]
     },
     "execution_count": 22,
     "metadata": {},
     "output_type": "execute_result"
    }
   ],
   "source": [
    "[(prop,val) for prop,val in app.config.items() if 'STORAGE_' in prop]"
   ]
  },
  {
   "cell_type": "code",
   "execution_count": 23,
   "metadata": {
    "ExecuteTime": {
     "end_time": "2020-01-04T15:27:37.395815Z",
     "start_time": "2020-01-04T15:27:37.389607Z"
    }
   },
   "outputs": [
    {
     "data": {
      "text/plain": [
       "{'PROVIDER': 'LOCAL',\n",
       " 'KEY': None,\n",
       " 'SECRET': None,\n",
       " 'REGION_NAME': None,\n",
       " 'CONTAINER': '/Users/liangjh/Workspace/tweemio-api/data',\n",
       " 'SERVER': True,\n",
       " 'SERVER_URL': 'files',\n",
       " 'UPLOAD_FILE_PROPS': {'image': {'extensions': ['jpg', 'png', 'gif', 'jpeg'],\n",
       "   'public': True},\n",
       "  'profile-image': {'prefix': 'profile-image/',\n",
       "   'extensions': ['jpg', 'png', 'gif', 'jpeg'],\n",
       "   'public': True}}}"
      ]
     },
     "execution_count": 23,
     "metadata": {},
     "output_type": "execute_result"
    }
   ],
   "source": [
    "app.config['STORAGE']"
   ]
  },
  {
   "cell_type": "code",
   "execution_count": 70,
   "metadata": {
    "ExecuteTime": {
     "end_time": "2020-01-04T16:26:03.588563Z",
     "start_time": "2020-01-04T16:26:03.584951Z"
    }
   },
   "outputs": [],
   "source": [
    "storage = flask_cloudy.Storage()\n",
    "# storage.init_app(app)"
   ]
  },
  {
   "cell_type": "code",
   "execution_count": 68,
   "metadata": {
    "ExecuteTime": {
     "end_time": "2020-01-04T16:24:16.079569Z",
     "start_time": "2020-01-04T16:24:16.076293Z"
    }
   },
   "outputs": [],
   "source": [
    "stream = storage.container.download_object_as_stream('conanobrien-20191224.json')"
   ]
  },
  {
   "cell_type": "code",
   "execution_count": 72,
   "metadata": {
    "ExecuteTime": {
     "end_time": "2020-01-04T16:27:14.236242Z",
     "start_time": "2020-01-04T16:27:14.232506Z"
    }
   },
   "outputs": [],
   "source": [
    "buffer = io.BytesIO()\n",
    "for si in stream:\n",
    "    buffer.write(si)"
   ]
  },
  {
   "cell_type": "code",
   "execution_count": 77,
   "metadata": {
    "ExecuteTime": {
     "end_time": "2020-01-04T16:27:48.538656Z",
     "start_time": "2020-01-04T16:27:48.533872Z"
    }
   },
   "outputs": [
    {
     "data": {
      "text/plain": [
       "<generator object LocalStorageDriver.download_object_as_stream at 0x11267ec78>"
      ]
     },
     "execution_count": 77,
     "metadata": {},
     "output_type": "execute_result"
    }
   ],
   "source": [
    "stream"
   ]
  },
  {
   "cell_type": "code",
   "execution_count": 75,
   "metadata": {
    "ExecuteTime": {
     "end_time": "2020-01-04T16:27:29.412853Z",
     "start_time": "2020-01-04T16:27:29.409327Z"
    }
   },
   "outputs": [],
   "source": [
    "res = buffer.flush()"
   ]
  },
  {
   "cell_type": "code",
   "execution_count": 63,
   "metadata": {
    "ExecuteTime": {
     "end_time": "2020-01-04T16:22:24.817617Z",
     "start_time": "2020-01-04T16:22:24.766727Z"
    }
   },
   "outputs": [
    {
     "ename": "TypeError",
     "evalue": "a bytes-like object is required, not 'generator'",
     "output_type": "error",
     "traceback": [
      "\u001b[0;31m---------------------------------------------------------------------------\u001b[0m",
      "\u001b[0;31mTypeError\u001b[0m                                 Traceback (most recent call last)",
      "\u001b[0;32m<ipython-input-63-436342caaa6f>\u001b[0m in \u001b[0;36m<module>\u001b[0;34m\u001b[0m\n\u001b[0;32m----> 1\u001b[0;31m \u001b[0miostream\u001b[0m \u001b[0;34m=\u001b[0m \u001b[0mio\u001b[0m\u001b[0;34m.\u001b[0m\u001b[0mBytesIO\u001b[0m\u001b[0;34m(\u001b[0m\u001b[0mstream\u001b[0m\u001b[0;34m)\u001b[0m\u001b[0;34m\u001b[0m\u001b[0;34m\u001b[0m\u001b[0m\n\u001b[0m",
      "\u001b[0;31mTypeError\u001b[0m: a bytes-like object is required, not 'generator'"
     ]
    }
   ],
   "source": [
    "iostream = io.BytesIO(stream)"
   ]
  },
  {
   "cell_type": "code",
   "execution_count": 60,
   "metadata": {
    "ExecuteTime": {
     "end_time": "2020-01-04T16:17:52.711832Z",
     "start_time": "2020-01-04T16:17:52.706253Z"
    }
   },
   "outputs": [
    {
     "data": {
      "text/plain": [
       "<libcloud.storage.drivers.local.LocalStorageDriver at 0x11254ea20>"
      ]
     },
     "execution_count": 60,
     "metadata": {},
     "output_type": "execute_result"
    }
   ],
   "source": [
    "storage.container.driver"
   ]
  },
  {
   "cell_type": "code",
   "execution_count": null,
   "metadata": {},
   "outputs": [],
   "source": [
    "storage.container."
   ]
  },
  {
   "cell_type": "code",
   "execution_count": 35,
   "metadata": {
    "ExecuteTime": {
     "end_time": "2020-01-04T15:49:49.483092Z",
     "start_time": "2020-01-04T15:49:49.479537Z"
    }
   },
   "outputs": [],
   "source": [
    "storage.config['serve_files'] = False"
   ]
  },
  {
   "cell_type": "code",
   "execution_count": 36,
   "metadata": {
    "ExecuteTime": {
     "end_time": "2020-01-04T15:49:49.787760Z",
     "start_time": "2020-01-04T15:49:49.784041Z"
    }
   },
   "outputs": [],
   "source": [
    "obj = storage.get('conanobrien-20191224.json')"
   ]
  },
  {
   "cell_type": "code",
   "execution_count": 44,
   "metadata": {
    "ExecuteTime": {
     "end_time": "2020-01-04T16:03:48.044486Z",
     "start_time": "2020-01-04T16:03:47.948802Z"
    }
   },
   "outputs": [
    {
     "data": {
      "text/plain": [
       "True"
      ]
     },
     "execution_count": 44,
     "metadata": {},
     "output_type": "execute_result"
    }
   ],
   "source": [
    "obj.download('/Users/liangjh/test')"
   ]
  },
  {
   "cell_type": "code",
   "execution_count": 55,
   "metadata": {
    "ExecuteTime": {
     "end_time": "2020-01-04T16:14:55.264867Z",
     "start_time": "2020-01-04T16:14:55.202492Z"
    }
   },
   "outputs": [
    {
     "data": {
      "text/plain": [
       "'/Users/liangjh//test.json'"
      ]
     },
     "execution_count": 55,
     "metadata": {},
     "output_type": "execute_result"
    }
   ],
   "source": [
    "obj.save_to('/Users/liangjh/', 'test')"
   ]
  },
  {
   "cell_type": "code",
   "execution_count": 45,
   "metadata": {
    "ExecuteTime": {
     "end_time": "2020-01-04T16:05:27.956270Z",
     "start_time": "2020-01-04T16:05:27.950892Z"
    }
   },
   "outputs": [
    {
     "data": {
      "text/plain": [
       "<flask_cloudy.Object at 0x1124cee80>"
      ]
     },
     "execution_count": 45,
     "metadata": {},
     "output_type": "execute_result"
    }
   ],
   "source": [
    "obj"
   ]
  },
  {
   "cell_type": "code",
   "execution_count": 48,
   "metadata": {
    "ExecuteTime": {
     "end_time": "2020-01-04T16:06:58.337706Z",
     "start_time": "2020-01-04T16:06:58.323019Z"
    }
   },
   "outputs": [
    {
     "ename": "RuntimeError",
     "evalue": "Attempted to generate a URL without the application context being pushed. This has to be executed when application context is available.",
     "output_type": "error",
     "traceback": [
      "\u001b[0;31m---------------------------------------------------------------------------\u001b[0m",
      "\u001b[0;31mRuntimeError\u001b[0m                              Traceback (most recent call last)",
      "\u001b[0;32m<ipython-input-48-a79855cd995c>\u001b[0m in \u001b[0;36m<module>\u001b[0;34m\u001b[0m\n\u001b[0;32m----> 1\u001b[0;31m \u001b[0mobj\u001b[0m\u001b[0;34m.\u001b[0m\u001b[0mdownload_url\u001b[0m\u001b[0;34m(\u001b[0m\u001b[0;34m)\u001b[0m\u001b[0;34m\u001b[0m\u001b[0;34m\u001b[0m\u001b[0m\n\u001b[0m",
      "\u001b[0;32m~/.virtualenvs/tweemio-env/lib/python3.7/site-packages/flask_cloudy.py\u001b[0m in \u001b[0;36mdownload_url\u001b[0;34m(self, timeout, name)\u001b[0m\n\u001b[1;32m    636\u001b[0m                            \u001b[0mdl\u001b[0m\u001b[0;34m=\u001b[0m\u001b[0;36m1\u001b[0m\u001b[0;34m,\u001b[0m\u001b[0;34m\u001b[0m\u001b[0;34m\u001b[0m\u001b[0m\n\u001b[1;32m    637\u001b[0m                            \u001b[0mname\u001b[0m\u001b[0;34m=\u001b[0m\u001b[0mname\u001b[0m\u001b[0;34m,\u001b[0m\u001b[0;34m\u001b[0m\u001b[0;34m\u001b[0m\u001b[0m\n\u001b[0;32m--> 638\u001b[0;31m                            _external=True)\n\u001b[0m\u001b[1;32m    639\u001b[0m         \u001b[0;32melse\u001b[0m\u001b[0;34m:\u001b[0m\u001b[0;34m\u001b[0m\u001b[0;34m\u001b[0m\u001b[0m\n\u001b[1;32m    640\u001b[0m             \u001b[0mdriver_name\u001b[0m \u001b[0;34m=\u001b[0m \u001b[0mself\u001b[0m\u001b[0;34m.\u001b[0m\u001b[0mdriver\u001b[0m\u001b[0;34m.\u001b[0m\u001b[0mname\u001b[0m\u001b[0;34m.\u001b[0m\u001b[0mlower\u001b[0m\u001b[0;34m(\u001b[0m\u001b[0;34m)\u001b[0m\u001b[0;34m\u001b[0m\u001b[0;34m\u001b[0m\u001b[0m\n",
      "\u001b[0;32m~/.virtualenvs/tweemio-env/lib/python3.7/site-packages/flask/helpers.py\u001b[0m in \u001b[0;36murl_for\u001b[0;34m(endpoint, **values)\u001b[0m\n\u001b[1;32m    305\u001b[0m     \u001b[0;32mif\u001b[0m \u001b[0mappctx\u001b[0m \u001b[0;32mis\u001b[0m \u001b[0;32mNone\u001b[0m\u001b[0;34m:\u001b[0m\u001b[0;34m\u001b[0m\u001b[0;34m\u001b[0m\u001b[0m\n\u001b[1;32m    306\u001b[0m         raise RuntimeError(\n\u001b[0;32m--> 307\u001b[0;31m             \u001b[0;34m\"Attempted to generate a URL without the application context being\"\u001b[0m\u001b[0;34m\u001b[0m\u001b[0;34m\u001b[0m\u001b[0m\n\u001b[0m\u001b[1;32m    308\u001b[0m             \u001b[0;34m\" pushed. This has to be executed when application context is\"\u001b[0m\u001b[0;34m\u001b[0m\u001b[0;34m\u001b[0m\u001b[0m\n\u001b[1;32m    309\u001b[0m             \u001b[0;34m\" available.\"\u001b[0m\u001b[0;34m\u001b[0m\u001b[0;34m\u001b[0m\u001b[0m\n",
      "\u001b[0;31mRuntimeError\u001b[0m: Attempted to generate a URL without the application context being pushed. This has to be executed when application context is available."
     ]
    }
   ],
   "source": [
    "obj.download_url()"
   ]
  },
  {
   "cell_type": "code",
   "execution_count": 52,
   "metadata": {
    "ExecuteTime": {
     "end_time": "2020-01-04T16:09:16.614527Z",
     "start_time": "2020-01-04T16:09:16.608540Z"
    }
   },
   "outputs": [
    {
     "data": {
      "text/plain": [
       "<Object: name=conanobrien-20191224.json, size=8946526, hash=e5e30bcb5cc5f51a3040cc8fc6893356, provider=Local Storage ...>"
      ]
     },
     "execution_count": 52,
     "metadata": {},
     "output_type": "execute_result"
    }
   ],
   "source": [
    "obj._obj."
   ]
  },
  {
   "cell_type": "code",
   "execution_count": null,
   "metadata": {},
   "outputs": [],
   "source": [
    "obj."
   ]
  }
 ],
 "metadata": {
  "kernelspec": {
   "display_name": "Python 3",
   "language": "python",
   "name": "python3"
  },
  "language_info": {
   "codemirror_mode": {
    "name": "ipython",
    "version": 3
   },
   "file_extension": ".py",
   "mimetype": "text/x-python",
   "name": "python",
   "nbconvert_exporter": "python",
   "pygments_lexer": "ipython3",
   "version": "3.7.1"
  }
 },
 "nbformat": 4,
 "nbformat_minor": 2
}
