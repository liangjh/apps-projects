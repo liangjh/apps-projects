{
 "cells": [
  {
   "cell_type": "code",
   "execution_count": 3,
   "metadata": {
    "ExecuteTime": {
     "end_time": "2020-01-20T18:00:04.950416Z",
     "start_time": "2020-01-20T18:00:04.946586Z"
    }
   },
   "outputs": [],
   "source": [
    "import os"
   ]
  },
  {
   "cell_type": "code",
   "execution_count": 8,
   "metadata": {
    "ExecuteTime": {
     "end_time": "2020-01-20T18:00:32.204507Z",
     "start_time": "2020-01-20T18:00:32.201246Z"
    }
   },
   "outputs": [],
   "source": [
    "import assembly"
   ]
  },
  {
   "cell_type": "code",
   "execution_count": 9,
   "metadata": {
    "ExecuteTime": {
     "end_time": "2020-01-20T18:00:32.430286Z",
     "start_time": "2020-01-20T18:00:32.427417Z"
    }
   },
   "outputs": [],
   "source": [
    "os.environ['ASSEMBLY_ENV'] = 'Development'"
   ]
  },
  {
   "cell_type": "code",
   "execution_count": 10,
   "metadata": {
    "ExecuteTime": {
     "end_time": "2020-01-20T18:00:32.662076Z",
     "start_time": "2020-01-20T18:00:32.658248Z"
    }
   },
   "outputs": [],
   "source": [
    "os.chdir('..')  #  cd to main project dir, need to initialize context"
   ]
  },
  {
   "cell_type": "code",
   "execution_count": 11,
   "metadata": {
    "ExecuteTime": {
     "end_time": "2020-01-20T18:00:33.568722Z",
     "start_time": "2020-01-20T18:00:33.556183Z"
    }
   },
   "outputs": [
    {
     "data": {
      "text/plain": [
       "<Flask '__main__'>"
      ]
     },
     "execution_count": 11,
     "metadata": {},
     "output_type": "execute_result"
    }
   ],
   "source": [
    "assembly.Assembly.init(__name__, {'default': []})"
   ]
  },
  {
   "cell_type": "code",
   "execution_count": 12,
   "metadata": {
    "ExecuteTime": {
     "end_time": "2019-12-31T21:54:09.823632Z",
     "start_time": "2019-12-31T21:54:09.820625Z"
    }
   },
   "outputs": [],
   "source": [
    "# appctx = app.init('default', [])"
   ]
  },
  {
   "cell_type": "code",
   "execution_count": 16,
   "metadata": {
    "ExecuteTime": {
     "end_time": "2019-12-31T21:55:07.182872Z",
     "start_time": "2019-12-31T21:55:07.171956Z"
    }
   },
   "outputs": [
    {
     "ename": "TypeError",
     "evalue": "init() missing 2 required positional arguments: 'import_name' and 'views_list'",
     "output_type": "error",
     "traceback": [
      "\u001b[0;31m---------------------------------------------------------------------------\u001b[0m",
      "\u001b[0;31mTypeError\u001b[0m                                 Traceback (most recent call last)",
      "\u001b[0;32m<ipython-input-16-e0550a43ce86>\u001b[0m in \u001b[0;36m<module>\u001b[0;34m\u001b[0m\n\u001b[0;32m----> 1\u001b[0;31m \u001b[0mapp\u001b[0m\u001b[0;34m.\u001b[0m\u001b[0minit\u001b[0m\u001b[0;34m(\u001b[0m\u001b[0;34m)\u001b[0m\u001b[0;34m\u001b[0m\u001b[0;34m\u001b[0m\u001b[0m\n\u001b[0m",
      "\u001b[0;31mTypeError\u001b[0m: init() missing 2 required positional arguments: 'import_name' and 'views_list'"
     ]
    }
   ],
   "source": [
    "# app.init()"
   ]
  },
  {
   "cell_type": "code",
   "execution_count": 20,
   "metadata": {
    "ExecuteTime": {
     "end_time": "2019-12-31T22:46:45.231268Z",
     "start_time": "2019-12-31T22:46:45.227632Z"
    }
   },
   "outputs": [],
   "source": [
    "from assembly import app_context"
   ]
  },
  {
   "cell_type": "code",
   "execution_count": 21,
   "metadata": {
    "ExecuteTime": {
     "end_time": "2019-12-31T22:46:53.277269Z",
     "start_time": "2019-12-31T22:46:53.270737Z"
    }
   },
   "outputs": [
    {
     "data": {
      "text/plain": [
       "<function assembly.assembly.app_context(kls)>"
      ]
     },
     "execution_count": 21,
     "metadata": {},
     "output_type": "execute_result"
    }
   ],
   "source": [
    "app_context"
   ]
  },
  {
   "cell_type": "code",
   "execution_count": null,
   "metadata": {},
   "outputs": [],
   "source": []
  }
 ],
 "metadata": {
  "kernelspec": {
   "display_name": "Python 3",
   "language": "python",
   "name": "python3"
  },
  "language_info": {
   "codemirror_mode": {
    "name": "ipython",
    "version": 3
   },
   "file_extension": ".py",
   "mimetype": "text/x-python",
   "name": "python",
   "nbconvert_exporter": "python",
   "pygments_lexer": "ipython3",
   "version": "3.7.1"
  }
 },
 "nbformat": 4,
 "nbformat_minor": 2
}
