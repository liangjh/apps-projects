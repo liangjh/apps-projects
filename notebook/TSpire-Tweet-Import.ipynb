{
 "cells": [
  {
   "cell_type": "markdown",
   "metadata": {},
   "source": [
    "## IMPORT"
   ]
  },
  {
   "cell_type": "code",
   "execution_count": 57,
   "metadata": {
    "ExecuteTime": {
     "end_time": "2019-09-07T05:28:59.168313Z",
     "start_time": "2019-09-07T05:28:59.161644Z"
    }
   },
   "outputs": [],
   "source": [
    "import twitter\n",
    "import spacy\n",
    "import nltk\n",
    "from spacy import displacy\n",
    "import markovify\n",
    "import gzip\n",
    "import re\n",
    "import json\n",
    "import spacy"
   ]
  },
  {
   "cell_type": "code",
   "execution_count": 51,
   "metadata": {
    "ExecuteTime": {
     "end_time": "2019-09-07T05:13:03.965893Z",
     "start_time": "2019-09-07T05:12:50.017927Z"
    }
   },
   "outputs": [],
   "source": [
    "nlp = spacy.load('en_core_web_lg')"
   ]
  },
  {
   "cell_type": "markdown",
   "metadata": {},
   "source": [
    "## RETRIEVE TWEETS"
   ]
  },
  {
   "cell_type": "code",
   "execution_count": 3,
   "metadata": {
    "ExecuteTime": {
     "end_time": "2019-09-07T04:25:54.823872Z",
     "start_time": "2019-09-07T04:25:54.818431Z"
    }
   },
   "outputs": [],
   "source": [
    "twitter_credentials = {\n",
    "    'consumer_key':        'wbz78wFd0ywcShiTvqgDUV2ry',\n",
    "    'consumer_secret':     '2qj0P3fygqa0n2LqU6M8LV485OWIAvXWEQOEVLWFNUBdKDcgjz',\n",
    "    'access_token_key':    '80578720-t7bH4zwD6Q6sUQEFeCb8211wH04Y9ul0EWECo2ofU',\n",
    "    'access_token_secret': 'PSsX8R4agpxAII9XCYHqE74KObPRWfl9tdG4Xd07olOn6'\n",
    "}"
   ]
  },
  {
   "cell_type": "code",
   "execution_count": 4,
   "metadata": {
    "ExecuteTime": {
     "end_time": "2019-09-07T04:25:54.841000Z",
     "start_time": "2019-09-07T04:25:54.827757Z"
    }
   },
   "outputs": [],
   "source": [
    "twapi = twitter.Api(consumer_key=twitter_credentials['consumer_key'],\n",
    "                    consumer_secret=twitter_credentials['consumer_secret'],\n",
    "                    access_token_key=twitter_credentials['access_token_key'],\n",
    "                    access_token_secret=twitter_credentials['access_token_secret'],\n",
    "                    tweet_mode='extended')"
   ]
  },
  {
   "cell_type": "code",
   "execution_count": 5,
   "metadata": {
    "ExecuteTime": {
     "end_time": "2019-09-07T04:26:01.583680Z",
     "start_time": "2019-09-07T04:25:54.844177Z"
    }
   },
   "outputs": [
    {
     "name": "stdout",
     "output_type": "stream",
     "text": [
      "max_id for iteration: None\n",
      "max_id for iteration: 1167771830947590144\n",
      "max_id for iteration: 1164852076930879493\n",
      "max_id for iteration: 1162002141172633600\n",
      "max_id for iteration: 1157757443901972480\n",
      "max_id for iteration: 1154112475002036234\n",
      "max_id for iteration: 1150400995177959427\n",
      "max_id for iteration: 1148016422783803392\n",
      "max_id for iteration: 1143601087238172672\n",
      "max_id for iteration: 1138967829418565632\n",
      "max_id for iteration: 1134276359260389377\n",
      "max_id for iteration: 1130205328522522627\n",
      "max_id for iteration: 1127210559059972099\n",
      "max_id for iteration: 1124653429366906882\n",
      "max_id for iteration: 1121044792945926144\n",
      "max_id for iteration: 1116502929542922241\n",
      "max_id for iteration: 1110200331328208897\n",
      "max_id for iteration: 1107001687208878085\n"
     ]
    }
   ],
   "source": [
    "#  Retrieve as much tweet history as possible for training purposes\n",
    "timeline = []\n",
    "max_id = None\n",
    "while True:\n",
    "    print('max_id for iteration: {}'.format(max_id))\n",
    "    tweets = twapi.GetUserTimeline(screen_name='realdonaldtrump', include_rts=False, count=200, max_id=max_id)\n",
    "    timeline += tweets\n",
    "    \n",
    "    next_max_id = min(tweets, key=lambda t: t.id).id\n",
    "    if next_max_id == max_id:\n",
    "        break\n",
    "    max_id = next_max_id"
   ]
  },
  {
   "cell_type": "code",
   "execution_count": 12,
   "metadata": {
    "ExecuteTime": {
     "end_time": "2019-09-07T04:41:15.535134Z",
     "start_time": "2019-09-07T04:41:15.525587Z"
    }
   },
   "outputs": [],
   "source": [
    "timeline.reverse()\n",
    "timeline_abridged = [{k:v for k,v in elem.AsDict().items() if k in ['created_at', 'full_text', 'id']} \n",
    "                      for elem in timeline]"
   ]
  },
  {
   "cell_type": "code",
   "execution_count": 29,
   "metadata": {
    "ExecuteTime": {
     "end_time": "2019-09-07T04:55:29.995293Z",
     "start_time": "2019-09-07T04:55:29.959397Z"
    }
   },
   "outputs": [],
   "source": [
    "#  Save abridged \n",
    "with open('/Users/liangjh/workspace/corpii/tweets-trump.json', 'w') as f:\n",
    "    json.dump({'data': timeline_abridged}, f)"
   ]
  },
  {
   "cell_type": "code",
   "execution_count": 42,
   "metadata": {
    "ExecuteTime": {
     "end_time": "2019-09-07T05:03:54.972369Z",
     "start_time": "2019-09-07T05:03:54.931172Z"
    }
   },
   "outputs": [],
   "source": [
    "timeline_text_sanitized = [re.sub(r'(http|https)?:\\/\\/.*[\\r\\n]*', '', tline['full_text']) \n",
    "                           for tline in timeline_abridged]"
   ]
  },
  {
   "cell_type": "code",
   "execution_count": 44,
   "metadata": {
    "ExecuteTime": {
     "end_time": "2019-09-07T05:07:06.253572Z",
     "start_time": "2019-09-07T05:07:06.248253Z"
    }
   },
   "outputs": [],
   "source": [
    "timeline_merged_corpus = ' '.join(timeline_text_sanitized)"
   ]
  },
  {
   "cell_type": "code",
   "execution_count": 9,
   "metadata": {
    "ExecuteTime": {
     "end_time": "2019-09-07T04:26:57.590790Z",
     "start_time": "2019-09-07T04:26:57.583844Z"
    }
   },
   "outputs": [],
   "source": [
    "# with open('/Users/liangjh/workspace/corpii/tweets-trump.txt') as f:\n",
    "#     tweets_raw_curr = f.read()"
   ]
  },
  {
   "cell_type": "code",
   "execution_count": null,
   "metadata": {},
   "outputs": [],
   "source": [
    "#  Parsed document"
   ]
  },
  {
   "cell_type": "code",
   "execution_count": 48,
   "metadata": {
    "ExecuteTime": {
     "end_time": "2019-09-07T05:11:12.395266Z",
     "start_time": "2019-09-07T05:10:52.368437Z"
    }
   },
   "outputs": [],
   "source": [
    "doc = nlp(timeline_merged_corpus)"
   ]
  },
  {
   "cell_type": "code",
   "execution_count": 49,
   "metadata": {
    "ExecuteTime": {
     "end_time": "2019-09-07T05:11:12.425134Z",
     "start_time": "2019-09-07T05:11:12.398543Z"
    }
   },
   "outputs": [
    {
     "data": {
      "text/plain": [
       "80415"
      ]
     },
     "execution_count": 49,
     "metadata": {},
     "output_type": "execute_result"
    }
   ],
   "source": [
    "len(doc)"
   ]
  },
  {
   "cell_type": "code",
   "execution_count": 73,
   "metadata": {
    "ExecuteTime": {
     "end_time": "2019-06-02T06:33:15.354350Z",
     "start_time": "2019-06-02T06:33:15.345132Z"
    }
   },
   "outputs": [],
   "source": [
    "# tweets_combined = ' '.join(tweets_raw)\n",
    "# doc = nlp(tweets_combined)\n",
    "# len(tweets_raw)\n",
    "# len([token for token in doc])"
   ]
  },
  {
   "cell_type": "code",
   "execution_count": 52,
   "metadata": {
    "ExecuteTime": {
     "end_time": "2019-09-07T05:13:03.976615Z",
     "start_time": "2019-09-07T05:13:03.968858Z"
    }
   },
   "outputs": [],
   "source": [
    "class POSifiedText(markovify.Text):\n",
    "    def word_split(self, sentence):\n",
    "        return ['::'.join((word.orth_, word.pos_)) for word in nlp(sentence)]\n",
    "    def word_join(self, words):\n",
    "        sentence = ' '.join(word.split('::')[0] for word in words)\n",
    "        return sentence"
   ]
  },
  {
   "cell_type": "code",
   "execution_count": 53,
   "metadata": {
    "ExecuteTime": {
     "end_time": "2019-09-07T05:14:53.334318Z",
     "start_time": "2019-09-07T05:13:48.687739Z"
    }
   },
   "outputs": [],
   "source": [
    "tweet_model = POSifiedText(timeline_merged_corpus, state_size=2)"
   ]
  },
  {
   "cell_type": "code",
   "execution_count": 60,
   "metadata": {
    "ExecuteTime": {
     "end_time": "2019-09-07T05:36:41.950511Z",
     "start_time": "2019-09-07T05:36:41.945597Z"
    }
   },
   "outputs": [],
   "source": [
    "# for i in range(20):\n",
    "#     print(tweet_model.make_short_sentence(max_chars=150))"
   ]
  },
  {
   "cell_type": "code",
   "execution_count": 59,
   "metadata": {
    "ExecuteTime": {
     "end_time": "2019-09-07T05:31:57.144213Z",
     "start_time": "2019-09-07T05:31:56.381297Z"
    }
   },
   "outputs": [],
   "source": [
    "with gzip.GzipFile('/Users/liangjh/workspace/corpii/trumpspire-model-02.gz', 'w') as fo:\n",
    "    fo.write(json.dumps(tweet_model.to_json()).encode('utf-8'))"
   ]
  },
  {
   "cell_type": "code",
   "execution_count": null,
   "metadata": {},
   "outputs": [],
   "source": []
  }
 ],
 "metadata": {
  "kernelspec": {
   "display_name": "Python 3",
   "language": "python",
   "name": "python3"
  },
  "language_info": {
   "codemirror_mode": {
    "name": "ipython",
    "version": 3
   },
   "file_extension": ".py",
   "mimetype": "text/x-python",
   "name": "python",
   "nbconvert_exporter": "python",
   "pygments_lexer": "ipython3",
   "version": "3.7.1"
  }
 },
 "nbformat": 4,
 "nbformat_minor": 2
}
