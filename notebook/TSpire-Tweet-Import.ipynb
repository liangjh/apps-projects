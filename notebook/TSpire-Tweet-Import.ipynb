{
 "cells": [
  {
   "cell_type": "markdown",
   "metadata": {},
   "source": [
    "## IMPORT"
   ]
  },
  {
   "cell_type": "code",
   "execution_count": 36,
   "metadata": {
    "ExecuteTime": {
     "end_time": "2019-10-28T03:17:20.757427Z",
     "start_time": "2019-10-28T03:17:20.752249Z"
    }
   },
   "outputs": [],
   "source": [
    "import twitter\n",
    "import spacy\n",
    "import nltk\n",
    "from spacy import displacy\n",
    "import markovify\n",
    "import gzip\n",
    "import re\n",
    "import json\n",
    "import spacy"
   ]
  },
  {
   "cell_type": "code",
   "execution_count": 37,
   "metadata": {
    "ExecuteTime": {
     "end_time": "2019-10-28T03:17:34.267732Z",
     "start_time": "2019-10-28T03:17:20.867035Z"
    }
   },
   "outputs": [],
   "source": [
    "nlp = spacy.load('en_core_web_lg')"
   ]
  },
  {
   "cell_type": "markdown",
   "metadata": {},
   "source": [
    "## RETRIEVE TWEETS: API"
   ]
  },
  {
   "cell_type": "code",
   "execution_count": 5,
   "metadata": {
    "ExecuteTime": {
     "end_time": "2019-09-09T02:11:13.942564Z",
     "start_time": "2019-09-09T02:11:13.929687Z"
    }
   },
   "outputs": [],
   "source": [
    "twitter_credentials = {\n",
    "    'consumer_key':        'wbz78wFd0ywcShiTvqgDUV2ry',\n",
    "    'consumer_secret':     '2qj0P3fygqa0n2LqU6M8LV485OWIAvXWEQOEVLWFNUBdKDcgjz',\n",
    "    'access_token_key':    '80578720-t7bH4zwD6Q6sUQEFeCb8211wH04Y9ul0EWECo2ofU',\n",
    "    'access_token_secret': 'PSsX8R4agpxAII9XCYHqE74KObPRWfl9tdG4Xd07olOn6'\n",
    "}"
   ]
  },
  {
   "cell_type": "code",
   "execution_count": 6,
   "metadata": {
    "ExecuteTime": {
     "end_time": "2019-09-09T02:11:13.961714Z",
     "start_time": "2019-09-09T02:11:13.946465Z"
    }
   },
   "outputs": [],
   "source": [
    "twapi = twitter.Api(consumer_key=twitter_credentials['consumer_key'],\n",
    "                    consumer_secret=twitter_credentials['consumer_secret'],\n",
    "                    access_token_key=twitter_credentials['access_token_key'],\n",
    "                    access_token_secret=twitter_credentials['access_token_secret'],\n",
    "                    tweet_mode='extended')"
   ]
  },
  {
   "cell_type": "code",
   "execution_count": 17,
   "metadata": {
    "ExecuteTime": {
     "end_time": "2019-09-09T02:16:22.245942Z",
     "start_time": "2019-09-09T02:16:22.242585Z"
    }
   },
   "outputs": [],
   "source": [
    "# screen_name = 'nigel_farage'\n",
    "# screen_name = 'realdonaldtrump'\n",
    "screen_name = 'borisjohnson'"
   ]
  },
  {
   "cell_type": "code",
   "execution_count": 18,
   "metadata": {
    "ExecuteTime": {
     "end_time": "2019-09-09T02:16:26.743956Z",
     "start_time": "2019-09-09T02:16:23.345492Z"
    }
   },
   "outputs": [
    {
     "name": "stdout",
     "output_type": "stream",
     "text": [
      "max_id for iteration: None\n",
      "max_id for iteration: 1156655029803192320\n",
      "max_id for iteration: 1123597392564105216\n",
      "max_id for iteration: 1045428718682992641\n",
      "max_id for iteration: 986649042858934273\n",
      "max_id for iteration: 953970924201619457\n",
      "max_id for iteration: 908078771345002496\n",
      "max_id for iteration: 869296982573162497\n",
      "max_id for iteration: 819497592472174592\n",
      "max_id for iteration: 774286227558334464\n",
      "max_id for iteration: 661145791189417984\n",
      "max_id for iteration: 583374543902941184\n"
     ]
    }
   ],
   "source": [
    "#  Retrieve as much tweet history as possible for training purposes\n",
    "timeline = []\n",
    "max_id = None\n",
    "while True:\n",
    "    print('max_id for iteration: {}'.format(max_id))\n",
    "    tweets = twapi.GetUserTimeline(screen_name=screen_name, include_rts=False, count=200, max_id=max_id)\n",
    "    timeline += tweets\n",
    "    \n",
    "    next_max_id = min(tweets, key=lambda t: t.id).id\n",
    "    if next_max_id == max_id:\n",
    "        break\n",
    "    max_id = next_max_id"
   ]
  },
  {
   "cell_type": "markdown",
   "metadata": {},
   "source": [
    "## RETRIEVE TWEETS: FILE"
   ]
  },
  {
   "cell_type": "code",
   "execution_count": 48,
   "metadata": {
    "ExecuteTime": {
     "end_time": "2019-10-28T03:23:48.734408Z",
     "start_time": "2019-10-28T03:23:48.731224Z"
    }
   },
   "outputs": [],
   "source": [
    "tweetfile = '/Users/liangjh/Workspace/corpii/tweets-realdonaldtrump.json'\n",
    "screen_name = 'realdonaldtrump'"
   ]
  },
  {
   "cell_type": "code",
   "execution_count": 49,
   "metadata": {
    "ExecuteTime": {
     "end_time": "2019-10-28T03:23:49.130910Z",
     "start_time": "2019-10-28T03:23:48.868773Z"
    }
   },
   "outputs": [],
   "source": [
    "with open(tweetfile) as json_file:\n",
    "    timeline = json.load(json_file)"
   ]
  },
  {
   "cell_type": "code",
   "execution_count": 50,
   "metadata": {
    "ExecuteTime": {
     "end_time": "2019-10-28T03:23:49.182315Z",
     "start_time": "2019-10-28T03:23:49.134119Z"
    }
   },
   "outputs": [],
   "source": [
    "timeline = [tle for tle in timeline if tle['created_at'][-4:] in ['2019','2018','2017','2016']]"
   ]
  },
  {
   "cell_type": "code",
   "execution_count": 51,
   "metadata": {
    "ExecuteTime": {
     "end_time": "2019-10-28T03:23:49.964329Z",
     "start_time": "2019-10-28T03:23:49.957901Z"
    }
   },
   "outputs": [
    {
     "data": {
      "text/plain": [
       "15698"
      ]
     },
     "execution_count": 51,
     "metadata": {},
     "output_type": "execute_result"
    }
   ],
   "source": [
    "len(timeline)"
   ]
  },
  {
   "cell_type": "markdown",
   "metadata": {},
   "source": [
    "## PROCESS TWEETS"
   ]
  },
  {
   "cell_type": "code",
   "execution_count": 52,
   "metadata": {
    "ExecuteTime": {
     "end_time": "2019-10-28T03:23:52.027072Z",
     "start_time": "2019-10-28T03:23:51.993900Z"
    }
   },
   "outputs": [],
   "source": [
    "timeline.reverse()\n",
    "# Timeline retrieved from twitter api\n",
    "# timeline_abridged = [{k:v for k,v in elem.AsDict().items() if k in ['created_at', 'full_text', 'id']} \n",
    "#                       for elem in timeline]\n",
    "\n",
    "# Timeline retrieved from archive\n",
    "timeline_abridged = [{k:v for k,v in elem.items() if k in ['created_at', 'text', 'id']} \n",
    "                      for elem in timeline]\n",
    "\n",
    "\n"
   ]
  },
  {
   "cell_type": "code",
   "execution_count": 7,
   "metadata": {
    "ExecuteTime": {
     "end_time": "2019-10-15T01:53:21.596839Z",
     "start_time": "2019-10-15T01:53:21.594279Z"
    }
   },
   "outputs": [],
   "source": [
    "#  Save abridged \n",
    "# with open('/Users/liangjh/workspace/corpii/tweets-{}.json'.format(screen_name), 'w') as f:\n",
    "#     json.dump({'data': timeline_abridged}, f)"
   ]
  },
  {
   "cell_type": "code",
   "execution_count": 53,
   "metadata": {
    "ExecuteTime": {
     "end_time": "2019-10-28T03:23:54.396352Z",
     "start_time": "2019-10-28T03:23:54.230794Z"
    }
   },
   "outputs": [],
   "source": [
    "timeline_text_sanitized = [re.sub(r'(http|https)?:\\/\\/.*[\\r\\n]*', '', tline['text']) # or full_text\n",
    "                           for tline in timeline_abridged]"
   ]
  },
  {
   "cell_type": "code",
   "execution_count": 54,
   "metadata": {
    "ExecuteTime": {
     "end_time": "2019-10-28T03:23:55.472734Z",
     "start_time": "2019-10-28T03:23:55.458828Z"
    }
   },
   "outputs": [],
   "source": [
    "timeline_merged_corpus = ' '.join(timeline_text_sanitized)"
   ]
  },
  {
   "cell_type": "code",
   "execution_count": 9,
   "metadata": {
    "ExecuteTime": {
     "end_time": "2019-09-07T04:26:57.590790Z",
     "start_time": "2019-09-07T04:26:57.583844Z"
    }
   },
   "outputs": [],
   "source": [
    "# with open('/Users/liangjh/workspace/corpii/tweets-trump.txt') as f:\n",
    "#     tweets_raw_curr = f.read()"
   ]
  },
  {
   "cell_type": "code",
   "execution_count": null,
   "metadata": {},
   "outputs": [],
   "source": [
    "#  Parsed document\n",
    "# doc = nlp(timeline_merged_corpus)"
   ]
  },
  {
   "cell_type": "code",
   "execution_count": 73,
   "metadata": {
    "ExecuteTime": {
     "end_time": "2019-06-02T06:33:15.354350Z",
     "start_time": "2019-06-02T06:33:15.345132Z"
    }
   },
   "outputs": [],
   "source": [
    "# tweets_combined = ' '.join(tweets_raw)\n",
    "# doc = nlp(tweets_combined)\n",
    "# len(tweets_raw)\n",
    "# len([token for token in doc])"
   ]
  },
  {
   "cell_type": "code",
   "execution_count": 55,
   "metadata": {
    "ExecuteTime": {
     "end_time": "2019-10-28T03:23:58.738333Z",
     "start_time": "2019-10-28T03:23:58.726156Z"
    }
   },
   "outputs": [],
   "source": [
    "class POSifiedText(markovify.Text):\n",
    "    def word_split(self, sentence):\n",
    "        return ['::'.join((word.orth_, word.pos_)) for word in nlp(sentence)]\n",
    "    def word_join(self, words):\n",
    "        sentence = ' '.join(word.split('::')[0] for word in words)\n",
    "        return sentence"
   ]
  },
  {
   "cell_type": "code",
   "execution_count": 56,
   "metadata": {
    "ExecuteTime": {
     "end_time": "2019-10-28T03:28:19.846957Z",
     "start_time": "2019-10-28T03:24:01.950667Z"
    }
   },
   "outputs": [],
   "source": [
    "tweet_model = POSifiedText(timeline_merged_corpus, state_size=2)"
   ]
  },
  {
   "cell_type": "code",
   "execution_count": 60,
   "metadata": {
    "ExecuteTime": {
     "end_time": "2019-09-07T05:36:41.950511Z",
     "start_time": "2019-09-07T05:36:41.945597Z"
    }
   },
   "outputs": [],
   "source": [
    "# for i in range(20):\n",
    "#     print(tweet_model.make_short_sentence(max_chars=150))"
   ]
  },
  {
   "cell_type": "code",
   "execution_count": 57,
   "metadata": {
    "ExecuteTime": {
     "end_time": "2019-10-28T03:28:22.706546Z",
     "start_time": "2019-10-28T03:28:19.850337Z"
    }
   },
   "outputs": [],
   "source": [
    "with gzip.GzipFile('/Users/liangjh/workspace/corpii/trumpspire-model-02.gz'.format(screen_name), 'w') as fo:\n",
    "    fo.write(json.dumps(tweet_model.to_json()).encode('utf-8'))"
   ]
  },
  {
   "cell_type": "code",
   "execution_count": null,
   "metadata": {},
   "outputs": [],
   "source": []
  }
 ],
 "metadata": {
  "kernelspec": {
   "display_name": "Python 3",
   "language": "python",
   "name": "python3"
  },
  "language_info": {
   "codemirror_mode": {
    "name": "ipython",
    "version": 3
   },
   "file_extension": ".py",
   "mimetype": "text/x-python",
   "name": "python",
   "nbconvert_exporter": "python",
   "pygments_lexer": "ipython3",
   "version": "3.7.1"
  }
 },
 "nbformat": 4,
 "nbformat_minor": 2
}
