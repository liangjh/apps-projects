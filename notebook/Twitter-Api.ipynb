{
 "cells": [
  {
   "cell_type": "code",
   "execution_count": 115,
   "metadata": {
    "ExecuteTime": {
     "end_time": "2020-01-01T18:48:50.434424Z",
     "start_time": "2020-01-01T18:48:50.423425Z"
    }
   },
   "outputs": [
    {
     "ename": "ModuleNotFoundError",
     "evalue": "No module named 'tweemio'",
     "output_type": "error",
     "traceback": [
      "\u001b[0;31m---------------------------------------------------------------------------\u001b[0m",
      "\u001b[0;31mModuleNotFoundError\u001b[0m                       Traceback (most recent call last)",
      "\u001b[0;32m<ipython-input-115-66003ffcf166>\u001b[0m in \u001b[0;36m<module>\u001b[0;34m\u001b[0m\n\u001b[0;32m----> 1\u001b[0;31m \u001b[0;32mfrom\u001b[0m \u001b[0mtweemio\u001b[0m \u001b[0;32mimport\u001b[0m \u001b[0mtwm\u001b[0m\u001b[0;34m\u001b[0m\u001b[0;34m\u001b[0m\u001b[0m\n\u001b[0m",
      "\u001b[0;31mModuleNotFoundError\u001b[0m: No module named 'tweemio'"
     ]
    }
   ],
   "source": [
    "from tweemio import twm"
   ]
  },
  {
   "cell_type": "code",
   "execution_count": 1,
   "metadata": {
    "ExecuteTime": {
     "end_time": "2019-12-31T23:49:37.448854Z",
     "start_time": "2019-12-31T23:49:37.274615Z"
    }
   },
   "outputs": [],
   "source": [
    "import twitter"
   ]
  },
  {
   "cell_type": "code",
   "execution_count": 88,
   "metadata": {
    "ExecuteTime": {
     "end_time": "2020-01-01T16:19:17.928569Z",
     "start_time": "2020-01-01T16:19:17.924630Z"
    }
   },
   "outputs": [],
   "source": [
    "twitter_credentials = {\n",
    "    'consumer_key':        'wbz78wFd0ywcShiTvqgDUV2ry',\n",
    "    'consumer_secret':     '2qj0P3fygqa0n2LqU6M8LV485OWIAvXWEQOEVLWFNUBdKDcgjz',\n",
    "    'access_token_key':    '80578720-t7bH4zwD6Q6sUQEFeCb8211wH04Y9ul0EWECo2ofU',\n",
    "    'access_token_secret': 'PSsX8R4agpxAII9XCYHqE74KObPRWfl9tdG4Xd07olOn6'\n",
    "}\n",
    "\n",
    "# twitter_credentials['tweet_mode'] = 'extended'\n",
    "# twapi = twitter.Api(**twitter_credentials)\n",
    "# twapi.VerifyCredentials()"
   ]
  },
  {
   "cell_type": "code",
   "execution_count": 112,
   "metadata": {
    "ExecuteTime": {
     "end_time": "2020-01-01T16:26:03.065059Z",
     "start_time": "2020-01-01T16:26:03.050588Z"
    }
   },
   "outputs": [],
   "source": [
    "\n",
    "\n",
    "class TwitterApi:\n",
    "    \n",
    "    def __init__(self, creds: dict={}):\n",
    "        \n",
    "        cred_keys = ['consumer_key', 'consumer_secret', 'access_token_key', 'access_token_secret']        \n",
    "        if len(creds) < 1 or len(set(cred_keys) - set(creds)) > 0:\n",
    "            raise Exception(f'all keys required: {cred_keys}')\n",
    "        creds['tweet_mode'] = 'extended'\n",
    "\n",
    "        self.creds = creds\n",
    "        self.twapi = None\n",
    "        self.check_connection()\n",
    "\n",
    "        \n",
    "    def check_connection(self):\n",
    "        try:\n",
    "            self.twapi.VerifyCredentials()\n",
    "        except Exception as err:\n",
    "            self.twapi = twitter.Api(**self.creds)\n",
    "    \n",
    "    \n",
    "    def find_user(self, screen_name: str) -> bool:\n",
    "        '''\n",
    "        Check that a given user exists on twitter\n",
    "        '''\n",
    "        try:\n",
    "            self.check_connection()\n",
    "            self.twapi.GetUser(screen_name=screen_name)\n",
    "        except:\n",
    "            return False\n",
    "        return True\n",
    "\n",
    "    \n",
    "    def timeline(self, screen_name: str, recent: bool=True) -> list:\n",
    "        '''\n",
    "        Retrieves a user's tweet timelines\n",
    "        Excludes retweets, so only original content for the user\n",
    "        '''\n",
    "        \n",
    "        timeline = []\n",
    "        max_id = None\n",
    "        iterations = 0\n",
    "\n",
    "        self.check_connection()\n",
    "        while True:        \n",
    "            tweets = self.twapi.GetUserTimeline(screen_name=screen_name, include_rts=False, count=200, max_id=max_id)\n",
    "            timeline += tweets\n",
    "\n",
    "            #  Exceptions: (1) empty timeline, (2) recent-only\n",
    "            if len(tweets) < 1:\n",
    "                break        \n",
    "            if recent and iterations > 1:\n",
    "                break\n",
    "\n",
    "            #  Iterate to next\n",
    "            next_max_id = min(tweets, key=lambda t: t.id).id\n",
    "            if next_max_id == max_id:\n",
    "                break\n",
    "            max_id = next_max_id\n",
    "            iterations += 1\n",
    "            \n",
    "        return timeline\n"
   ]
  },
  {
   "cell_type": "code",
   "execution_count": 106,
   "metadata": {
    "ExecuteTime": {
     "end_time": "2020-01-01T16:23:29.178441Z",
     "start_time": "2020-01-01T16:23:29.172331Z"
    }
   },
   "outputs": [
    {
     "data": {
      "text/plain": [
       "dict_keys(['consumer_key', 'consumer_secret', 'access_token_key', 'access_token_secret', 'tweet_mode'])"
      ]
     },
     "execution_count": 106,
     "metadata": {},
     "output_type": "execute_result"
    }
   ],
   "source": [
    "twitter_credentials.keys()"
   ]
  },
  {
   "cell_type": "code",
   "execution_count": 113,
   "metadata": {
    "ExecuteTime": {
     "end_time": "2020-01-01T16:26:06.504691Z",
     "start_time": "2020-01-01T16:26:06.493814Z"
    }
   },
   "outputs": [
    {
     "name": "stdout",
     "output_type": "stream",
     "text": [
      "'NoneType' object has no attribute 'VerifyCredentials'\n",
      "<twitter.api.Api object at 0x10fd8ff28>\n"
     ]
    }
   ],
   "source": [
    "twitapi = TwitterApi(twitter_credentials)"
   ]
  },
  {
   "cell_type": "code",
   "execution_count": 116,
   "metadata": {
    "ExecuteTime": {
     "end_time": "2020-01-20T16:17:10.881489Z",
     "start_time": "2020-01-20T16:17:10.809534Z"
    }
   },
   "outputs": [],
   "source": [
    "#twitapi.timeline('realdonaldtrump')"
   ]
  },
  {
   "cell_type": "code",
   "execution_count": null,
   "metadata": {},
   "outputs": [],
   "source": []
  },
  {
   "cell_type": "code",
   "execution_count": 108,
   "metadata": {
    "ExecuteTime": {
     "end_time": "2020-01-01T16:24:24.108842Z",
     "start_time": "2020-01-01T16:24:24.105028Z"
    }
   },
   "outputs": [],
   "source": [
    "a = [1,2,3,4]\n",
    "b = [2,3,4]"
   ]
  },
  {
   "cell_type": "code",
   "execution_count": null,
   "metadata": {},
   "outputs": [],
   "source": []
  },
  {
   "cell_type": "code",
   "execution_count": 111,
   "metadata": {
    "ExecuteTime": {
     "end_time": "2020-01-01T16:25:08.359235Z",
     "start_time": "2020-01-01T16:25:08.353930Z"
    }
   },
   "outputs": [
    {
     "data": {
      "text/plain": [
       "set()"
      ]
     },
     "execution_count": 111,
     "metadata": {},
     "output_type": "execute_result"
    }
   ],
   "source": [
    "set(b) - set(a)"
   ]
  },
  {
   "cell_type": "code",
   "execution_count": null,
   "metadata": {},
   "outputs": [],
   "source": []
  }
 ],
 "metadata": {
  "kernelspec": {
   "display_name": "Python 3",
   "language": "python",
   "name": "python3"
  },
  "language_info": {
   "codemirror_mode": {
    "name": "ipython",
    "version": 3
   },
   "file_extension": ".py",
   "mimetype": "text/x-python",
   "name": "python",
   "nbconvert_exporter": "python",
   "pygments_lexer": "ipython3",
   "version": "3.7.1"
  }
 },
 "nbformat": 4,
 "nbformat_minor": 2
}
