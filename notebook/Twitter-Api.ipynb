{
 "cells": [
  {
   "cell_type": "code",
   "execution_count": 115,
   "metadata": {
    "ExecuteTime": {
     "end_time": "2020-01-01T18:48:50.434424Z",
     "start_time": "2020-01-01T18:48:50.423425Z"
    }
   },
   "outputs": [
    {
     "ename": "ModuleNotFoundError",
     "evalue": "No module named 'tweemio'",
     "output_type": "error",
     "traceback": [
      "\u001b[0;31m---------------------------------------------------------------------------\u001b[0m",
      "\u001b[0;31mModuleNotFoundError\u001b[0m                       Traceback (most recent call last)",
      "\u001b[0;32m<ipython-input-115-66003ffcf166>\u001b[0m in \u001b[0;36m<module>\u001b[0;34m\u001b[0m\n\u001b[0;32m----> 1\u001b[0;31m \u001b[0;32mfrom\u001b[0m \u001b[0mtweemio\u001b[0m \u001b[0;32mimport\u001b[0m \u001b[0mtwm\u001b[0m\u001b[0;34m\u001b[0m\u001b[0;34m\u001b[0m\u001b[0m\n\u001b[0m",
      "\u001b[0;31mModuleNotFoundError\u001b[0m: No module named 'tweemio'"
     ]
    }
   ],
   "source": [
    "from tweemio import twm"
   ]
  },
  {
   "cell_type": "code",
   "execution_count": 1,
   "metadata": {
    "ExecuteTime": {
     "end_time": "2019-12-31T23:49:37.448854Z",
     "start_time": "2019-12-31T23:49:37.274615Z"
    }
   },
   "outputs": [],
   "source": [
    "import twitter"
   ]
  },
  {
   "cell_type": "code",
   "execution_count": 88,
   "metadata": {
    "ExecuteTime": {
     "end_time": "2020-01-01T16:19:17.928569Z",
     "start_time": "2020-01-01T16:19:17.924630Z"
    }
   },
   "outputs": [],
   "source": [
    "twitter_credentials = {\n",
    "    'consumer_key':        'wbz78wFd0ywcShiTvqgDUV2ry',\n",
    "    'consumer_secret':     '2qj0P3fygqa0n2LqU6M8LV485OWIAvXWEQOEVLWFNUBdKDcgjz',\n",
    "    'access_token_key':    '80578720-t7bH4zwD6Q6sUQEFeCb8211wH04Y9ul0EWECo2ofU',\n",
    "    'access_token_secret': 'PSsX8R4agpxAII9XCYHqE74KObPRWfl9tdG4Xd07olOn6'\n",
    "}\n",
    "\n",
    "# twitter_credentials['tweet_mode'] = 'extended'\n",
    "# twapi = twitter.Api(**twitter_credentials)\n",
    "# twapi.VerifyCredentials()"
   ]
  },
  {
   "cell_type": "code",
   "execution_count": 112,
   "metadata": {
    "ExecuteTime": {
     "end_time": "2020-01-01T16:26:03.065059Z",
     "start_time": "2020-01-01T16:26:03.050588Z"
    }
   },
   "outputs": [],
   "source": [
    "\n",
    "\n",
    "class TwitterApi:\n",
    "    \n",
    "    def __init__(self, creds: dict={}):\n",
    "        \n",
    "        cred_keys = ['consumer_key', 'consumer_secret', 'access_token_key', 'access_token_secret']        \n",
    "        if len(creds) < 1 or len(set(cred_keys) - set(creds)) > 0:\n",
    "            raise Exception(f'all keys required: {cred_keys}')\n",
    "        creds['tweet_mode'] = 'extended'\n",
    "\n",
    "        self.creds = creds\n",
    "        self.twapi = None\n",
    "        self.check_connection()\n",
    "\n",
    "        \n",
    "    def check_connection(self):\n",
    "        try:\n",
    "            self.twapi.VerifyCredentials()\n",
    "        except Exception as err:\n",
    "            self.twapi = twitter.Api(**self.creds)\n",
    "    \n",
    "    \n",
    "    def find_user(self, screen_name: str) -> bool:\n",
    "        '''\n",
    "        Check that a given user exists on twitter\n",
    "        '''\n",
    "        try:\n",
    "            self.check_connection()\n",
    "            self.twapi.GetUser(screen_name=screen_name)\n",
    "        except:\n",
    "            return False\n",
    "        return True\n",
    "\n",
    "    \n",
    "    def timeline(self, screen_name: str, recent: bool=True) -> list:\n",
    "        '''\n",
    "        Retrieves a user's tweet timelines\n",
    "        Excludes retweets, so only original content for the user\n",
    "        '''\n",
    "        \n",
    "        timeline = []\n",
    "        max_id = None\n",
    "        iterations = 0\n",
    "\n",
    "        self.check_connection()\n",
    "        while True:        \n",
    "            tweets = self.twapi.GetUserTimeline(screen_name=screen_name, include_rts=False, count=200, max_id=max_id)\n",
    "            timeline += tweets\n",
    "\n",
    "            #  Exceptions: (1) empty timeline, (2) recent-only\n",
    "            if len(tweets) < 1:\n",
    "                break        \n",
    "            if recent and iterations > 1:\n",
    "                break\n",
    "\n",
    "            #  Iterate to next\n",
    "            next_max_id = min(tweets, key=lambda t: t.id).id\n",
    "            if next_max_id == max_id:\n",
    "                break\n",
    "            max_id = next_max_id\n",
    "            iterations += 1\n",
    "            \n",
    "        return timeline\n"
   ]
  },
  {
   "cell_type": "code",
   "execution_count": 106,
   "metadata": {
    "ExecuteTime": {
     "end_time": "2020-01-01T16:23:29.178441Z",
     "start_time": "2020-01-01T16:23:29.172331Z"
    }
   },
   "outputs": [
    {
     "data": {
      "text/plain": [
       "dict_keys(['consumer_key', 'consumer_secret', 'access_token_key', 'access_token_secret', 'tweet_mode'])"
      ]
     },
     "execution_count": 106,
     "metadata": {},
     "output_type": "execute_result"
    }
   ],
   "source": [
    "twitter_credentials.keys()"
   ]
  },
  {
   "cell_type": "code",
   "execution_count": 113,
   "metadata": {
    "ExecuteTime": {
     "end_time": "2020-01-01T16:26:06.504691Z",
     "start_time": "2020-01-01T16:26:06.493814Z"
    }
   },
   "outputs": [
    {
     "name": "stdout",
     "output_type": "stream",
     "text": [
      "'NoneType' object has no attribute 'VerifyCredentials'\n",
      "<twitter.api.Api object at 0x10fd8ff28>\n"
     ]
    }
   ],
   "source": [
    "twitapi = TwitterApi(twitter_credentials)"
   ]
  },
  {
   "cell_type": "code",
   "execution_count": 104,
   "metadata": {
    "ExecuteTime": {
     "end_time": "2020-01-01T16:22:55.947834Z",
     "start_time": "2020-01-01T16:22:55.118338Z"
    }
   },
   "outputs": [
    {
     "data": {
      "text/plain": [
       "[Status(ID=1212209862094012416, ScreenName=realDonaldTrump, Created=Wed Jan 01 03:12:07 +0000 2020, Text='https://t.co/EVAEYD1AgV'),\n",
       " Status(ID=1212184310389850119, ScreenName=realDonaldTrump, Created=Wed Jan 01 01:30:35 +0000 2020, Text='HAPPY NEW YEAR!'),\n",
       " Status(ID=1212182267113680896, ScreenName=realDonaldTrump, Created=Wed Jan 01 01:22:28 +0000 2020, Text='Our fantastic First Lady! https://t.co/6iswto4WDI'),\n",
       " Status(ID=1212180752936374275, ScreenName=realDonaldTrump, Created=Wed Jan 01 01:16:27 +0000 2020, Text='Thank you Steve. The greatest Witch Hunt in U.S. history! https://t.co/I3bSNVp6gC'),\n",
       " Status(ID=1212177432452698115, ScreenName=realDonaldTrump, Created=Wed Jan 01 01:03:15 +0000 2020, Text='Thank you to the @dcexaminer Washington Examiner. The list is growing every day! https://t.co/jAOZ0CPYO4'),\n",
       " Status(ID=1212175360093229056, ScreenName=realDonaldTrump, Created=Wed Jan 01 00:55:01 +0000 2020, Text='One of my greatest honors was to have gotten CHOICE approved for our great Veterans. Others have tried for decades, and failed! https://t.co/NcVbbnrT5O'),\n",
       " Status(ID=1212152711753453573, ScreenName=realDonaldTrump, Created=Tue Dec 31 23:25:01 +0000 2019, Text='How is the Paris Accord doing? Don’t ask! https://t.co/9N0yibmDkj'),\n",
       " Status(ID=1212151401780064256, ScreenName=realDonaldTrump, Created=Tue Dec 31 23:19:49 +0000 2019, Text='Wonderful account of U.S. Embassy (Iraq) vs. the Benghazi disaster! https://t.co/qDQtgkjr1S'),\n",
       " Status(ID=1212151378468114436, ScreenName=realDonaldTrump, Created=Tue Dec 31 23:19:43 +0000 2019, Text='Get this straightened out, Governor @GavinNewsom https://t.co/OgTzMQkMQQ'),\n",
       " Status(ID=1212137503941103617, ScreenName=realDonaldTrump, Created=Tue Dec 31 22:24:36 +0000 2019, Text='I am far better on HealthCare than the Democrats! https://t.co/eQDqqMRvq7'),\n",
       " Status(ID=1212134143045320706, ScreenName=realDonaldTrump, Created=Tue Dec 31 22:11:14 +0000 2019, Text='The Fake News said I played golf today, and I did NOT! I had meeting in various locations, while closely monitoring the U.S. Embassy situation in Iraq, which I am still doing. The Corrupt Lamestream Media knew this but, not surprisingly, failed to report or correct!'),\n",
       " Status(ID=1212126024575660035, ScreenName=realDonaldTrump, Created=Tue Dec 31 21:38:59 +0000 2019, Text='The Anti-Benghazi!'),\n",
       " Status(ID=1212124830591586304, ScreenName=realDonaldTrump, Created=Tue Dec 31 21:34:14 +0000 2019, Text='Just for a little change of pace! https://t.co/ZQ7xCIiJru'),\n",
       " Status(ID=1212121026072592384, ScreenName=realDonaldTrump, Created=Tue Dec 31 21:19:07 +0000 2019, Text='....Iran will be held fully responsible for lives lost, or damage incurred, at any of our facilities. They will pay a very BIG PRICE! This is not a Warning, it is a Threat. Happy New Year!'),\n",
       " Status(ID=1212121012151689217, ScreenName=realDonaldTrump, Created=Tue Dec 31 21:19:04 +0000 2019, Text='The U.S. Embassy in Iraq is, &amp; has been for hours, SAFE! Many of our great Warfighters, together with the most lethal military equipment in the world, was immediately rushed to the site. Thank you to the President &amp; Prime Minister of Iraq for their rapid response upon request....'),\n",
       " Status(ID=1212105111130058752, ScreenName=realDonaldTrump, Created=Tue Dec 31 20:15:52 +0000 2019, Text='“This guy (Peter Strzok) was organizing a coup to undo the 2016 election.” Rachel Campos-Duffy  @FoxNews  And he wasn’t the only one in that Administration. The greatest Witch Hunt in American history!'),\n",
       " Status(ID=1212096512710381568, ScreenName=realDonaldTrump, Created=Tue Dec 31 19:41:42 +0000 2019, Text='...on 51 votes, which is procedural. You don’t need two thirds.”  Brad Blakeman @FoxNews  A great lawyer &amp; person. Thank you Brad!'),\n",
       " Status(ID=1212096499942854657, ScreenName=realDonaldTrump, Created=Tue Dec 31 19:41:39 +0000 2019, Text='“It’s my opinion as a lawyer that the Articles of Impeachment are defective on their face, which means I would like to see a Motion to Dismiss and have this disbursed without the necessity of a trial. I don’t think there should be a trial. I think it should be dismissed....'),\n",
       " Status(ID=1212066600771366918, ScreenName=realDonaldTrump, Created=Tue Dec 31 17:42:51 +0000 2019, Text='Remember when Pelosi was screaming that President Trump is a danger to our nation and we must move quickly. They didn’t get one Republican House vote, and lost 3 Dems. They produced no case so now she doesn’t want to go to the Senate. She’s all lies. Most overrated person I know!'),\n",
       " Status(ID=1212064561026797569, ScreenName=realDonaldTrump, Created=Tue Dec 31 17:34:45 +0000 2019, Text='Read the Transcripts!'),\n",
       " Status(ID=1212053764879867904, ScreenName=realDonaldTrump, Created=Tue Dec 31 16:51:51 +0000 2019, Text='Very good meeting on the Middle East, the Military, and Trade. Heading back to The Southern White House (Mar-a-Lago!). Updates throughout the day.'),\n",
       " Status(ID=1212036913139507200, ScreenName=realDonaldTrump, Created=Tue Dec 31 15:44:53 +0000 2019, Text='To those many millions of people in Iraq who want freedom and who don’t want to be dominated and controlled by Iran, this is your time!'),\n",
       " Status(ID=1212014713808273410, ScreenName=realDonaldTrump, Created=Tue Dec 31 14:16:40 +0000 2019, Text='I will be signing our very large and comprehensive Phase One Trade Deal with China on January 15. The ceremony will take place at the White House. High level representatives of China will be present. At a later date I will be going to Beijing where talks will begin on Phase Two!'),\n",
       " Status(ID=1212012065440894976, ScreenName=realDonaldTrump, Created=Tue Dec 31 14:06:09 +0000 2019, Text='President Putin of Russia called to thank me and the U.S. for informing them of a planned terrorist attack in the very beautiful city of Saint Petersburg. They were able to quickly apprehend the suspects, with many lives being saved. Great &amp; important coordination!'),\n",
       " Status(ID=1212008798849814528, ScreenName=realDonaldTrump, Created=Tue Dec 31 13:53:10 +0000 2019, Text='Armed congregants quickly stopped a crazed church shooter in Texas. If it were not for the fact that there were people inside of the church that were both armed, and highly proficient in using their weapon, the end result would have been catastrophic. A big THANK YOU to them!'),\n",
       " Status(ID=1211981022084128768, ScreenName=realDonaldTrump, Created=Tue Dec 31 12:02:47 +0000 2019, Text='Iran killed an American contractor, wounding many. We strongly responded, and always will. Now Iran is orchestrating an attack on the U.S. Embassy in Iraq. They will be held fully responsible. In addition, we expect Iraq to use its forces to protect the Embassy, and so notified!'),\n",
       " Status(ID=1211969354499284992, ScreenName=realDonaldTrump, Created=Tue Dec 31 11:16:26 +0000 2019, Text='The Democrats will do anything to avoid a trial in the Senate in order to protect Sleepy Joe Biden, and expose the millions and millions of dollars that “Where’s” Hunter, &amp; possibly Joe, were paid by companies and countries for doing NOTHING. Joe wants no part of this mess!'),\n",
       " Status(ID=1211813523581546496, ScreenName=realDonaldTrump, Created=Tue Dec 31 00:57:13 +0000 2019, Text='Our prayers are with the families of the victims and the congregation of yesterday’s church attack. It was over in 6 seconds thanks to the brave parishioners who acted to protect 242 fellow worshippers. Lives were saved by these heroes, and Texas laws allowing them to carry arms!'),\n",
       " Status(ID=1211774730258264066, ScreenName=realDonaldTrump, Created=Mon Dec 30 22:23:04 +0000 2019, Text='He is Fake News, will always be Fredo to us. I should release some of his dishonest interviews? Coupled with bad ratings, he’d be out! https://t.co/eEk6pdSRnV'),\n",
       " Status(ID=1211655287247126535, ScreenName=realDonaldTrump, Created=Mon Dec 30 14:28:26 +0000 2019, Text='Thank you to highly respected Jewish leader Dov Hikind for his wonderful statements about me this morning on @foxandfriends.'),\n",
       " Status(ID=1211363928837632002, ScreenName=realDonaldTrump, Created=Sun Dec 29 19:10:41 +0000 2019, Text='The anti-Semitic attack in Monsey, New York, on the 7th night of Hanukkah last night is horrific. We must all come together to fight, confront, and eradicate the evil scourge of anti-Semitism. Melania and I wish the victims a quick and full recovery.'),\n",
       " Status(ID=1211299664852598785, ScreenName=realDonaldTrump, Created=Sun Dec 29 14:55:19 +0000 2019, Text='Crazy Nancy Pelosi should spend more time in her decaying city and less time on the Impeachment Hoax! https://t.co/enoZZFxxmg'),\n",
       " Status(ID=1211270040311476224, ScreenName=realDonaldTrump, Created=Sun Dec 29 12:57:36 +0000 2019, Text='Any answers Nancy? https://t.co/CBb9tlXiue'),\n",
       " Status(ID=1211074529172348928, ScreenName=realDonaldTrump, Created=Sun Dec 29 00:00:43 +0000 2019, Text='Tremendous Spirit! https://t.co/XLqr9vX1xO'),\n",
       " Status(ID=1211074032956854272, ScreenName=realDonaldTrump, Created=Sat Dec 28 23:58:44 +0000 2019, Text='Thank you Joe. So good for our workers! https://t.co/gbCqf88I6j'),\n",
       " Status(ID=1211051649009115136, ScreenName=realDonaldTrump, Created=Sat Dec 28 22:29:48 +0000 2019, Text='Thank you Juliet! https://t.co/61K4wTgTsp'),\n",
       " Status(ID=1211048160296079361, ScreenName=realDonaldTrump, Created=Sat Dec 28 22:15:56 +0000 2019, Text='A Dirty Cop at the highest level. Scum! https://t.co/9t2qETqgcL'),\n",
       " Status(ID=1211047586276270081, ScreenName=realDonaldTrump, Created=Sat Dec 28 22:13:39 +0000 2019, Text='Thank you Adriana! https://t.co/zXqHX55pX5'),\n",
       " Status(ID=1211032731012018182, ScreenName=realDonaldTrump, Created=Sat Dec 28 21:14:37 +0000 2019, Text='So sad to see that New York City and State are falling apart. All they want to do is investigate to make me hate them even more than I should. Governor Cuomo has lost control, and lost his mind. Very bad for the homeless and all!'),\n",
       " Status(ID=1211030803179876353, ScreenName=realDonaldTrump, Created=Sat Dec 28 21:06:57 +0000 2019, Text='I want to thank Rush Limbaugh for the tremendous support he has given to the MAKE AMERICA GREAT AGAIN Movement and our KEEP AMERICA GREAT Agenda! He is a major star who never wavered despite the Fake News Hits he has had to endure. His voice is far bigger than theirs!'),\n",
       " Status(ID=1210916803800707072, ScreenName=realDonaldTrump, Created=Sat Dec 28 13:33:58 +0000 2019, Text='California and New York must do something about their TREMENDOUS Homeless problems. They are setting records! If their Governors can’t handle the situation, which they should be able to do very easily, they must call and “politely” ask for help. Would be so easy with competence!'),\n",
       " Status(ID=1210783484748255234, ScreenName=realDonaldTrump, Created=Sat Dec 28 04:44:12 +0000 2019, Text='The Wall is funded &amp; being built! https://t.co/84BOxKr2Eo'),\n",
       " Status(ID=1210782718524395523, ScreenName=realDonaldTrump, Created=Sat Dec 28 04:41:10 +0000 2019, Text='Now that wasn’t very nice, was it? https://t.co/RHEriGdEQO'),\n",
       " Status(ID=1210779547743842309, ScreenName=realDonaldTrump, Created=Sat Dec 28 04:28:34 +0000 2019, Text='Nancy, this just doesn’t seem right! https://t.co/0fmQj79DLX'),\n",
       " Status(ID=1210775808106586113, ScreenName=realDonaldTrump, Created=Sat Dec 28 04:13:42 +0000 2019, Text='Our great First Lady. She really cares! https://t.co/L4Q3P0MgHI'),\n",
       " Status(ID=1210774216338857984, ScreenName=realDonaldTrump, Created=Sat Dec 28 04:07:22 +0000 2019, Text='Congresswoman Lesko, a great American! https://t.co/EY3hxfvLQO'),\n",
       " Status(ID=1210770931112534016, ScreenName=realDonaldTrump, Created=Sat Dec 28 03:54:19 +0000 2019, Text='A true Democrat Party leader! https://t.co/vQZSEG0vpg'),\n",
       " Status(ID=1210756639269117953, ScreenName=realDonaldTrump, Created=Sat Dec 28 02:57:32 +0000 2019, Text='What kind of an animal is this? https://t.co/oQSExXIxDV'),\n",
       " Status(ID=1210756296481226754, ScreenName=realDonaldTrump, Created=Sat Dec 28 02:56:10 +0000 2019, Text='Hillary should give it another try, but this time don’t forget Wisconsin, Pennsylvania, Michigan, North Carolina &amp; others! https://t.co/UlTsBv16c5'),\n",
       " Status(ID=1210753632976531456, ScreenName=realDonaldTrump, Created=Sat Dec 28 02:45:35 +0000 2019, Text='Thank you! https://t.co/emhA3d8Ojx'),\n",
       " Status(ID=1210753082264436737, ScreenName=realDonaldTrump, Created=Sat Dec 28 02:43:24 +0000 2019, Text='Come on Crazy Nancy, do it! https://t.co/skuSBDdwW1'),\n",
       " Status(ID=1210752675349839875, ScreenName=realDonaldTrump, Created=Sat Dec 28 02:41:47 +0000 2019, Text='He made same prediction in 2016. Nobody ever said Michael was stupid! https://t.co/XDEzsTS1Pt'),\n",
       " Status(ID=1210750161174941696, ScreenName=realDonaldTrump, Created=Sat Dec 28 02:31:47 +0000 2019, Text='Wow Crazy Nancy, what’s going on? This is big stuff! https://t.co/hoHSERKgh9'),\n",
       " Status(ID=1210749216307286016, ScreenName=realDonaldTrump, Created=Sat Dec 28 02:28:02 +0000 2019, Text='@OANN is doing incredible reporting. If Lamestream Media did the same, they would get respect back. At All-Time Low! https://t.co/IMi4a0Dx4f'),\n",
       " Status(ID=1210740248075882497, ScreenName=realDonaldTrump, Created=Sat Dec 28 01:52:24 +0000 2019, Text='Thanks Kayleigh! https://t.co/XOm1m2HJ23'),\n",
       " Status(ID=1210679670133469186, ScreenName=realDonaldTrump, Created=Fri Dec 27 21:51:41 +0000 2019, Text='“Dow closes at another All-Time High!” @cvpayne @FoxBusiness'),\n",
       " Status(ID=1210662521222381569, ScreenName=realDonaldTrump, Created=Fri Dec 27 20:43:32 +0000 2019, Text='So interesting to see Nancy Pelosi demanding fairness from @senatemajldr McConnell when she presided over the most unfair hearing in the history of the United States Congress!'),\n",
       " Status(ID=1210600561529237510, ScreenName=realDonaldTrump, Created=Fri Dec 27 16:37:20 +0000 2019, Text='....and native culture – S.216/Spokane Tribe, S.256/Native Languages and NDAA Sec. 2870 officially recognizing Little Shell Tribe of Chippewa Indians. My great honor to do so!'),\n",
       " Status(ID=1210600560719781889, ScreenName=realDonaldTrump, Created=Fri Dec 27 16:37:20 +0000 2019, Text='Thank YOU Indian Country for being such an IMPORTANT part of the American story! I recently signed 3 bills to support tribal sovereignty....'),\n",
       " Status(ID=1210571664037208064, ScreenName=realDonaldTrump, Created=Fri Dec 27 14:42:30 +0000 2019, Text='“Trump Stock Market rally is far outpacing past U.S. presidents” @CNBC  With new trade deals, and more, THE BEST IS YET TO COME!'),\n",
       " Status(ID=1210568154658803713, ScreenName=realDonaldTrump, Created=Fri Dec 27 14:28:33 +0000 2019, Text='Speaker Pelosi and Chuck Schumer’s drive to try and rig the trial against the President is misplaced. There is no factual basis for the Articles of Impeachment that passed the House. This President will be exonerated.” William McGinley  @foxandfriends'),\n",
       " Status(ID=1210565179949404160, ScreenName=realDonaldTrump, Created=Fri Dec 27 14:16:44 +0000 2019, Text='Thank you Kristy, have a great year! https://t.co/IahxpXNZg7'),\n",
       " Status(ID=1210558076815912960, ScreenName=realDonaldTrump, Created=Fri Dec 27 13:48:31 +0000 2019, Text='Academy Award winning actor (and great guy!) @jonvoight is fantastic in the role of Mickey Donovan in the big television hit, Ray Donovan. From Midnight Cowboy to Deliverance to The Champ (one of the best ever boxing movies), &amp; many others, Jon delivers BIG. Also, LOVES THE USA!'),\n",
       " Status(ID=1210416954068078592, ScreenName=realDonaldTrump, Created=Fri Dec 27 04:27:44 +0000 2019, Text='“Democrats repeatedly claimed impeachment was an urgent matter, but now Nancy Pelosi uses stall tactics to obstruct the Senate.” @replouiegohmert @HeyTammyBruce @FoxNews  It’s all part of the Impeachment Hoax!'),\n",
       " Status(ID=1210415111925649408, ScreenName=realDonaldTrump, Created=Fri Dec 27 04:20:25 +0000 2019, Text='“Pelosi’s stall tactics expose the weakness of Democrat’s impeachment case.” @GreggJarrett @FoxNews'),\n",
       " Status(ID=1210354030997901312, ScreenName=realDonaldTrump, Created=Fri Dec 27 00:17:42 +0000 2019, Text='Thank you Ritchie! https://t.co/1TnVNXRCdn'),\n",
       " Status(ID=1210351400313638914, ScreenName=realDonaldTrump, Created=Fri Dec 27 00:07:15 +0000 2019, Text='The movie will never be the same! (just kidding) https://t.co/FogquK1ei7'),\n",
       " Status(ID=1210350571452022784, ScreenName=realDonaldTrump, Created=Fri Dec 27 00:03:58 +0000 2019, Text='I guess Justin T doesn’t much like my making him pay up on NATO or Trade! https://t.co/sndS7YvIGR'),\n",
       " Status(ID=1210347885386178560, ScreenName=realDonaldTrump, Created=Thu Dec 26 23:53:17 +0000 2019, Text='California leads the nation, by far, in both the number of homeless people, and the percentage increase in the homeless population - two terrible stats. Crazy Nancy should focus on that in her very down district, and helping her incompetent governor with the big homeless problem!'),\n",
       " Status(ID=1210345748933595137, ScreenName=realDonaldTrump, Created=Thu Dec 26 23:44:48 +0000 2019, Text='“Nancy Pelosi is trying to usurp the Constitutional role of the Senate. The longer this goes on, the more petty, partisan &amp; political it all looks.” @KarlRove @FoxNews Just more of the same from the Do Nothing Dems. Nancy should be helping the record number of homeless in her D!'),\n",
       " Status(ID=1210308913620553728, ScreenName=realDonaldTrump, Created=Thu Dec 26 21:18:26 +0000 2019, Text='“Nasdaq Hits 9,000 for First Time Ever” https://t.co/7gyomV32Zy'),\n",
       " Status(ID=1210299694880088065, ScreenName=realDonaldTrump, Created=Thu Dec 26 20:41:48 +0000 2019, Text='“Trump stock market rally is far outpacing past US presidents” https://t.co/lFegwHMLGr'),\n",
       " Status(ID=1210220021433208832, ScreenName=realDonaldTrump, Created=Thu Dec 26 15:25:12 +0000 2019, Text='Russia, Syria, and Iran are killing, or on their way to killing, thousands of innocent civilians in Idlib Province. Don’t do it! Turkey is working hard to stop this carnage.'),\n",
       " Status(ID=1210207810291671045, ScreenName=realDonaldTrump, Created=Thu Dec 26 14:36:41 +0000 2019, Text='Despite all of the great success that our Country has had over the last 3 years, it makes it much more difficult to deal with foreign leaders (and others) when I am having to constantly defend myself against the Do Nothing Democrats &amp; their bogus Impeachment Scam. Bad for USA!'),\n",
       " Status(ID=1210188790008037376, ScreenName=realDonaldTrump, Created=Thu Dec 26 13:21:06 +0000 2019, Text='“Nancy Pelosi has no leverage over the Senate. Mitch McConnell did not nose his way into the impeachment process in the House, and she has no standing in the Senate.” Brad Blakeman. Crazy Nancy should clean up her filthy dirty District &amp; help the homeless there. A primary for N?'),\n",
       " Status(ID=1210183406904074240, ScreenName=realDonaldTrump, Created=Thu Dec 26 12:59:42 +0000 2019, Text='Nancy Pelosi’s District in California has rapidly become one of the worst anywhere in the U.S. when it come to the homeless &amp; crime. It has gotten so bad, so fast - she has lost total control and, along with her equally incompetent governor, Gavin Newsom, it is a very sad sight!'),\n",
       " Status(ID=1210179032031072256, ScreenName=realDonaldTrump, Created=Thu Dec 26 12:42:19 +0000 2019, Text='Brad Blakeman “I happen to believe as a lawyer that the charges are defective, they don’t meet the Constitutional standard of high crimes and misdemeanors, so I would like to see a Motion to Dismiss. At least 51 Republican Senators would agree with that-there should be no trial.”'),\n",
       " Status(ID=1210172955982016512, ScreenName=realDonaldTrump, Created=Thu Dec 26 12:18:11 +0000 2019, Text='The Radical Left, Do Nothing Democrats said they wanted to RUSH everything through to the Senate because “President Trump is a threat to National Security” (they are vicious, will say anything!), but now they don’t want to go fast anymore, they want to go very slowly. Liars!'),\n",
       " Status(ID=1210168044376526848, ScreenName=realDonaldTrump, Created=Thu Dec 26 11:58:40 +0000 2019, Text='“Look, the House is supposed to do all of this work on witnesses and documents BEFORE they send the articles over to the Senate, not to call in new witnesses, go through new documents - that work is supposed to be done in the House.” @KatiePavlich @foxandfriends'),\n",
       " Status(ID=1210035580140175361, ScreenName=realDonaldTrump, Created=Thu Dec 26 03:12:18 +0000 2019, Text='...&amp; overwhelming,” but this Scam Impeachment was neither. Also, very unfair with no Due Process, proper representation, or witnesses. Now Pelosi is demanding everything the Republicans weren’t allowed to have in the House. Dems want to run majority Republican Senate. Hypocrites!'),\n",
       " Status(ID=1210035579179749378, ScreenName=realDonaldTrump, Created=Thu Dec 26 03:12:18 +0000 2019, Text='Why should Crazy Nancy Pelosi, just because she has a slight majority in the House, be allowed to Impeach the President of the United States? Got ZERO Republican votes, there was no crime, the call with Ukraine was perfect, with “no pressure.” She said it must be “bipartisan...'),\n",
       " Status(ID=1209973303919677441, ScreenName=realDonaldTrump, Created=Wed Dec 25 23:04:50 +0000 2019, Text='Wow. It’s all a giant SCAM! https://t.co/e7ZCOVe98F'),\n",
       " Status(ID=1209972732793905154, ScreenName=realDonaldTrump, Created=Wed Dec 25 23:02:34 +0000 2019, Text='Thank you Tammy. You are doing a GREAT job! https://t.co/GqmFbixV7A'),\n",
       " Status(ID=1209964406324510720, ScreenName=realDonaldTrump, Created=Wed Dec 25 22:29:29 +0000 2019, Text='Governor Gavin N has done a really bad job on taking care of the homeless population in California. If he can’t fix the problem, the Federal Govt. will get involved! https://t.co/2z8zM37PUA'),\n",
       " Status(ID=1209935018153455616, ScreenName=realDonaldTrump, Created=Wed Dec 25 20:32:42 +0000 2019, Text='2019 HOLIDAY RETAIL SALES WERE UP 3.4% FROM LAST YEAR, THE BIGGEST NUMBER IN U.S. HISTORY. CONGRATULATIONS AMERICA!'),\n",
       " Status(ID=1209812664601522178, ScreenName=realDonaldTrump, Created=Wed Dec 25 12:26:31 +0000 2019, Text='MERRY CHRISTMAS!'),\n",
       " Status(ID=1209602813019463680, ScreenName=realDonaldTrump, Created=Tue Dec 24 22:32:38 +0000 2019, Text='187 new Federal Judges have been confirmed under the Trump Administration, including two great new United States Supreme Court Justices. We are shattering every record! Read all about this in “The Long Game,” a great new book by @senatemajldr Mitch McConnell. Amazing story!'),\n",
       " Status(ID=1209597945114484736, ScreenName=realDonaldTrump, Created=Tue Dec 24 22:13:18 +0000 2019, Text='https://t.co/jSSY9yvh2P'),\n",
       " Status(ID=1209594493432975360, ScreenName=realDonaldTrump, Created=Tue Dec 24 21:59:35 +0000 2019, Text='https://t.co/kQX5wRIn3X'),\n",
       " Status(ID=1209465106364555264, ScreenName=realDonaldTrump, Created=Tue Dec 24 13:25:26 +0000 2019, Text='The ONLY reason we were able to get our great USMCA Trade Deal approved was because the Do Nothing Democrats wanted to show that they could approve  something productive in light of the fact that all they even think about is impeachment. She knows nothing about the USMCA Deal!'),\n",
       " Status(ID=1209462723328782336, ScreenName=realDonaldTrump, Created=Tue Dec 24 13:15:58 +0000 2019, Text='....the American public’s tone deafness - &amp; it should be intolerable, because the American people have had it with this.” @kilmeade @foxandfriends  The Radical Left, Do Nothing Democrats have gone CRAZY. They want to make it as hard as possible for me to properly run our Country!'),\n",
       " Status(ID=1209449029672873985, ScreenName=realDonaldTrump, Created=Tue Dec 24 12:21:33 +0000 2019, Text='“The Trump Administration, Trump policies, have put our economy on a trajectory it has never been on before.” Griff Jenkins, @foxandfriends'),\n",
       " Status(ID=1209447572546424832, ScreenName=realDonaldTrump, Created=Tue Dec 24 12:15:46 +0000 2019, Text='“Stocks kick off Christmas week at All-Time Record Highs.” @foxandfriends'),\n",
       " Status(ID=1209446147233845250, ScreenName=realDonaldTrump, Created=Tue Dec 24 12:10:06 +0000 2019, Text='....mount some kind of public pressure to demand witnesses, but McConnell has the votes and he can run this trial anyway he wants to. @brithume @foxandfriends'),\n",
       " Status(ID=1209446138811764737, ScreenName=realDonaldTrump, Created=Tue Dec 24 12:10:04 +0000 2019, Text='Everything we’re seeing from Speaker Pelosi and Senator Schumer suggests that they’re in real doubt about the evidence they’ve brought forth so far not being good enough,  and are very, very urgently seeking a way to find some more evidence. The only way to make this work is to..'),\n",
       " Status(ID=1209304295365107713, ScreenName=realDonaldTrump, Created=Tue Dec 24 02:46:26 +0000 2019, Text='“The real victims here are the American people and the Constitution. The Constitution has been damaged by this ploy being used by Nancy Pelosi. This is a very bad time for the United States Constitution.”  @AlanDersh'),\n",
       " Status(ID=1209300561864142848, ScreenName=realDonaldTrump, Created=Tue Dec 24 02:31:36 +0000 2019, Text='What the Democrats are doing is “Obstruction of the Senate. It’s wrong Constitutionally, it’s wrong morally, and it’s wrong politically.” @AlanDersh  @seanhannity  @dbongino l agree, and so does the public!'),\n",
       " Status(ID=1209266861436809216, ScreenName=realDonaldTrump, Created=Tue Dec 24 00:17:41 +0000 2019, Text='STOCK MARKET CLOSES AT ALL-TIME HIGH! What a great time for the Radical Left, Do Nothing Democrats to Impeach your favorite President, especially since he has not done anything wrong!'),\n",
       " Status(ID=1209262137182445569, ScreenName=realDonaldTrump, Created=Mon Dec 23 23:58:55 +0000 2019, Text='NASDAQ UP 72.2% SINCE OUR GREAT 2016 ELECTION VICTORY! DOW UP 55.8%. The best is yet to come!'),\n",
       " Status(ID=1209259291217141760, ScreenName=realDonaldTrump, Created=Mon Dec 23 23:47:36 +0000 2019, Text='I agree 100%! https://t.co/lFUfnLefxT'),\n",
       " Status(ID=1209253611882070017, ScreenName=realDonaldTrump, Created=Mon Dec 23 23:25:02 +0000 2019, Text='Wouldn’t it be reasonable to assume that Republicans in the Senate should handle the Impeachment Hoax in the exact same manner as Democrats in the House handled their recent partisan scam? Why would it be different for Republicans than it was for the Radical Left Democrats?'),\n",
       " Status(ID=1209253611882070017, ScreenName=realDonaldTrump, Created=Mon Dec 23 23:25:02 +0000 2019, Text='Wouldn’t it be reasonable to assume that Republicans in the Senate should handle the Impeachment Hoax in the exact same manner as Democrats in the House handled their recent partisan scam? Why would it be different for Republicans than it was for the Radical Left Democrats?'),\n",
       " Status(ID=1209235491503169536, ScreenName=realDonaldTrump, Created=Mon Dec 23 22:13:02 +0000 2019, Text='....What right does Crazy Nancy have to hold up this Senate trial. None! She has a bad case and would rather not have a negative decision. This Witch Hunt must end NOW with a trial in the Senate, or let her default &amp; lose. No more time should be wasted on this Impeachment Scam!'),\n",
       " Status(ID=1209235490026774528, ScreenName=realDonaldTrump, Created=Mon Dec 23 22:13:01 +0000 2019, Text='Nancy Pelosi, who has already lost the House &amp; Speakership once, &amp; is about to lose it again, is doing everything she can to delay the zero Republican vote Articles of Impeachment. She is trying to take over the Senate, &amp; Cryin’ Chuck is trying to take over the trial. No way!....'),\n",
       " Status(ID=1209106016551481344, ScreenName=realDonaldTrump, Created=Mon Dec 23 13:38:33 +0000 2019, Text='Pelosi gives us the most unfair trial in the history of the U.S. Congress, and now she is crying for fairness in the Senate, and breaking all rules while doing so. She lost Congress once, she will do it again!'),\n",
       " Status(ID=1208873492025925632, ScreenName=realDonaldTrump, Created=Sun Dec 22 22:14:34 +0000 2019, Text='The Democrats and Crooked Hillary paid for &amp; provided a Fake Dossier, with phony information gotten from foreign sources, pushed it to the corrupt media &amp; Dirty Cops, &amp; have now been caught. They spied on my campaign, then tried to cover it up - Just Like Watergate, but bigger!'),\n",
       " Status(ID=1208845039230689280, ScreenName=realDonaldTrump, Created=Sun Dec 22 20:21:31 +0000 2019, Text='Melania and I send our warmest wishes to Jewish people in the United States, Israel, and across the world as you commence the 8-day celebration of Hanukkah. https://t.co/WgQyO9qxSs'),\n",
       " Status(ID=1208844297912619008, ScreenName=realDonaldTrump, Created=Sun Dec 22 20:18:34 +0000 2019, Text='Crazy Nancy wants to dictate terms on the Impeachment Hoax to the Republican Majority Senate, but striped away all Due Process, no lawyers or witnesses, on the Democrat Majority House. The Dems just wish it would all end. Their case is dead, their poll numbers are horrendous!'),\n",
       " Status(ID=1208587674342301703, ScreenName=realDonaldTrump, Created=Sun Dec 22 03:18:50 +0000 2019, Text='https://t.co/ryVvzb6EGt'),\n",
       " Status(ID=1208587342879047681, ScreenName=realDonaldTrump, Created=Sun Dec 22 03:17:31 +0000 2019, Text='https://t.co/rJ4yo4htsy'),\n",
       " Status(ID=1208494102062477312, ScreenName=realDonaldTrump, Created=Sat Dec 21 21:07:01 +0000 2019, Text='https://t.co/h5bAKuoyV2'),\n",
       " Status(ID=1208471806815997953, ScreenName=realDonaldTrump, Created=Sat Dec 21 19:38:25 +0000 2019, Text='Last night I was so proud to have signed the largest Defense Bill ever. The very vital Space Force was created. New planes, ships, missiles, rockets and equipment of every kind, and all made right here in the USA. Additionally, we got Border Wall (being built) funding. Nice!'),\n",
       " Status(ID=1208260654571896832, ScreenName=realDonaldTrump, Created=Sat Dec 21 05:39:23 +0000 2019, Text='https://t.co/aVE8FY0eP0 https://t.co/5iTkl6q9oQ'),\n",
       " Status(ID=1208248471200899072, ScreenName=realDonaldTrump, Created=Sat Dec 21 04:50:58 +0000 2019, Text='The great Democrat disgrace. But we are winning! https://t.co/45mtfzKbA2'),\n",
       " Status(ID=1208247467818594305, ScreenName=realDonaldTrump, Created=Sat Dec 21 04:46:59 +0000 2019, Text='Plus, never did anything wrong. Read the Transcripts. A Democrat Hoax! https://t.co/7ou3jJg1m5'),\n",
       " Status(ID=1208246633168850944, ScreenName=realDonaldTrump, Created=Sat Dec 21 04:43:40 +0000 2019, Text='Broke all time Stock Market Record again today. 135 times since my 2016 Election Win. Thank you!'),\n",
       " Status(ID=1208245861974790148, ScreenName=realDonaldTrump, Created=Sat Dec 21 04:40:36 +0000 2019, Text='Thank you Franklin! https://t.co/ULMS2tl0zy'),\n",
       " Status(ID=1208240210364051456, ScreenName=realDonaldTrump, Created=Sat Dec 21 04:18:08 +0000 2019, Text='https://t.co/5Oa0iU92vI'),\n",
       " Status(ID=1208231562552188930, ScreenName=realDonaldTrump, Created=Sat Dec 21 03:43:47 +0000 2019, Text='BIG thank you to Mac Thornberry (@MacTXPress) for a GREAT Defense Deal! Mac has been a champion for our Military and Vets his whole career, and now he can add Space Force to his accomplishments. Look forward to another great defense bill next year, Mac! @HASCRepublicans'),\n",
       " Status(ID=1208230850040672257, ScreenName=realDonaldTrump, Created=Sat Dec 21 03:40:57 +0000 2019, Text='Proud of @JimInhofe’s tenacious Oklahoma spirit that got the NDAA done. Maybe the best yet because it takes care of troops &amp; establishes SPACE FORCE, which is 1st new branch since 1947 (Air Force). Another huge win for Jim’s legacy. To many more! @SASCMajority https://t.co/w0EiubrriG'),\n",
       " Status(ID=1208228664049111045, ScreenName=realDonaldTrump, Created=Sat Dec 21 03:32:15 +0000 2019, Text='My Administration pushed to include a big expansion to Veteran telehealth in the spending bill so that the brave men and women who served our Country get the care they need. #RuralProsperity'),\n",
       " Status(ID=1208228582386020352, ScreenName=realDonaldTrump, Created=Sat Dec 21 03:31:56 +0000 2019, Text='Honored to finally put an end to the “Widow’s Tax” and ensure that our surviving military spouses receive their full benefits. The spouses and families of our fallen heroes have suffered enough and WE must do everything in our power to ease the burden.'),\n",
       " Status(ID=1208228389246701568, ScreenName=realDonaldTrump, Created=Sat Dec 21 03:31:10 +0000 2019, Text='We will always provide for our Veterans and their mental health. I pushed Congress to provide $10 Billion for Vet mental health, suicide prevention outreach, and funding for my PREVENTS Initiative to end Vet suicide. Congress responded. A big win for our Vets!'),\n",
       " Status(ID=1208228299119439878, ScreenName=realDonaldTrump, Created=Sat Dec 21 03:30:48 +0000 2019, Text='A total Witch Hunt! https://t.co/PEe35rewE9'),\n",
       " Status(ID=1208228281402757121, ScreenName=realDonaldTrump, Created=Sat Dec 21 03:30:44 +0000 2019, Text='Last year I signed legislation that gives our Veterans CHOICE, through private providers, and at urgent care facilities! Today we fully funded this $10 billion a year effort that gets our brave Veterans care quickly, and close to home.'),\n",
       " Status(ID=1208224663115042816, ScreenName=realDonaldTrump, Created=Sat Dec 21 03:16:22 +0000 2019, Text='“It’s time to put House Democrats on trial.”  @IngrahamAngle'),\n",
       " Status(ID=1208221277917515777, ScreenName=realDonaldTrump, Created=Sat Dec 21 03:02:54 +0000 2019, Text='To Our Incredible Federal Workforce: https://t.co/zIyXW834H5'),\n",
       " Status(ID=1208220823137505280, ScreenName=realDonaldTrump, Created=Sat Dec 21 03:01:06 +0000 2019, Text='To The Extraordinary Men and Women of the United States Military: https://t.co/luDyPVKgfY'),\n",
       " Status(ID=1208155412962447360, ScreenName=realDonaldTrump, Created=Fri Dec 20 22:41:11 +0000 2019, Text='We are getting MS-13 gang members, and many other people that shouldn’t be here, out of our Country! https://t.co/Cfk4iIBVTQ'),\n",
       " Status(ID=1208151834109587456, ScreenName=realDonaldTrump, Created=Fri Dec 20 22:26:58 +0000 2019, Text='THANK YOU! #KAG2020🇺🇸 https://t.co/fX5FGxYBuU'),\n",
       " Status(ID=1208137095270862848, ScreenName=realDonaldTrump, Created=Fri Dec 20 21:28:24 +0000 2019, Text='Nancy Pelosi is looking for a Quid Pro Quo with the Senate. Why aren’t we Impeaching her?'),\n",
       " Status(ID=1208135784152358913, ScreenName=realDonaldTrump, Created=Fri Dec 20 21:23:11 +0000 2019, Text='Economy is GREAT, Big Stock Market uptick today. Best ranking in 20 years admits CNN! https://t.co/fhee5zYqvB'),\n",
       " Status(ID=1208132227667812357, ScreenName=realDonaldTrump, Created=Fri Dec 20 21:09:03 +0000 2019, Text='Just had a great call with the President of Brazil, @JairBolsonaro. We discussed many subjects including Trade. The relationship between the United States and Brazil has never been Stronger!'),\n",
       " Status(ID=1208131920598573056, ScreenName=realDonaldTrump, Created=Fri Dec 20 21:07:50 +0000 2019, Text='....Kevin is strong on Securing the Border, #USMCA, protecting our #2A, and Loves our Vets and Military. Kevin is a true friend, and has my Complete and Total Endorsement!'),\n",
       " Status(ID=1208131919667433475, ScreenName=realDonaldTrump, Created=Fri Dec 20 21:07:50 +0000 2019, Text='Congressman Kevin Brady (@bradyfortexas) is an outstanding representative for our Country and the Great State of Texas. A big supporter of our #MAGA Agenda....'),\n",
       " Status(ID=1208130977500991489, ScreenName=realDonaldTrump, Created=Fri Dec 20 21:04:05 +0000 2019, Text='....and has my FULL Endorsement. This is a BIG win for our GOP and a BIG win for South Jersey. South Jersey is TRUMP COUNTRY, so I know ALL NJ Republicans will join me in supporting Jeff Van Drew. The Dems are already coming after him, so help Jeff win. https://t.co/whoUDnen12'),\n",
       " Status(ID=1208130976188108805, ScreenName=realDonaldTrump, Created=Fri Dec 20 21:04:05 +0000 2019, Text='The Democrat Party’s Witch Hunt and CRAZY EXTREME policies are chasing common sense people out of the Dem Party. That’s why Jeff Van Drew (@CongressmanJVD) voted NO on the Impeachment Hoax. Jeff will be joining our growing Republican Party....'),\n",
       " Status(ID=1208129708690464771, ScreenName=realDonaldTrump, Created=Fri Dec 20 20:59:03 +0000 2019, Text='Congressman @ScottRTipton is a great supporter of the #MAGA Agenda! He fights for your #2A rights and the Border Wall. Scott is working hard for Colorado and has my Complete and Total Endorsement!'),\n",
       " Status(ID=1208089516176805888, ScreenName=realDonaldTrump, Created=Fri Dec 20 18:19:20 +0000 2019, Text='Thank you to Franklin Graham for stating that his father, the late great Billy Graham, voted for me in the 2016 Election. I know how pleased you are with the work we have all done together! https://t.co/40RX2KM4Vv'),\n",
       " Status(ID=1208089293308211202, ScreenName=realDonaldTrump, Created=Fri Dec 20 18:18:27 +0000 2019, Text='I guess the magazine, “Christianity Today,” is looking for Elizabeth Warren, Bernie Sanders, or those of the socialist/communist bent, to guard their religion. How about Sleepy Joe? The fact is, no President has ever done what I have done for Evangelicals, or religion itself!'),\n",
       " Status(ID=1208045488156614659, ScreenName=realDonaldTrump, Created=Fri Dec 20 15:24:23 +0000 2019, Text='Had a very good talk with President Xi of China concerning our giant Trade Deal. China has already started large scale purchaes of agricultural product &amp; more. Formal signing being arranged. Also talked about North Korea, where we are working with China, &amp; Hong Kong (progress!).'),\n",
       " Status(ID=1208029119776247808, ScreenName=realDonaldTrump, Created=Fri Dec 20 14:19:20 +0000 2019, Text='I will be signing our 738 Billion Dollar Defense Spending Bill today. It will include 12 weeks  Paid Parental Leave, gives our troops a raise, importantly creates the SPACE FORCE, SOUTHERN BORDER WALL FUNDING, repeals “Cadillac Tax” on Health Plans, raises smoking age to 21! BIG!'),\n",
       " Status(ID=1207997319821615105, ScreenName=realDonaldTrump, Created=Fri Dec 20 12:12:59 +0000 2019, Text='....have a Radical Left nonbeliever, who wants to take your religion &amp; your guns, than Donald Trump as your President. No President has done more for the Evangelical community, and it’s not even close. You’ll not get anything from those Dems on stage. I won’t be reading ET again!'),\n",
       " Status(ID=1207997316424187905, ScreenName=realDonaldTrump, Created=Fri Dec 20 12:12:58 +0000 2019, Text='A far left magazine, or very “progressive,” as some would call it, which has been doing poorly and hasn’t been involved with the Billy Graham family for many years, Christianity Today, knows nothing about reading a perfect transcript of a routine phone call and would rather.....'),\n",
       " Status(ID=1207982039934345216, ScreenName=realDonaldTrump, Created=Fri Dec 20 11:12:16 +0000 2019, Text='Thank you Bill. So true! https://t.co/BaMNE4TXdU'),\n",
       " Status(ID=1207885669495922688, ScreenName=realDonaldTrump, Created=Fri Dec 20 04:49:19 +0000 2019, Text='“House Democrats perpetrating a fraud on America.” @IngrahamAngle'),\n",
       " Status(ID=1207882239498960896, ScreenName=realDonaldTrump, Created=Fri Dec 20 04:35:41 +0000 2019, Text='#MAGA https://t.co/VN3A1v5yUk'),\n",
       " Status(ID=1207862428802916354, ScreenName=realDonaldTrump, Created=Fri Dec 20 03:16:58 +0000 2019, Text='“What’s been revealed is a Country in better shape than it’s been in decades. Working men and women in the Country are the beneficiaries of a President who’s doing exactly what he said he was going to do, that is to restore prosperity for all Americans.” @LouDobbs  Thank you Lou!'),\n",
       " Status(ID=1207857396913201154, ScreenName=realDonaldTrump, Created=Fri Dec 20 02:56:58 +0000 2019, Text='“This is political malpractice. This is a horrible judgement call on the part of the Speaker. You put your members in Trump friendly districts in a very difficult spot. It’s only going to extend it out further. This looks like the joke that it actually is.” Ben Domenech'),\n",
       " Status(ID=1207842238623080448, ScreenName=realDonaldTrump, Created=Fri Dec 20 01:56:44 +0000 2019, Text='The reason the Democrats don’t want to submit the Articles of Impeachment to the Senate is that they don’t want corrupt politician Adam Shifty Schiff to testify under oath, nor do they want the Whistleblower, the missing second Whistleblower, the informer, the Bidens, to testify!'),\n",
       " Status(ID=1207821957988835329, ScreenName=realDonaldTrump, Created=Fri Dec 20 00:36:09 +0000 2019, Text='The House Democrats were unable to get even a single vote from the Republicans on their Impeachment Hoax. The Republicans have never been so united!  The Dem’s case is so bad that they don’t even want to go to trial!'),\n",
       " Status(ID=1207817078725578755, ScreenName=realDonaldTrump, Created=Fri Dec 20 00:16:46 +0000 2019, Text='So after the Democrats gave me no Due Process in the House, no lawyers, no witnesses, no nothing, they now want to tell the Senate how to run their trial. Actually, they have zero proof of anything, they will never even show up. They want out. I want an immediate trial!'),\n",
       " Status(ID=1207811646300790784, ScreenName=realDonaldTrump, Created=Thu Dec 19 23:55:11 +0000 2019, Text='The great USMCA Trade Deal (Mexico &amp; Canada) has been sitting on Nancy Pelosi’s desk for 8 months, she doesn’t even know what it says, &amp; today, after passing by a wide margin in the House, Pelosi tried to take credit for it. Labor will vote for Trump. Trade deal is great for USA!'),\n",
       " Status(ID=1207808421275275264, ScreenName=realDonaldTrump, Created=Thu Dec 19 23:42:22 +0000 2019, Text='“Jesse (Watters), this is the best year any President has ever had, plus we get an impeachment.” @greggutfeld The Five @FoxNews'),\n",
       " Status(ID=1207694073634705414, ScreenName=realDonaldTrump, Created=Thu Dec 19 16:07:59 +0000 2019, Text='Pelosi feels her phony impeachment HOAX is so pathetic she is afraid to present it to the Senate, which can set a date and put this whole SCAM into default if they refuse to show up! The Do Nothings are so bad for our Country!'),\n",
       " Status(ID=1207690276673900544, ScreenName=realDonaldTrump, Created=Thu Dec 19 15:52:54 +0000 2019, Text='Thank you Rena! https://t.co/HcFHB61cPD'),\n",
       " Status(ID=1207689056538308611, ScreenName=realDonaldTrump, Created=Thu Dec 19 15:48:03 +0000 2019, Text='Thank you Terrence! https://t.co/6qro1mI4dm'),\n",
       " Status(ID=1207686380626857984, ScreenName=realDonaldTrump, Created=Thu Dec 19 15:37:25 +0000 2019, Text='Thank you Anne! https://t.co/e0NwWJp8PH'),\n",
       " Status(ID=1207685345225129985, ScreenName=realDonaldTrump, Created=Thu Dec 19 15:33:18 +0000 2019, Text='Our great Congressman Gohmert is a TRUE patriot fighting back against people that must hate our Country! https://t.co/KpaWqpStpP'),\n",
       " Status(ID=1207664706837733376, ScreenName=realDonaldTrump, Created=Thu Dec 19 14:11:18 +0000 2019, Text='This is what the Dems are dealing with. Does anyone think this is good for the USA! https://t.co/rvY3mDo69r'),\n",
       " Status(ID=1207664621336825856, ScreenName=realDonaldTrump, Created=Thu Dec 19 14:10:57 +0000 2019, Text='I got Impeached last night without one Republican vote being cast with the Do Nothing Dems on their continuation of the greatest Witch Hunt in American history. Now the Do Nothing Party want to Do Nothing with the Articles &amp; not deliver them to the Senate, but it’s Senate’s call!'),\n",
       " Status(ID=1207654525215150081, ScreenName=realDonaldTrump, Created=Thu Dec 19 13:30:50 +0000 2019, Text='PRESIDENTIAL HARASSMENT!'),\n",
       " Status(ID=1207652447474335746, ScreenName=realDonaldTrump, Created=Thu Dec 19 13:22:35 +0000 2019, Text='“The Senate shall set the time and place of the trial.” If the Do Nothing Democrats decide, in their great wisdom, not to show up, they would lose by Default!'),\n",
       " Status(ID=1207639703538851840, ScreenName=realDonaldTrump, Created=Thu Dec 19 12:31:56 +0000 2019, Text='100% Republican Vote. That’s what people are talking about. The Republicans are united like never before!'),\n",
       " Status(ID=1207508280207011841, ScreenName=realDonaldTrump, Created=Thu Dec 19 03:49:43 +0000 2019, Text='https://t.co/DutxclyZw9'),\n",
       " Status(ID=1207434958588932096, ScreenName=realDonaldTrump, Created=Wed Dec 18 22:58:21 +0000 2019, Text='THANK YOU! #KAG https://t.co/CltmJQdm1t'),\n",
       " Status(ID=1207434514433069057, ScreenName=realDonaldTrump, Created=Wed Dec 18 22:56:35 +0000 2019, Text='Thank you Michigan, I am on my way. See everybody soon! #KAG https://t.co/GP9SbH67CN'),\n",
       " Status(ID=1207355923573989376, ScreenName=realDonaldTrump, Created=Wed Dec 18 17:44:18 +0000 2019, Text='SUCH ATROCIOUS LIES BY THE RADICAL LEFT, DO NOTHING DEMOCRATS. THIS IS AN ASSAULT ON AMERICA, AND AN ASSAULT ON THE REPUBLICAN PARTY!!!!'),\n",
       " Status(ID=1207339288406503426, ScreenName=realDonaldTrump, Created=Wed Dec 18 16:38:12 +0000 2019, Text='....won’t convict and remove the President - Then the House should not be Impeaching the President in the first place. If this is the new standard, every President from here on out is impeachable.”  Andy McCarthy @FoxNews  So well stated. Thank you!'),\n",
       " Status(ID=1207339280504414212, ScreenName=realDonaldTrump, Created=Wed Dec 18 16:38:10 +0000 2019, Text='In the end here, nothing happened. We don’t approach anything like the egregious conduct that should be necessary before a President should be removed from office. I believe that a President can’t be removed from office if there is no reasonable possibility that the Senate..'),\n",
       " Status(ID=1207333331777605635, ScreenName=realDonaldTrump, Created=Wed Dec 18 16:14:32 +0000 2019, Text='“The evidence has to be overwhelming, and it is not. It’s not even close.” Ken Starr, Former Independent Counsel'),\n",
       " Status(ID=1207327108508377088, ScreenName=realDonaldTrump, Created=Wed Dec 18 15:49:48 +0000 2019, Text='Will go down in history as worst Speaker. Already thrown out once! https://t.co/Q6N2EVlp9j'),\n",
       " Status(ID=1207325357310955522, ScreenName=realDonaldTrump, Created=Wed Dec 18 15:42:50 +0000 2019, Text='Thank you! https://t.co/YewSlzHxBM'),\n",
       " Status(ID=1207323104898404360, ScreenName=realDonaldTrump, Created=Wed Dec 18 15:33:53 +0000 2019, Text='“Impeachment is a terrible idea for the Country. The more people learn about impeachment, the less people want impeachment.” @TuckerCarlson'),\n",
       " Status(ID=1207317586637021185, ScreenName=realDonaldTrump, Created=Wed Dec 18 15:11:58 +0000 2019, Text='“This is all about convicting a President based on innuendo, not on the facts. Even the Ukrainian President said there was no pressure!” @RepMarkMeadows'),\n",
       " Status(ID=1207298128941961216, ScreenName=realDonaldTrump, Created=Wed Dec 18 13:54:39 +0000 2019, Text='Thank you! https://t.co/UWMjeqdue4'),\n",
       " Status(ID=1207295564074962944, ScreenName=realDonaldTrump, Created=Wed Dec 18 13:44:27 +0000 2019, Text='Thank you! https://t.co/3gTPOd33Io'),\n",
       " Status(ID=1207295564074962944, ScreenName=realDonaldTrump, Created=Wed Dec 18 13:44:27 +0000 2019, Text='Thank you! https://t.co/3gTPOd33Io'),\n",
       " Status(ID=1207292709230325760, ScreenName=realDonaldTrump, Created=Wed Dec 18 13:33:06 +0000 2019, Text='Sean P is a much stronger candidate! https://t.co/LPGqDiVi1J'),\n",
       " Status(ID=1207291285683367936, ScreenName=realDonaldTrump, Created=Wed Dec 18 13:27:27 +0000 2019, Text='Sean is a great patriot and will do a fantastic job. Has my total and complete endorsement! https://t.co/GxLuWGjKYX'),\n",
       " Status(ID=1207289048240312322, ScreenName=realDonaldTrump, Created=Wed Dec 18 13:18:34 +0000 2019, Text='....out, and he’s been amazing at it. The Democrsts have no message, they have no hope for 2020.” @RepDougCollins @foxandfriends  Thank you Doug!'),\n",
       " Status(ID=1207289046482870272, ScreenName=realDonaldTrump, Created=Wed Dec 18 13:18:33 +0000 2019, Text='....had, while the Democrats are just looking out for elections. This President should just continue to fight like he’s always fought, for himself &amp; for this Country. Continue to put forth policies like prescription drugs &amp; trade policies. That’s what makes this President stand..'),\n",
       " Status(ID=1207289043983056896, ScreenName=realDonaldTrump, Created=Wed Dec 18 13:18:33 +0000 2019, Text='....said, “I’m going to clean up Washington, I’m going to help people.” He gave big tax cuts, he’s made our military strong. They’re mad at him because he actually did what he said he was going to do. History will record we’re experiencing some of the best times we’ve ever.....'),\n",
       " Status(ID=1207289040182988801, ScreenName=realDonaldTrump, Created=Wed Dec 18 13:18:32 +0000 2019, Text='“It’s sad. Here’s a gentleman who came to the White House and all they had was never to let him have an easy breath. All they wanted to do is impeach him. They started the day after he was elected, even the day after he was sworn in.  But this President came to Washington and....'),\n",
       " Status(ID=1207281232259760128, ScreenName=realDonaldTrump, Created=Wed Dec 18 12:47:30 +0000 2019, Text='“They just wanted to get at the President. They had no intention of having a proper investigation. They couldn’t find any crimes so they did a vague abuse of power and abuse of Congress, which every administration from the beginning has done.” @RepDougCollins @foxandfriends'),\n",
       " Status(ID=1207277859519238154, ScreenName=realDonaldTrump, Created=Wed Dec 18 12:34:06 +0000 2019, Text='Can you believe that I will be impeached today by the Radical Left, Do Nothing Democrats, AND I DID NOTHING WRONG! A terrible Thing. Read the Transcripts. This should never happen to another President again. Say a PRAYER!'),\n",
       " Status(ID=1207272207799463936, ScreenName=realDonaldTrump, Created=Wed Dec 18 12:11:39 +0000 2019, Text='.@foxandfriends  “My hope is that impeachment will never become this trivial again.” @kilmeade  Well said Brian!'),\n",
       " Status(ID=1207152841854509057, ScreenName=realDonaldTrump, Created=Wed Dec 18 04:17:19 +0000 2019, Text='.@marcthiessen  “Voters say the Democrats are trying to take away their votes. Pelosi was right the first time. Impeachment has backfired thoroughly on the Democrats. How can you Impeach the President for going to the courts?”'),\n",
       " Status(ID=1207151167173775360, ScreenName=realDonaldTrump, Created=Wed Dec 18 04:10:40 +0000 2019, Text='....They want to Impeach me (I’m not worried!), and yet they were all breaking the law in so many ways. How can they do that and yet impeach a very successful (Economy Plus) President of the United States, who has done nothing wrong? These people are Crazy!'),\n",
       " Status(ID=1207151165894471680, ScreenName=realDonaldTrump, Created=Wed Dec 18 04:10:40 +0000 2019, Text='So, if Comey &amp; the top people in the FBI were dirty cops and cheated on the FISA Court, wouldn’t all of these phony cases have to be overturned or dismissed? They went after me with the Fake Dossier, paid for by Crooked Hillary &amp; the DNC, which they illegally presented to FISA...'),\n",
       " Status(ID=1207147066075549697, ScreenName=realDonaldTrump, Created=Wed Dec 18 03:54:22 +0000 2019, Text='Good marks and reviews on the letter I sent to Pelosi today. She is the worst! No wonder with people like her and Cryin’ Chuck Schumer, D.C. has been such a mess for so long - and that includes the previous administration who (and now we know for sure) SPIED on my campaign.'),\n",
       " Status(ID=1207085185579261952, ScreenName=realDonaldTrump, Created=Tue Dec 17 23:48:29 +0000 2019, Text='Democrat “leadership,” despite their denials, are putting tremendous pressure on their members to vote yes on this ridiculous Impeachment. If they vote yes, it will be much easier for Republicans to win in 2020!'),\n",
       " Status(ID=1207076582629761024, ScreenName=realDonaldTrump, Created=Tue Dec 17 23:14:18 +0000 2019, Text='Wow! “In a stunning rebuke of the FBI, the FISA court severly chastised the FBI for the FISA abuses brought to light in the recent Inspector General’s Report. There were at least 17 significant errors.” @FoxNews Statement by the Court was long and tough. Means my case was a SCAM!'),\n",
       " Status(ID=1207055996687921152, ScreenName=realDonaldTrump, Created=Tue Dec 17 21:52:30 +0000 2019, Text='https://t.co/WzLB5s41m3'),\n",
       " Status(ID=1207053956142292994, ScreenName=realDonaldTrump, Created=Tue Dec 17 21:44:23 +0000 2019, Text='Senator Dan Sullivan is doing a great job for the people of Alaska while supporting our #MAGA Agenda. He fights hard everyday to support our Veterans and the Military. Dan is Strong on the #2A and is 100% pro-jobs. I give Dan Sullivan my Complete and Total Endorsement!'),\n",
       " Status(ID=1207047981037477890, ScreenName=realDonaldTrump, Created=Tue Dec 17 21:20:39 +0000 2019, Text=\".@Buddy_Carter is a BUSINESSMAN first. He takes care of our Vets and Troops and is leading the fight to SLASH drug prices! Buddy's 100% pro-Wall &amp; 100% pro-jobs. He will KEEP AMERICA GREAT and has my total, Strong Endorsement!\"),\n",
       " Status(ID=1207047767987757058, ScreenName=realDonaldTrump, Created=Tue Dec 17 21:19:48 +0000 2019, Text='Congressman @Denver4VA Riggleman is a true CONSERVATIVE leader who has done a great job for Virginia and will support our #MAGA Agenda. He defends our right to bear arms, protect our Borders &amp; help small businesses. Denver has my Total Endorsement!'),\n",
       " Status(ID=1207047247734681601, ScreenName=realDonaldTrump, Created=Tue Dec 17 21:17:44 +0000 2019, Text='Congressman @MarkwayneMullin is a big time #MAGA supporter! Markwayne has fought hard for Oklahoma Veterans and Military, he loves our Farmers and he’s Strong on Border Security. I give Markwayne my Complete and Total Endorsement!'),\n",
       " Status(ID=1207046521440686080, ScreenName=realDonaldTrump, Created=Tue Dec 17 21:14:51 +0000 2019, Text='Congresswoman Kay @GrangerCampaign has worked hard for Texas and been a strong supporter of our #MAGA Agenda. She’s strong on #2A and Securing our Border and is 100% pro-life. Kay has my Complete and Total Endorsement!'),\n",
       " Status(ID=1207014890734534659, ScreenName=realDonaldTrump, Created=Tue Dec 17 19:09:09 +0000 2019, Text='We support @JeanineAnez in Bolivia as she works to ensure a peaceful democratic transition through free elections. We denounce the ongoing violence and those that provoke it both in Bolivia and from afar. The U.S. stands with the people of the region for peace and democracy!'),\n",
       " Status(ID=1206955788880756736, ScreenName=realDonaldTrump, Created=Tue Dec 17 15:14:18 +0000 2019, Text='....chance, they’ve had their kangaroo court, they’ve had their circus for weeks and months. There just isn’t anything there and there’s no way I’m voting for Impeachment for somebody who hasn’t committed any impeachable offenses.” @IngrahamAngle'),\n",
       " Status(ID=1206955787953807360, ScreenName=realDonaldTrump, Created=Tue Dec 17 15:14:18 +0000 2019, Text='Senator Josh Hawley (R-Mo) “They (the Dems) don’t have anything. This whole thing is a joke, and it’s time to get the President exonerated. The House has no evidence of any impeachable offense. There’s nothing there, and they didn’t even charge a crime. They’ve had their.....'),\n",
       " Status(ID=1206955356280279040, ScreenName=realDonaldTrump, Created=Tue Dec 17 15:12:35 +0000 2019, Text='Would be sooo great if the Fed would further lower interest rates and quantitative ease. The Dollar is very strong against other currencies and there is almost no inflation. This is the time to do it. Exports would zoom!'),\n",
       " Status(ID=1206951340401934342, ScreenName=realDonaldTrump, Created=Tue Dec 17 14:56:38 +0000 2019, Text='The new USA Today Poll, just out, has me leading all of the Democrat contenders. That’s hard to believe since the Fake News &amp; 3 year Scams and Witch Hunts, as phony as they are, just never seem to end. The American people are smart. They see the great economy, &amp; everything else!'),\n",
       " Status(ID=1206950027148582912, ScreenName=realDonaldTrump, Created=Tue Dec 17 14:51:25 +0000 2019, Text='Impeachment Poll numbers are starting to drop like a rock now that people are understanding better what this whole Democrat Scam is all about!'),\n",
       " Status(ID=1206949378310713344, ScreenName=realDonaldTrump, Created=Tue Dec 17 14:48:50 +0000 2019, Text='.@FoxNews  “Trump wins major victories in China and USMCA trade deals, defense spending and Space Force.” Thank you!'),\n",
       " Status(ID=1206946946289668099, ScreenName=realDonaldTrump, Created=Tue Dec 17 14:39:10 +0000 2019, Text='The Stock Market hit another Record High yesterday, number 133 in less than three years as your all time favorite President, and the Radical Left, Do Nothing Democrats, want to impeach me. Don’t worry, I have done nothing wrong. Actually, they have!'),\n",
       " Status(ID=1206812317809143808, ScreenName=realDonaldTrump, Created=Tue Dec 17 05:44:12 +0000 2019, Text='Congressman Jeff Van Drew is very popular in our great and very united Republican Party. It was a tribute to him that he was able to win his heavily Republican district as a Democrat. People like that are not easily replaceable!'),\n",
       " Status(ID=1206687258100871168, ScreenName=realDonaldTrump, Created=Mon Dec 16 21:27:16 +0000 2019, Text='https://t.co/YLmzkgro4d'),\n",
       " Status(ID=1206670057805357059, ScreenName=realDonaldTrump, Created=Mon Dec 16 20:18:55 +0000 2019, Text='https://t.co/Kd1RSELPLp'),\n",
       " Status(ID=1206630531162611712, ScreenName=realDonaldTrump, Created=Mon Dec 16 17:41:51 +0000 2019, Text='New Stock Market high! I will never get bored of telling you that – and we will never get tired of winning!'),\n",
       " Status(ID=1206590608586027013, ScreenName=realDonaldTrump, Created=Mon Dec 16 15:03:13 +0000 2019, Text='Wow! https://t.co/gYGUEKpGac'),\n",
       " Status(ID=1206585783383154688, ScreenName=realDonaldTrump, Created=Mon Dec 16 14:44:02 +0000 2019, Text='Thank you Devin. Great reflexes! https://t.co/46jb64LalD'),\n",
       " Status(ID=1206583138534735876, ScreenName=realDonaldTrump, Created=Mon Dec 16 14:33:32 +0000 2019, Text='Thank you CC! https://t.co/qfagL6s78G'),\n",
       " Status(ID=1206581054619996161, ScreenName=realDonaldTrump, Created=Mon Dec 16 14:25:15 +0000 2019, Text='....to me, and there are many options, including doing them directly &amp; avoiding the nasty politics of this very biased Commission. I will make a decision at an appropriate time but in the meantime, the Commission on Presidential Debates is NOT authorized to speak for me (or R’s)!'),\n",
       " Status(ID=1206581051176435712, ScreenName=realDonaldTrump, Created=Mon Dec 16 14:25:14 +0000 2019, Text='....The problem is that the so-called Commission on Presidential Debates is stacked with Trump Haters &amp; Never Trumpers. 3 years ago they were forced to publicly apologize for modulating my microphone in the first debate against Crooked Hillary. As President, the debates are up...'),\n",
       " Status(ID=1206581028283965441, ScreenName=realDonaldTrump, Created=Mon Dec 16 14:25:08 +0000 2019, Text='I look very much forward to debating whoever the lucky person is who stumbles across the finish line in the little watched Do Nothing Democrat Debates. My record is so good on the Economy and all else, including debating, that perhaps I would consider more than 3 debates.....'),\n",
       " Status(ID=1206573270121766912, ScreenName=realDonaldTrump, Created=Mon Dec 16 13:54:19 +0000 2019, Text='READ THE TRANSCRIPTS! The Impeachment Hoax is the greatest con job in the history of American politics! The Fake News Media, and their partner, the Democrat Party, are working overtime to make life for the United Republican Party, and all it stands for, as difficult as possible!'),\n",
       " Status(ID=1206565984540205057, ScreenName=realDonaldTrump, Created=Mon Dec 16 13:25:22 +0000 2019, Text='“The American people see through it.” https://t.co/1WTujQY7e6'),\n",
       " Status(ID=1206445927021662208, ScreenName=realDonaldTrump, Created=Mon Dec 16 05:28:18 +0000 2019, Text='....impeaching him. They hate the fact, above all, that this president is delivering. Substantial policy results for the working Americans who put him in the White House, and they can’t beat him in a fair fight next year.” @NextRevFNC  @SteveHiltonx  Thank you Steve!'),\n",
       " Status(ID=1206445925843054593, ScreenName=realDonaldTrump, Created=Mon Dec 16 05:28:18 +0000 2019, Text='....energy independence, manufacturing resilience, illegal immigration coming down, the Wall going up, China confronted, the caliphate defeated, NAFTA renegotiated, our military rebuilt, NATO paying more, regulations costing less,.......and much more. This is why they’re....'),\n",
       " Status(ID=1206445924802813952, ScreenName=realDonaldTrump, Created=Mon Dec 16 05:28:17 +0000 2019, Text='....of the most successful presidencies in history. Just in the last few days, incredible jobs numbers, giant trade deals, help for working families, and much more. Over the last 3 years, unemployment falling, earnings rising, criminal justice reform, the heartland revived,....'),\n",
       " Status(ID=1206445922848313344, ScreenName=realDonaldTrump, Created=Mon Dec 16 05:28:17 +0000 2019, Text='“Here in America it will be the same victory as BREXIT, but even more so. In the U.S., while all of this has been going on, the Impeachment, the obstruction, the resistance, President Trump has managed to deliver not just promises, but a record which adds up to one.....'),\n",
       " Status(ID=1206440095663841280, ScreenName=realDonaldTrump, Created=Mon Dec 16 05:05:08 +0000 2019, Text='....of the most successful presidencies in history. Just in the last few days, incredible jobs numbers, giant trade deals, help for working families, and much more. Over the last 3 years, unemployment falling, earnings rising, criminal justice reform, the heartland revived,....'),\n",
       " Status(ID=1206364447796846595, ScreenName=realDonaldTrump, Created=Mon Dec 16 00:04:32 +0000 2019, Text='Watch these two great people talk about the Impeachment Hoax. Will be by far the best hour on television! https://t.co/O8VmH3ipkw'),\n",
       " Status(ID=1206340165200945154, ScreenName=realDonaldTrump, Created=Sun Dec 15 22:28:02 +0000 2019, Text='Congressional Do Nothing Democrats are being absolutely decimated in their districts on the subject of the Impeachment Hoax. People that voted for them are literally screaming in their faces. Crazy Nancy is finding defending Shifty Schiff harder than she thought! #2020Election'),\n",
       " Status(ID=1206335971974959107, ScreenName=realDonaldTrump, Created=Sun Dec 15 22:11:23 +0000 2019, Text='Because Nancy’s teeth were falling out of her mouth, and she didn’t have time to think! https://t.co/rx3pcyofip'),\n",
       " Status(ID=1206333098427846656, ScreenName=realDonaldTrump, Created=Sun Dec 15 21:59:57 +0000 2019, Text='Fake News! https://t.co/NWaeaG1exu'),\n",
       " Status(ID=1206323905704710144, ScreenName=realDonaldTrump, Created=Sun Dec 15 21:23:26 +0000 2019, Text='.@seanhannity, who will be interviewed on @marklevinshow tonight at 8:00 P.M., @foxnews, stated about the Impeachment Hoax, “This is outrages lying, corruption and propaganda. Should never be allowed to happen.”'),\n",
       " Status(ID=1206291469452988417, ScreenName=realDonaldTrump, Created=Sun Dec 15 19:14:32 +0000 2019, Text='Approval Rating in Republican Party = 95%, a Record! Overall Approval Rating = 51%. Think of where I’d be without the never ending, 24 hour a day, phony Witch Hunt, that started 3 years ago!'),\n",
       " Status(ID=1206289904470233088, ScreenName=realDonaldTrump, Created=Sun Dec 15 19:08:19 +0000 2019, Text='The @foxnewPolls, always inaccurate, are heavily weighted toward Dems. So ridiculous - same thing happened in 2016. They got it all wrong. Get a new pollster!'),\n",
       " Status(ID=1206288430721904644, ScreenName=realDonaldTrump, Created=Sun Dec 15 19:02:28 +0000 2019, Text='“The President did nothing wrong here. There is no crime.” @charliekirk11  Impeachment Hoax!'),\n",
       " Status(ID=1206287057842311175, ScreenName=realDonaldTrump, Created=Sun Dec 15 18:57:00 +0000 2019, Text='“There is no bribery, or any crime at all, alleged in the Articles of Impeachment. This is a first in the history of our Country.” @JudgeJeanine @RepMikeJohnson'),\n",
       " Status(ID=1206281389991219200, ScreenName=realDonaldTrump, Created=Sun Dec 15 18:34:29 +0000 2019, Text='So now Comey’s admitting he was wrong. Wow, but he’s only doing so because he got caught red handed. He was actually caught a long time ago. So what are the consequences for his unlawful conduct. Could it be years in jail? Where are the apologies to me and others, Jim?'),\n",
       " Status(ID=1206278870124630016, ScreenName=realDonaldTrump, Created=Sun Dec 15 18:24:28 +0000 2019, Text='A PERFECT phone call. “Can you do us (not me. Us is referring to our Country) a favor.” Then go on to talk about “Country” and “U.S. Attorney General.” The Impeachment Hoax is just a continuation of the Witch Hunt which has been going on for 3 years. We will win!  #MAGAKAG #2020'),\n",
       " Status(ID=1206273072451530752, ScreenName=realDonaldTrump, Created=Sun Dec 15 18:01:26 +0000 2019, Text='As bad as the I.G. Report is for the FBI and others, and it is really bad, remember that I.G. Horowitz was appointed by Obama. There was tremendous bias and guilt exposed, so obvious, but Horowitz couldn’t get himself to say it. Big credibility loss. Obama knew everything!'),\n",
       " Status(ID=1206263771725017088, ScreenName=realDonaldTrump, Created=Sun Dec 15 17:24:29 +0000 2019, Text='Far from it! https://t.co/kXyaC1LDwV'),\n",
       " Status(ID=1206262608267005957, ScreenName=realDonaldTrump, Created=Sun Dec 15 17:19:51 +0000 2019, Text='Crooked Hillary caught again. She is a total train wreck! https://t.co/iqtuwzbaIV'),\n",
       " Status(ID=1206260756859236352, ScreenName=realDonaldTrump, Created=Sun Dec 15 17:12:30 +0000 2019, Text='Schiff’s correcting the record memo has turned out to be totally wrong (based on the I.G. Report)! A very big lie. @MariaBartiromo And @DevinNunes has turned out to be completely right. Congratulations to Devin. The Fake News Media should apologize to all!'),\n",
       " Status(ID=1206086633428332544, ScreenName=realDonaldTrump, Created=Sun Dec 15 05:40:36 +0000 2019, Text='Wow, that would be big. Always heard Jeff is very smart! https://t.co/7yDPU4N3wd'),\n",
       " Status(ID=1206083025018277889, ScreenName=realDonaldTrump, Created=Sun Dec 15 05:26:15 +0000 2019, Text='Thank you for your honesty Jeff. All of the Democrats know you are right, but unlike you, they don’t have the “guts” to say so! https://t.co/OUc46HUwPq'),\n",
       " Status(ID=1206079160923369472, ScreenName=realDonaldTrump, Created=Sun Dec 15 05:10:54 +0000 2019, Text='I will see Navy at the White House to present the Commander-in-Chief’s Trophy! https://t.co/V3oAZjWqEo'),\n",
       " Status(ID=1206077867425255425, ScreenName=realDonaldTrump, Created=Sun Dec 15 05:05:46 +0000 2019, Text='Incredible young, strong and brilliant people. Army/Navy! https://t.co/I4F8xIxorA'),\n",
       " Status(ID=1206074885077897216, ScreenName=realDonaldTrump, Created=Sun Dec 15 04:53:55 +0000 2019, Text='Congratulations to Tiger and the entire U.S. Team on a great comeback and tremendous WIN. True Champions! https://t.co/wyjBAgoF7J'),\n",
       " Status(ID=1206016638316929024, ScreenName=realDonaldTrump, Created=Sun Dec 15 01:02:27 +0000 2019, Text='It was my Great Honor to attend the 120th Army-Navy game today in Philadelphia, Pennsylvania! @NavyFB @ArmyWP_Football @ArmyNavyGame https://t.co/HipWiZKmiP'),\n",
       " Status(ID=1206012960285642753, ScreenName=realDonaldTrump, Created=Sun Dec 15 00:47:51 +0000 2019, Text='Both Commiecast MSNBC &amp; Fake News CNN are watching their Ratings TANK.  Fredo on CNN is dying. Don’t know why @FoxNews wants to be more like them? They’ll all die together as other outlets take their place. Only pro Trump Fox shows do well. Rest are nothing. How’s Shep doing?'),\n",
       " Status(ID=1206003487076749313, ScreenName=realDonaldTrump, Created=Sun Dec 15 00:10:12 +0000 2019, Text='Hard to believe that @FoxNews will be interviewing sleazebag &amp; totally discredited former FBI Director James Comey, &amp; also corrupt politician Adam “Shifty” Schiff. Fox is trying sooo hard to be politically correct, and yet they were totally shut out from the failed Dem debates!'),\n",
       " Status(ID=1205999484314030080, ScreenName=realDonaldTrump, Created=Sat Dec 14 23:54:18 +0000 2019, Text='Congratulations @NavyFB! https://t.co/eoDccVFzJS'),\n",
       " Status(ID=1205992385215229953, ScreenName=realDonaldTrump, Created=Sat Dec 14 23:26:05 +0000 2019, Text='The last time I spoke to Debbie Dingell was her call thanking me for granting top memorial and funeral service honors for her then just departed husband, long time Congressman John Dingell. Now I watch her ripping me as part of the Democrats Impeachment Hoax. Really pathetic!'),\n",
       " Status(ID=1205945852503764994, ScreenName=realDonaldTrump, Created=Sat Dec 14 20:21:11 +0000 2019, Text='https://t.co/zHSZxlgYvT'),\n",
       " Status(ID=1205927795269894144, ScreenName=realDonaldTrump, Created=Sat Dec 14 19:09:26 +0000 2019, Text='Chuck Schumer sat for years during the Obama Administration and watched as China ripped off the United States. He &amp; the Do Nothing Democrats did NOTHING as this $ carnage took place. Now, without even seeing it, he snipes at our GREAT new deal with China. Too bad Cryin’ Chuck!'),\n",
       " Status(ID=1205921522973462528, ScreenName=realDonaldTrump, Created=Sat Dec 14 18:44:30 +0000 2019, Text='On my way to the #ArmyNavyGame in Philadelphia, Pennsylvania! https://t.co/tWnDNRFyO1'),\n",
       " Status(ID=1205910779578535936, ScreenName=realDonaldTrump, Created=Sat Dec 14 18:01:49 +0000 2019, Text='https://t.co/Z0VHUlAwMD'),\n",
       " Status(ID=1205882239336230912, ScreenName=realDonaldTrump, Created=Sat Dec 14 16:08:24 +0000 2019, Text='https://t.co/97NvLGxMuj'),\n",
       " Status(ID=1205856974405033984, ScreenName=realDonaldTrump, Created=Sat Dec 14 14:28:01 +0000 2019, Text='....trampled on our Constitution, and they have done irreparable harm to our Republic. The American people are going to speak up and speak out about this. I think this guarantees Trump’s re-election in 2020.” \\n@Jason_Meister'),\n",
       " Status(ID=1205856973163520000, ScreenName=realDonaldTrump, Created=Sat Dec 14 14:28:00 +0000 2019, Text='....absolutely no pressure. I don’t know of any crime that was committed where the actual victim wasn’t aware of it....and, they got the call, they got the meeting, and they got the money. Unbelievably, the Democrats have weaponized the Impeachment process, they have....'),\n",
       " Status(ID=1205856971758473216, ScreenName=realDonaldTrump, Created=Sat Dec 14 14:28:00 +0000 2019, Text='“There are 31 House Democrats in Trump won Congressional Districts. Those Dems will have to answer to their constituents come 2020. If you look at the facts, there’s no crime, there’s no witness, there’s no evidence, there’s no victim, President Zelensky said there was....'),\n",
       " Status(ID=1205856376930623489, ScreenName=realDonaldTrump, Created=Sat Dec 14 14:25:38 +0000 2019, Text='“Independent voters are fed up and frustrated with the Democrats.” Congressman Michael Waltz, Florida'),\n",
       " Status(ID=1205836626808713217, ScreenName=realDonaldTrump, Created=Sat Dec 14 13:07:09 +0000 2019, Text='After watching the disgraceful way that a wonderful man, @BrettKavanaugh, was treated by the Democrats, and now seeing first hand how these same Radical Left, Do Nothing Dems are treating the whole Impeachment Hoax, I understand why so many Dems are voting Republican!'),\n",
       " Status(ID=1205675536787349510, ScreenName=realDonaldTrump, Created=Sat Dec 14 02:27:02 +0000 2019, Text='25 Million Evangelical Christians are not registered to vote. We are working hard to get them registered! @robertjeffress @LouDobbs'),\n",
       " Status(ID=1205672039425740802, ScreenName=realDonaldTrump, Created=Sat Dec 14 02:13:09 +0000 2019, Text='“The FBI declares in a court filing that it has absolutely no records of disciplinary action against any lawyers in Russia Fisa Case despite 17 acts of misconduct. There is nothing noble about their leadership. FISA Court appears to be either corrupt or incompetent.” @LouDobbs'),\n",
       " Status(ID=1205648124989100033, ScreenName=realDonaldTrump, Created=Sat Dec 14 00:38:07 +0000 2019, Text='It’s not fair that I’m being Impeached when I’ve done absolutely nothing wrong! The Radical Left, Do Nothing Democrats have become the Party of Hate. They are so bad for our Country!'),\n",
       " Status(ID=1205544940471771136, ScreenName=realDonaldTrump, Created=Fri Dec 13 17:48:06 +0000 2019, Text='HAPPY BIRTHDAY! #Guard383 \\nhttps://t.co/iMnczcCHgN'),\n",
       " Status(ID=1205542430453501955, ScreenName=realDonaldTrump, Created=Fri Dec 13 17:38:07 +0000 2019, Text='“This whole process has been rigged from the start.”  @RepDLesko'),\n",
       " Status(ID=1205509146336006144, ScreenName=realDonaldTrump, Created=Fri Dec 13 15:25:52 +0000 2019, Text='.....The Penalty Tariffs set for December 15th will not be charged because of the fact that we made the deal. We will begin negotiations on the Phase Two Deal immediately, rather than waiting until after the 2020 Election. This is an amazing deal for all. Thank you!'),\n",
       " Status(ID=1205509125788098560, ScreenName=realDonaldTrump, Created=Fri Dec 13 15:25:47 +0000 2019, Text='We have agreed to a very large Phase One Deal with China. They have agreed to many structural changes and massive purchases of Agricultural Product, Energy, and Manufactured Goods, plus much more. The 25% Tariffs will remain as is, with 7 1/2% put on much of the remainder....'),\n",
       " Status(ID=1205489214546235393, ScreenName=realDonaldTrump, Created=Fri Dec 13 14:06:40 +0000 2019, Text='The Wall Street Journal story on the China Deal is completely wrong, especially their statement on Tariffs. Fake News. They should find a better leaker!'),\n",
       " Status(ID=1205485784968630272, ScreenName=realDonaldTrump, Created=Fri Dec 13 13:53:02 +0000 2019, Text='Record Stock Market &amp; Jobs!'),\n",
       " Status(ID=1205483006405808128, ScreenName=realDonaldTrump, Created=Fri Dec 13 13:42:00 +0000 2019, Text='How do you get Impeached when you have done NOTHING wrong (a perfect call), have created the best economy in the history of our Country, rebuilt our Military, fixed the V.A. (Choice!), cut Taxes &amp; Regs, protected your 2nd A, created Jobs, Jobs, Jobs, and soooo much more? Crazy!'),\n",
       " Status(ID=1205470941393936384, ScreenName=realDonaldTrump, Created=Fri Dec 13 12:54:03 +0000 2019, Text='Congratulations to @foxandfriends on being named, BY FAR, the Number One Rated cable news show. CNN and MSNBC have totally tanked, their ratings are terrible. They have zero credibility!'),\n",
       " Status(ID=1205468357610409984, ScreenName=realDonaldTrump, Created=Fri Dec 13 12:43:47 +0000 2019, Text='“All of our presidents would be impeached under this Rogue House of Democrat Leadership.” @marklevinshow'),\n",
       " Status(ID=1205459180229935109, ScreenName=realDonaldTrump, Created=Fri Dec 13 12:07:19 +0000 2019, Text='The Republican Party is more united now than at any time in its history - by far!'),\n",
       " Status(ID=1205458677681008640, ScreenName=realDonaldTrump, Created=Fri Dec 13 12:05:19 +0000 2019, Text='The Do Nothing Democrats have become the Party of lies and deception! The Republicans are the Party of the American Dream!'),\n",
       " Status(ID=1205457765961011201, ScreenName=realDonaldTrump, Created=Fri Dec 13 12:01:42 +0000 2019, Text='Poll numbers have gone through the roof in favor of No Impeachment, especially with Swing States and Independents in Swing States. People have figured out that the Democrats have no case, it is a total Hoax. Even Pelosi admitted yesterday that she began this scam 2 1/2 years ago!'),\n",
       " Status(ID=1205455803378999297, ScreenName=realDonaldTrump, Created=Fri Dec 13 11:53:54 +0000 2019, Text='My Approval Rating in the Republican Party is 95%, a Record. Thank you! #2020Election'),\n",
       " Status(ID=1205455275953729536, ScreenName=realDonaldTrump, Created=Fri Dec 13 11:51:48 +0000 2019, Text='The Republicans House members were fantastic yesterday. It always helps to have a much better case, in fact the Dems have no case at all, but the unity &amp; sheer brilliance of these Republican warriors, all of them, was a beautiful sight to see. Dems had no answers and wanted out!'),\n",
       " Status(ID=1205368801438707713, ScreenName=realDonaldTrump, Created=Fri Dec 13 06:08:11 +0000 2019, Text='Congratulations to Boris Johnson on his great WIN! Britain and the United States will now be free to strike a massive new Trade Deal after BREXIT. This deal has the potential to be far bigger and more lucrative than any deal that could be made with the E.U. Celebrate Boris!'),\n",
       " Status(ID=1205341246937600000, ScreenName=realDonaldTrump, Created=Fri Dec 13 04:18:42 +0000 2019, Text='“Last night House Judiciary Chairman Jerry Nadler admitted that Democrats are pursuing Impeachment because it’s too dangerous to simply let the American people pick the next president in 2020.” @kilmeade  @FoxNews'),\n",
       " Status(ID=1205338255832555520, ScreenName=realDonaldTrump, Created=Fri Dec 13 04:06:48 +0000 2019, Text='Looking like a big win for Boris in the U.K.!'),\n",
       " Status(ID=1205334980055961600, ScreenName=realDonaldTrump, Created=Fri Dec 13 03:53:47 +0000 2019, Text='Nancy Pelosi just got duped in an interview to admitting that she has been working on impeaching me for “two and a half years.” In other words, she lied. This was the Radical Left, Do Nothing Democrats plan all along, long before the Ukraine phone call. Impeachment Hoax!'),\n",
       " Status(ID=1205320725692919808, ScreenName=realDonaldTrump, Created=Fri Dec 13 02:57:09 +0000 2019, Text='.....What’s gone on the last three years is not reasonable. The majority has been so abusive.”'),\n",
       " Status(ID=1205320724799508480, ScreenName=realDonaldTrump, Created=Fri Dec 13 02:57:09 +0000 2019, Text='.....by Congress, by the Justice Department &amp; FBI friends of the Democrats, who hated the president when he was nothing but a candidate. At some point somebody should have said, wait a minute, this is out of control, this train is off the tracks, it’s time to get reasonable.”'),\n",
       " Status(ID=1205320724031954944, ScreenName=realDonaldTrump, Created=Fri Dec 13 02:57:09 +0000 2019, Text='@replouiegohmert  “This is so surreal. For three years, this President has been harassed. He’s been electronically surveilled, spied upon, allegations have never ceased, they continue, and their continuing today. At some point you would think you would look at the abuse.....'),\n",
       " Status(ID=1205179262535393280, ScreenName=realDonaldTrump, Created=Thu Dec 12 17:35:01 +0000 2019, Text='“I think it’s obvious to all the American public that this is a railroad job!” @JimPressOffice https://t.co/MlYNny1pqg'),\n",
       " Status(ID=1205156716054241285, ScreenName=realDonaldTrump, Created=Thu Dec 12 16:05:26 +0000 2019, Text='I also have constantly asked, “Why aren’t Germany, France and other European countries helping Ukraine more? They are the biggest beneficiaries. Why is it always the good ol’ United States?” The Radical Left, Do Nothing Democrats, never mention this at their phony hearing!'),\n",
       " Status(ID=1205150488280350720, ScreenName=realDonaldTrump, Created=Thu Dec 12 15:40:41 +0000 2019, Text='Dems Veronica Escobar and Jackson Lee purposely misquoted my call. I said I want you to do us (our Country!) a favor, not me a favor. They know that but decided to LIE in order to make a fraudulent point! Very sad.'),\n",
       " Status(ID=1205134155853574145, ScreenName=realDonaldTrump, Created=Thu Dec 12 14:35:47 +0000 2019, Text='Getting VERY close to a BIG DEAL with China. They want it, and so do we!'),\n",
       " Status(ID=1205132856135168006, ScreenName=realDonaldTrump, Created=Thu Dec 12 14:30:37 +0000 2019, Text='Big!!! https://t.co/powyhHM50y'),\n",
       " Status(ID=1205132201534377984, ScreenName=realDonaldTrump, Created=Thu Dec 12 14:28:01 +0000 2019, Text='ANTIFA will not be going after Bryce or @ColbyCovMMA anytime soon. They much prefer people who can’t fight back! https://t.co/s2M2RHkDsE')]"
      ]
     },
     "execution_count": 104,
     "metadata": {},
     "output_type": "execute_result"
    }
   ],
   "source": [
    "twitapi.timeline('realdonaldtrump')"
   ]
  },
  {
   "cell_type": "code",
   "execution_count": null,
   "metadata": {},
   "outputs": [],
   "source": []
  },
  {
   "cell_type": "code",
   "execution_count": 108,
   "metadata": {
    "ExecuteTime": {
     "end_time": "2020-01-01T16:24:24.108842Z",
     "start_time": "2020-01-01T16:24:24.105028Z"
    }
   },
   "outputs": [],
   "source": [
    "a = [1,2,3,4]\n",
    "b = [2,3,4]"
   ]
  },
  {
   "cell_type": "code",
   "execution_count": null,
   "metadata": {},
   "outputs": [],
   "source": []
  },
  {
   "cell_type": "code",
   "execution_count": 111,
   "metadata": {
    "ExecuteTime": {
     "end_time": "2020-01-01T16:25:08.359235Z",
     "start_time": "2020-01-01T16:25:08.353930Z"
    }
   },
   "outputs": [
    {
     "data": {
      "text/plain": [
       "set()"
      ]
     },
     "execution_count": 111,
     "metadata": {},
     "output_type": "execute_result"
    }
   ],
   "source": [
    "set(b) - set(a)"
   ]
  },
  {
   "cell_type": "code",
   "execution_count": null,
   "metadata": {},
   "outputs": [],
   "source": []
  }
 ],
 "metadata": {
  "kernelspec": {
   "display_name": "Python 3",
   "language": "python",
   "name": "python3"
  },
  "language_info": {
   "codemirror_mode": {
    "name": "ipython",
    "version": 3
   },
   "file_extension": ".py",
   "mimetype": "text/x-python",
   "name": "python",
   "nbconvert_exporter": "python",
   "pygments_lexer": "ipython3",
   "version": "3.7.1"
  }
 },
 "nbformat": 4,
 "nbformat_minor": 2
}
