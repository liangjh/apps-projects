{
 "cells": [
  {
   "cell_type": "markdown",
   "metadata": {},
   "source": [
    "# Twitter Timeline / User Profile Download"
   ]
  },
  {
   "cell_type": "markdown",
   "metadata": {},
   "source": [
    "Download twitter timelines and save to disk locally, for model training purposes.  \n",
    "Download twitter model user profiles, for quick save (i.e. user profile urls)"
   ]
  },
  {
   "cell_type": "markdown",
   "metadata": {},
   "source": [
    "### Imports"
   ]
  },
  {
   "cell_type": "code",
   "execution_count": 3,
   "metadata": {
    "ExecuteTime": {
     "end_time": "2020-01-26T14:34:04.675859Z",
     "start_time": "2020-01-26T14:34:04.672519Z"
    }
   },
   "outputs": [],
   "source": [
    "import os\n",
    "os.chdir('..')"
   ]
  },
  {
   "cell_type": "code",
   "execution_count": 22,
   "metadata": {
    "ExecuteTime": {
     "end_time": "2020-01-26T14:49:41.391884Z",
     "start_time": "2020-01-26T14:49:41.388268Z"
    }
   },
   "outputs": [],
   "source": [
    "import twitter\n",
    "import datetime\n",
    "import pickle\n",
    "import itertools\n",
    "import json"
   ]
  },
  {
   "cell_type": "code",
   "execution_count": 4,
   "metadata": {
    "ExecuteTime": {
     "end_time": "2020-01-26T14:34:07.907648Z",
     "start_time": "2020-01-26T14:34:06.731932Z"
    }
   },
   "outputs": [],
   "source": [
    "import assembly\n",
    "from assembly import config as asmbl_config\n",
    "from assembly import db as asmbl_db\n",
    "from assembly import models as asmbl_models"
   ]
  },
  {
   "cell_type": "markdown",
   "metadata": {},
   "source": [
    "### Initializations"
   ]
  },
  {
   "cell_type": "code",
   "execution_count": 5,
   "metadata": {
    "ExecuteTime": {
     "end_time": "2020-01-26T14:34:07.966623Z",
     "start_time": "2020-01-26T14:34:07.910904Z"
    }
   },
   "outputs": [],
   "source": [
    "#  Assembly initialization - will use configs defined for env in question\n",
    "os.environ['ASSEMBLY_ENV'] = 'Development'\n",
    "app = assembly.Assembly.init(__name__, {'default': []})"
   ]
  },
  {
   "cell_type": "code",
   "execution_count": 6,
   "metadata": {
    "ExecuteTime": {
     "end_time": "2020-01-26T14:34:09.029693Z",
     "start_time": "2020-01-26T14:34:09.025921Z"
    }
   },
   "outputs": [],
   "source": [
    "twitter_credentials = {\n",
    "    'consumer_key':        'wbz78wFd0ywcShiTvqgDUV2ry',x\n",
    "    'consumer_secret':     '2qj0P3fygqa0n2LqU6M8LV485OWIAvXWEQOEVLWFNUBdKDcgjz',\n",
    "    'access_token_key':    '80578720-t7bH4zwD6Q6sUQEFeCb8211wH04Y9ul0EWECo2ofU',\n",
    "    'access_token_secret': 'PSsX8R4agpxAII9XCYHqE74KObPRWfl9tdG4Xd07olOn6'\n",
    "}"
   ]
  },
  {
   "cell_type": "code",
   "execution_count": 40,
   "metadata": {
    "ExecuteTime": {
     "end_time": "2020-01-26T21:26:17.041017Z",
     "start_time": "2020-01-26T21:26:17.019331Z"
    }
   },
   "outputs": [],
   "source": [
    "twapi = twitter.Api(consumer_key=twitter_credentials['consumer_key'],\n",
    "                    consumer_secret=twitter_credentials['consumer_secret'],\n",
    "                    access_token_key=twitter_credentials['access_token_key'],\n",
    "                    access_token_secret=twitter_credentials['access_token_secret'],\n",
    "                    tweet_mode='extended')"
   ]
  },
  {
   "cell_type": "markdown",
   "metadata": {},
   "source": [
    "### User Inputs"
   ]
  },
  {
   "cell_type": "code",
   "execution_count": 63,
   "metadata": {
    "ExecuteTime": {
     "end_time": "2020-01-26T21:43:01.802250Z",
     "start_time": "2020-01-26T21:43:01.797664Z"
    }
   },
   "outputs": [],
   "source": [
    "userprofile_save_location = '/Users/liangjh/workspace/tweemio-api/lib/model_user_profiles.json'\n",
    "timelines_save_location = '/Users/liangjh/workspace/tweemio-api/data/timelines'"
   ]
  },
  {
   "cell_type": "code",
   "execution_count": 52,
   "metadata": {
    "ExecuteTime": {
     "end_time": "2020-01-26T21:29:06.259072Z",
     "start_time": "2020-01-26T21:29:06.254193Z"
    }
   },
   "outputs": [],
   "source": [
    "#  Full list of twitter handles, across multiple categories\n",
    "#  Download full timelines (or as much as the API will give us)\n",
    "twitter_handles = list(itertools.chain(*[spec['screen_names'] \n",
    "                                         for category,spec in app.config['SIMILARITY_COMPARISONS'].items()]))"
   ]
  },
  {
   "cell_type": "code",
   "execution_count": 30,
   "metadata": {
    "ExecuteTime": {
     "end_time": "2020-01-26T14:52:40.034019Z",
     "start_time": "2020-01-26T14:52:40.031229Z"
    }
   },
   "outputs": [],
   "source": [
    "# Rate limits prevent full download\n",
    "# twitter_handles = twitter_handles[twitter_handles.index('jlo'):]"
   ]
  },
  {
   "cell_type": "markdown",
   "metadata": {},
   "source": [
    "### Timeline Download, Save to Disk"
   ]
  },
  {
   "cell_type": "code",
   "execution_count": 36,
   "metadata": {
    "ExecuteTime": {
     "end_time": "2020-01-26T19:36:54.865552Z",
     "start_time": "2020-01-26T19:36:54.858733Z"
    }
   },
   "outputs": [],
   "source": [
    "def timeline_download(screen_name: str, twapi):\n",
    "    '''\n",
    "    Returns timeline for a given screen name\n",
    "    twitter.Api is expected to be initialized\n",
    "    '''\n",
    "    print('Retrieving timeline for: {}'.format(screen_name))\n",
    "    timeline = []\n",
    "    max_id = None\n",
    "    while True:        \n",
    "        print(f'     max_id for iteration: {max_id}')\n",
    "        tweets = twapi.GetUserTimeline(screen_name=screen_name, include_rts=False, count=200, max_id=max_id)\n",
    "        timeline += tweets\n",
    "\n",
    "        if len(tweets) < 1:\n",
    "            break        \n",
    "        next_max_id = min(tweets, key=lambda t: t.id).id\n",
    "        if next_max_id == max_id:\n",
    "            break\n",
    "        max_id = next_max_id\n",
    "    return timeline\n"
   ]
  },
  {
   "cell_type": "code",
   "execution_count": null,
   "metadata": {
    "ExecuteTime": {
     "end_time": "2020-01-26T19:37:06.888352Z",
     "start_time": "2020-01-26T19:36:55.435480Z"
    },
    "scrolled": false
   },
   "outputs": [],
   "source": [
    "#  Download all, place into dict; \n",
    "#  Serialize to JSON, save w/ timestamp\n",
    "timeline_map = {}\n",
    "for screen_name in twitter_handles:\n",
    "    print(f'Downloading timeline for screen name: {screen_name}')\n",
    "    user_timeline = timeline_download(screen_name, twapi)\n",
    "    timeline_map[screen_name] = user_timeline"
   ]
  },
  {
   "cell_type": "code",
   "execution_count": null,
   "metadata": {
    "ExecuteTime": {
     "end_time": "2020-01-26T19:37:10.004661Z",
     "start_time": "2020-01-26T19:37:08.741158Z"
    }
   },
   "outputs": [],
   "source": [
    "for screen_name, tline in timeline_map.items():\n",
    "    print(f'writing {screen_name} to file...')\n",
    "    tline_js = [tli._json for tli in tline]\n",
    "    with open(f\"{timelines_save_location}/{screen_name}-{datetime.date.today().strftime('%Y%m%d')}.json\", \"w\") as outfile:\n",
    "        json.dump(tline_js, outfile)"
   ]
  },
  {
   "cell_type": "markdown",
   "metadata": {
    "ExecuteTime": {
     "end_time": "2020-01-26T21:23:09.088006Z",
     "start_time": "2020-01-26T21:23:09.078114Z"
    }
   },
   "source": [
    "### User Profile Download, Persist to JSON"
   ]
  },
  {
   "cell_type": "markdown",
   "metadata": {},
   "source": [
    "Users that are used to calibrate model and provide similarity scores against.   \n",
    "Save some of their profile information to a JSON to allow front-end to render "
   ]
  },
  {
   "cell_type": "code",
   "execution_count": 55,
   "metadata": {
    "ExecuteTime": {
     "end_time": "2020-01-26T21:31:26.696989Z",
     "start_time": "2020-01-26T21:31:18.790626Z"
    }
   },
   "outputs": [],
   "source": [
    "user_profile_map = {}\n",
    "for screen_name in twitter_handles:\n",
    "    usr = twapi.GetUser(screen_name=screen_name)\n",
    "    user_profile_map[screen_name] = {\n",
    "        'screen_name': screen_name,\n",
    "        'name': usr.name,\n",
    "        'description': usr.description,\n",
    "        'profile_img': usr.profile_image_url_https\n",
    "    }"
   ]
  },
  {
   "cell_type": "code",
   "execution_count": 64,
   "metadata": {
    "ExecuteTime": {
     "end_time": "2020-01-26T21:43:05.250596Z",
     "start_time": "2020-01-26T21:43:05.240499Z"
    }
   },
   "outputs": [],
   "source": [
    "with open(userprofile_save_location, 'w') as outfile:\n",
    "    json.dump(user_profile_map, outfile)"
   ]
  }
 ],
 "metadata": {
  "kernelspec": {
   "display_name": "Python 3",
   "language": "python",
   "name": "python3"
  },
  "language_info": {
   "codemirror_mode": {
    "name": "ipython",
    "version": 3
   },
   "file_extension": ".py",
   "mimetype": "text/x-python",
   "name": "python",
   "nbconvert_exporter": "python",
   "pygments_lexer": "ipython3",
   "version": "3.7.1"
  }
 },
 "nbformat": 4,
 "nbformat_minor": 2
}
