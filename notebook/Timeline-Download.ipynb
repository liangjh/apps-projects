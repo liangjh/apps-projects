{
 "cells": [
  {
   "cell_type": "markdown",
   "metadata": {},
   "source": [
    "# Twitter Timeline / User Profile Download"
   ]
  },
  {
   "cell_type": "markdown",
   "metadata": {},
   "source": [
    "Download twitter timelines and save to disk locally, for model training purposes.  \n",
    "Download twitter model user profiles, for quick save (i.e. user profile urls)"
   ]
  },
  {
   "cell_type": "markdown",
   "metadata": {},
   "source": [
    "### Imports"
   ]
  },
  {
   "cell_type": "code",
   "execution_count": 25,
   "metadata": {
    "ExecuteTime": {
     "end_time": "2020-07-13T14:50:06.012692Z",
     "start_time": "2020-07-13T14:50:06.006620Z"
    }
   },
   "outputs": [],
   "source": [
    "import os\n",
    "os.chdir('..')"
   ]
  },
  {
   "cell_type": "code",
   "execution_count": 26,
   "metadata": {
    "ExecuteTime": {
     "end_time": "2020-07-13T14:50:06.178849Z",
     "start_time": "2020-07-13T14:50:06.172555Z"
    }
   },
   "outputs": [],
   "source": [
    "import twitter\n",
    "import datetime\n",
    "import pickle\n",
    "import itertools\n",
    "import json"
   ]
  },
  {
   "cell_type": "code",
   "execution_count": 27,
   "metadata": {
    "ExecuteTime": {
     "end_time": "2020-07-13T14:50:06.339839Z",
     "start_time": "2020-07-13T14:50:06.334822Z"
    }
   },
   "outputs": [],
   "source": [
    "import assembly\n",
    "from assembly import config as asmbl_config\n",
    "from assembly import db as asmbl_db\n",
    "from assembly import models as asmbl_models"
   ]
  },
  {
   "cell_type": "markdown",
   "metadata": {},
   "source": [
    "### Initializations"
   ]
  },
  {
   "cell_type": "code",
   "execution_count": 28,
   "metadata": {
    "ExecuteTime": {
     "end_time": "2020-07-13T14:50:07.935799Z",
     "start_time": "2020-07-13T14:50:07.882104Z"
    }
   },
   "outputs": [],
   "source": [
    "#  Assembly initialization - will use configs defined for env in question\n",
    "os.environ['ASSEMBLY_ENV'] = 'Development'\n",
    "app = assembly.Assembly.init(__name__, {'default': []})"
   ]
  },
  {
   "cell_type": "code",
   "execution_count": 29,
   "metadata": {
    "ExecuteTime": {
     "end_time": "2020-07-13T14:50:08.298146Z",
     "start_time": "2020-07-13T14:50:08.292963Z"
    }
   },
   "outputs": [],
   "source": [
    "twitter_credentials = {\n",
    "    'consumer_key':        'wbz78wFd0ywcShiTvqgDUV2ry',\n",
    "    'consumer_secret':     '2qj0P3fygqa0n2LqU6M8LV485OWIAvXWEQOEVLWFNUBdKDcgjz',\n",
    "    'access_token_key':    '80578720-t7bH4zwD6Q6sUQEFeCb8211wH04Y9ul0EWECo2ofU',\n",
    "    'access_token_secret': 'PSsX8R4agpxAII9XCYHqE74KObPRWfl9tdG4Xd07olOn6'\n",
    "}"
   ]
  },
  {
   "cell_type": "code",
   "execution_count": 30,
   "metadata": {
    "ExecuteTime": {
     "end_time": "2020-07-13T14:50:08.668920Z",
     "start_time": "2020-07-13T14:50:08.663863Z"
    }
   },
   "outputs": [],
   "source": [
    "twapi = twitter.Api(consumer_key=twitter_credentials['consumer_key'],\n",
    "                    consumer_secret=twitter_credentials['consumer_secret'],\n",
    "                    access_token_key=twitter_credentials['access_token_key'],\n",
    "                    access_token_secret=twitter_credentials['access_token_secret'],\n",
    "                    tweet_mode='extended')"
   ]
  },
  {
   "cell_type": "markdown",
   "metadata": {},
   "source": [
    "### User Inputs"
   ]
  },
  {
   "cell_type": "code",
   "execution_count": 7,
   "metadata": {
    "ExecuteTime": {
     "end_time": "2020-07-13T03:58:47.054296Z",
     "start_time": "2020-07-13T03:58:47.050815Z"
    }
   },
   "outputs": [],
   "source": [
    "userprofile_save_location = '/Users/liangjh/workspace/tweemio-api/resources/model_user_profiles.json'\n",
    "timelines_save_location = '/Users/liangjh/workspace/tweemio-api/data/timelines'"
   ]
  },
  {
   "cell_type": "code",
   "execution_count": 8,
   "metadata": {
    "ExecuteTime": {
     "end_time": "2020-07-13T03:58:47.503541Z",
     "start_time": "2020-07-13T03:58:47.498644Z"
    }
   },
   "outputs": [],
   "source": [
    "#  Full list of twitter handles, across multiple categories\n",
    "#  Download full timelines (or as much as the API will give us)\n",
    "twitter_handles = list(itertools.chain(*[spec['screen_names'] \n",
    "                                         for category,spec in app.config['SIMILARITY_COMPARISONS'].items()]))"
   ]
  },
  {
   "cell_type": "code",
   "execution_count": 30,
   "metadata": {
    "ExecuteTime": {
     "end_time": "2020-01-26T14:52:40.034019Z",
     "start_time": "2020-01-26T14:52:40.031229Z"
    }
   },
   "outputs": [],
   "source": [
    "# Rate limits prevent full download\n",
    "# twitter_handles = twitter_handles[twitter_handles.index('jlo'):]"
   ]
  },
  {
   "cell_type": "markdown",
   "metadata": {},
   "source": [
    "### Timeline Download, Save to Disk"
   ]
  },
  {
   "cell_type": "code",
   "execution_count": 10,
   "metadata": {
    "ExecuteTime": {
     "end_time": "2020-07-13T03:59:05.137003Z",
     "start_time": "2020-07-13T03:59:05.129323Z"
    }
   },
   "outputs": [],
   "source": [
    "def timeline_download(screen_name: str, twapi):\n",
    "    '''\n",
    "    Returns timeline for a given screen name\n",
    "    twitter.Api is expected to be initialized\n",
    "    '''\n",
    "    print('Retrieving timeline for: {}'.format(screen_name))\n",
    "    timeline = []\n",
    "    max_id = None\n",
    "    while True:        \n",
    "        print(f'     max_id for iteration: {max_id}')\n",
    "        tweets = twapi.GetUserTimeline(screen_name=screen_name, include_rts=False, count=200, max_id=max_id)\n",
    "        timeline += tweets\n",
    "\n",
    "        if len(tweets) < 1:\n",
    "            break        \n",
    "        next_max_id = min(tweets, key=lambda t: t.id).id\n",
    "        if next_max_id == max_id:\n",
    "            break\n",
    "        max_id = next_max_id\n",
    "    return timeline\n"
   ]
  },
  {
   "cell_type": "code",
   "execution_count": null,
   "metadata": {
    "ExecuteTime": {
     "end_time": "2020-07-13T04:17:40.436469Z",
     "start_time": "2020-07-13T04:14:51.267425Z"
    },
    "scrolled": true
   },
   "outputs": [],
   "source": [
    "#  Serialize to JSON, save w/ timestamp\n",
    "# timeline_map = {}\n",
    "for screen_name in twitter_handles:\n",
    "    print(f'Downloading timeline for screen name: {screen_name}')\n",
    "    user_timeline = timeline_download(screen_name, twapi)\n",
    "    timeline_map[screen_name] = user_timeline"
   ]
  },
  {
   "cell_type": "code",
   "execution_count": null,
   "metadata": {
    "ExecuteTime": {
     "end_time": "2020-07-13T04:19:40.131423Z",
     "start_time": "2020-07-13T04:18:21.079103Z"
    },
    "scrolled": true
   },
   "outputs": [],
   "source": [
    "for screen_name, tline in timeline_map.items():\n",
    "    print(f'writing {screen_name} to file...')\n",
    "    tline_js = [tli._json for tli in tline]\n",
    "    with open(f\"{timelines_save_location}/{screen_name}-{datetime.date.today().strftime('%Y%m%d')}.json\", \"w\") as outfile:\n",
    "        json.dump(tline_js, outfile)"
   ]
  },
  {
   "cell_type": "markdown",
   "metadata": {
    "ExecuteTime": {
     "end_time": "2020-01-26T21:23:09.088006Z",
     "start_time": "2020-01-26T21:23:09.078114Z"
    }
   },
   "source": [
    "### User Profile Download, Persist to JSON"
   ]
  },
  {
   "cell_type": "markdown",
   "metadata": {},
   "source": [
    "Users that are used to calibrate model and provide similarity scores against.   \n",
    "Save some of their profile information to a JSON to allow front-end to render "
   ]
  },
  {
   "cell_type": "code",
   "execution_count": 31,
   "metadata": {
    "ExecuteTime": {
     "end_time": "2020-07-13T14:50:16.311476Z",
     "start_time": "2020-07-13T14:50:11.799468Z"
    }
   },
   "outputs": [],
   "source": [
    "user_profile_map = {}\n",
    "for screen_name in twitter_handles:\n",
    "    usr = twapi.GetUser(screen_name=screen_name)\n",
    "    user_profile_map[screen_name] = {\n",
    "        'screen_name': screen_name,\n",
    "        'name': usr.name,\n",
    "        'description': usr.description,\n",
    "        'profile_img': usr.profile_image_url_https\n",
    "    }"
   ]
  },
  {
   "cell_type": "code",
   "execution_count": 32,
   "metadata": {
    "ExecuteTime": {
     "end_time": "2020-07-13T14:50:16.323171Z",
     "start_time": "2020-07-13T14:50:16.314857Z"
    }
   },
   "outputs": [],
   "source": [
    "with open(userprofile_save_location, 'w') as outfile:\n",
    "    json.dump(user_profile_map, outfile)"
   ]
  }
 ],
 "metadata": {
  "kernelspec": {
   "display_name": "Python 3",
   "language": "python",
   "name": "python3"
  },
  "language_info": {
   "codemirror_mode": {
    "name": "ipython",
    "version": 3
   },
   "file_extension": ".py",
   "mimetype": "text/x-python",
   "name": "python",
   "nbconvert_exporter": "python",
   "pygments_lexer": "ipython3",
   "version": "3.7.1"
  }
 },
 "nbformat": 4,
 "nbformat_minor": 2
}
