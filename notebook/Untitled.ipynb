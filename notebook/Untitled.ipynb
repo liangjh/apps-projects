{
 "cells": [
  {
   "cell_type": "code",
   "execution_count": 1,
   "metadata": {
    "ExecuteTime": {
     "end_time": "2019-12-31T21:07:05.471882Z",
     "start_time": "2019-12-31T21:07:04.086441Z"
    }
   },
   "outputs": [],
   "source": [
    "import assembly"
   ]
  },
  {
   "cell_type": "code",
   "execution_count": 2,
   "metadata": {
    "ExecuteTime": {
     "end_time": "2019-12-31T21:07:19.265375Z",
     "start_time": "2019-12-31T21:07:19.261763Z"
    }
   },
   "outputs": [],
   "source": [
    "app = assembly.Assembly()"
   ]
  },
  {
   "cell_type": "code",
   "execution_count": 12,
   "metadata": {
    "ExecuteTime": {
     "end_time": "2019-12-31T21:54:09.823632Z",
     "start_time": "2019-12-31T21:54:09.820625Z"
    }
   },
   "outputs": [],
   "source": [
    "# appctx = app.init('default', [])"
   ]
  },
  {
   "cell_type": "code",
   "execution_count": 16,
   "metadata": {
    "ExecuteTime": {
     "end_time": "2019-12-31T21:55:07.182872Z",
     "start_time": "2019-12-31T21:55:07.171956Z"
    }
   },
   "outputs": [
    {
     "ename": "TypeError",
     "evalue": "init() missing 2 required positional arguments: 'import_name' and 'views_list'",
     "output_type": "error",
     "traceback": [
      "\u001b[0;31m---------------------------------------------------------------------------\u001b[0m",
      "\u001b[0;31mTypeError\u001b[0m                                 Traceback (most recent call last)",
      "\u001b[0;32m<ipython-input-16-e0550a43ce86>\u001b[0m in \u001b[0;36m<module>\u001b[0;34m\u001b[0m\n\u001b[0;32m----> 1\u001b[0;31m \u001b[0mapp\u001b[0m\u001b[0;34m.\u001b[0m\u001b[0minit\u001b[0m\u001b[0;34m(\u001b[0m\u001b[0;34m)\u001b[0m\u001b[0;34m\u001b[0m\u001b[0;34m\u001b[0m\u001b[0m\n\u001b[0m",
      "\u001b[0;31mTypeError\u001b[0m: init() missing 2 required positional arguments: 'import_name' and 'views_list'"
     ]
    }
   ],
   "source": [
    "# app.init()"
   ]
  },
  {
   "cell_type": "code",
   "execution_count": null,
   "metadata": {},
   "outputs": [],
   "source": []
  }
 ],
 "metadata": {
  "kernelspec": {
   "display_name": "Python 3",
   "language": "python",
   "name": "python3"
  },
  "language_info": {
   "codemirror_mode": {
    "name": "ipython",
    "version": 3
   },
   "file_extension": ".py",
   "mimetype": "text/x-python",
   "name": "python",
   "nbconvert_exporter": "python",
   "pygments_lexer": "ipython3",
   "version": "3.7.1"
  }
 },
 "nbformat": 4,
 "nbformat_minor": 2
}
