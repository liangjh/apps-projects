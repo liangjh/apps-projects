{
 "cells": [
  {
   "cell_type": "markdown",
   "metadata": {},
   "source": [
    "# Tweem.io Model Persistence"
   ]
  },
  {
   "cell_type": "markdown",
   "metadata": {},
   "source": [
    "Calibrated model objects to be saved to postgres database table  "
   ]
  },
  {
   "cell_type": "markdown",
   "metadata": {},
   "source": [
    "### Imports"
   ]
  },
  {
   "cell_type": "code",
   "execution_count": 1,
   "metadata": {
    "ExecuteTime": {
     "end_time": "2020-08-15T02:26:46.029105Z",
     "start_time": "2020-08-15T02:26:46.025410Z"
    }
   },
   "outputs": [],
   "source": [
    "import os\n",
    "import pickle"
   ]
  },
  {
   "cell_type": "code",
   "execution_count": 2,
   "metadata": {
    "ExecuteTime": {
     "end_time": "2020-08-15T02:26:47.560250Z",
     "start_time": "2020-08-15T02:26:46.154636Z"
    }
   },
   "outputs": [],
   "source": [
    "import assembly\n",
    "from assembly import config as asmbl_config\n",
    "from assembly import db as asmbl_db\n",
    "from assembly import models as asmbl_models"
   ]
  },
  {
   "cell_type": "markdown",
   "metadata": {},
   "source": [
    "### Environment Settings"
   ]
  },
  {
   "cell_type": "code",
   "execution_count": 3,
   "metadata": {
    "ExecuteTime": {
     "end_time": "2020-08-15T02:26:47.573616Z",
     "start_time": "2020-08-15T02:26:47.563767Z"
    }
   },
   "outputs": [],
   "source": [
    "#  CD out to main app directory root, \n",
    "#  This is needed by app context to initialize properly\n",
    "os.chdir('..')"
   ]
  },
  {
   "cell_type": "code",
   "execution_count": 4,
   "metadata": {
    "ExecuteTime": {
     "end_time": "2020-08-15T02:26:54.411448Z",
     "start_time": "2020-08-15T02:26:54.098601Z"
    }
   },
   "outputs": [],
   "source": [
    "#  Initialize environment\n",
    "#  Set env to appropriate location\n",
    "# os.environ['ASSEMBLY_ENV'] = 'Development'\n",
    "os.environ['ASSEMBLY_ENV'] = 'Production'\n",
    "app = assembly.Assembly.init(__name__, {'default': []})"
   ]
  },
  {
   "cell_type": "markdown",
   "metadata": {},
   "source": [
    "### Inputs"
   ]
  },
  {
   "cell_type": "code",
   "execution_count": 5,
   "metadata": {
    "ExecuteTime": {
     "end_time": "2020-08-15T02:26:56.914483Z",
     "start_time": "2020-08-15T02:26:56.911285Z"
    }
   },
   "outputs": [],
   "source": [
    "#  Directory where calibrated models are saved locally\n",
    "MODEL_BASE_DIR = '/Users/liangjh/workspace/tweemio-api/data/models'"
   ]
  },
  {
   "cell_type": "code",
   "execution_count": 18,
   "metadata": {
    "ExecuteTime": {
     "end_time": "2020-08-15T02:28:14.127387Z",
     "start_time": "2020-08-15T02:28:14.123950Z"
    }
   },
   "outputs": [],
   "source": [
    "#  Calibration persistence parameters\n",
    "group = 'trumpian'\n",
    "# group = 'antitrump'\n",
    "# group = 'prominentdems'\n",
    "# group = 'techbiz'\n",
    "# group = 'culturalicons'\n"
   ]
  },
  {
   "cell_type": "code",
   "execution_count": 9,
   "metadata": {
    "ExecuteTime": {
     "end_time": "2020-01-26T23:16:46.678593Z",
     "start_time": "2020-01-26T23:16:46.675470Z"
    }
   },
   "outputs": [],
   "source": [
    "old_version = 1\n",
    "new_version = 1"
   ]
  },
  {
   "cell_type": "markdown",
   "metadata": {},
   "source": [
    "### Persist to Database"
   ]
  },
  {
   "cell_type": "code",
   "execution_count": null,
   "metadata": {},
   "outputs": [],
   "source": [
    "#  Archive old / prior versions, to allow for rollback (if needed)\n",
    "old_models = asmbl_models.TwmSnModel.query().filter(asmbl_models.TwmSnModel.active == True and asmbl_models.TwmSnModel.grp == group)\n",
    "for model in old_models:\n",
    "    model.update(active=False)       "
   ]
  },
  {
   "cell_type": "code",
   "execution_count": null,
   "metadata": {
    "ExecuteTime": {
     "end_time": "2020-07-14T00:43:48.402061Z",
     "start_time": "2020-07-14T00:43:47.790770Z"
    }
   },
   "outputs": [],
   "source": [
    "# for group in asmbl_config['SIMILARITY_COMPARISONS'].keys():\n",
    "#     print(f'processing models for group: {group}')"
   ]
  },
  {
   "cell_type": "code",
   "execution_count": 19,
   "metadata": {
    "ExecuteTime": {
     "end_time": "2020-08-15T02:28:23.008275Z",
     "start_time": "2020-08-15T02:28:15.340475Z"
    }
   },
   "outputs": [
    {
     "data": {
      "text/plain": [
       "<TwmSnModel>"
      ]
     },
     "execution_count": 19,
     "metadata": {},
     "output_type": "execute_result"
    }
   ],
   "source": [
    "#  Save similarity model, for this group\n",
    "with open(f'{MODEL_BASE_DIR}/{group}-mnbv1-similarity.pik', 'rb') as model_file:\n",
    "    mdl_pkl = pickle.load(model_file)\n",
    "\n",
    "asmbl_models.TwmSnModel.create(\n",
    "    model_name='mnbv1-similarity', version=1, active=True, grp=group, pckl=mdl_pkl)"
   ]
  },
  {
   "cell_type": "code",
   "execution_count": 20,
   "metadata": {
    "ExecuteTime": {
     "end_time": "2020-08-15T02:28:23.819223Z",
     "start_time": "2020-08-15T02:28:23.011470Z"
    }
   },
   "outputs": [
    {
     "data": {
      "text/plain": [
       "<TwmSnModel>"
      ]
     },
     "execution_count": 20,
     "metadata": {},
     "output_type": "execute_result"
    }
   ],
   "source": [
    "#  Save Vectorizer for this group\n",
    "with open(f'{MODEL_BASE_DIR}/{group}-mnbv1-vectorizer.pik', 'rb') as model_file:\n",
    "    mdl_pkl = pickle.load(model_file)\n",
    "\n",
    "asmbl_models.TwmSnModel.create(\n",
    "        model_name='mnbv1-vectorizer', version=1, active=True, grp=group, pckl=mdl_pkl)"
   ]
  },
  {
   "cell_type": "code",
   "execution_count": null,
   "metadata": {},
   "outputs": [],
   "source": []
  }
 ],
 "metadata": {
  "kernelspec": {
   "display_name": "Python 3",
   "language": "python",
   "name": "python3"
  },
  "language_info": {
   "codemirror_mode": {
    "name": "ipython",
    "version": 3
   },
   "file_extension": ".py",
   "mimetype": "text/x-python",
   "name": "python",
   "nbconvert_exporter": "python",
   "pygments_lexer": "ipython3",
   "version": "3.7.1"
  }
 },
 "nbformat": 4,
 "nbformat_minor": 2
}
