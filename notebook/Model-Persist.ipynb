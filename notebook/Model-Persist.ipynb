{
 "cells": [
  {
   "cell_type": "markdown",
   "metadata": {},
   "source": [
    "# Tweem.io Model Persistence"
   ]
  },
  {
   "cell_type": "markdown",
   "metadata": {},
   "source": [
    "Calibrated model objects to be saved to postgres database table  "
   ]
  },
  {
   "cell_type": "markdown",
   "metadata": {},
   "source": [
    "### Imports"
   ]
  },
  {
   "cell_type": "code",
   "execution_count": 37,
   "metadata": {
    "ExecuteTime": {
     "end_time": "2020-08-14T04:23:41.641783Z",
     "start_time": "2020-08-14T04:23:41.550725Z"
    }
   },
   "outputs": [],
   "source": [
    "import os\n",
    "import pickle"
   ]
  },
  {
   "cell_type": "code",
   "execution_count": 38,
   "metadata": {
    "ExecuteTime": {
     "end_time": "2020-08-14T04:23:41.683099Z",
     "start_time": "2020-08-14T04:23:41.665141Z"
    }
   },
   "outputs": [],
   "source": [
    "import assembly\n",
    "from assembly import config as asmbl_config\n",
    "from assembly import db as asmbl_db\n",
    "from assembly import models as asmbl_models"
   ]
  },
  {
   "cell_type": "markdown",
   "metadata": {},
   "source": [
    "### Environment Settings"
   ]
  },
  {
   "cell_type": "code",
   "execution_count": 39,
   "metadata": {
    "ExecuteTime": {
     "end_time": "2020-08-14T04:23:44.434329Z",
     "start_time": "2020-08-14T04:23:44.428836Z"
    }
   },
   "outputs": [],
   "source": [
    "#  CD out to main app directory root, \n",
    "#  This is needed by app context to initialize properly\n",
    "os.chdir('..')"
   ]
  },
  {
   "cell_type": "code",
   "execution_count": 40,
   "metadata": {
    "ExecuteTime": {
     "end_time": "2020-08-14T04:23:44.779016Z",
     "start_time": "2020-08-14T04:23:44.605185Z"
    }
   },
   "outputs": [],
   "source": [
    "#  Initialize environment\n",
    "#  Set env to appropriate location\n",
    "os.environ['ASSEMBLY_ENV'] = 'Development'\n",
    "app = assembly.Assembly.init(__name__, {'default': []})"
   ]
  },
  {
   "cell_type": "code",
   "execution_count": null,
   "metadata": {},
   "outputs": [],
   "source": [
    "# ---------------"
   ]
  },
  {
   "cell_type": "code",
   "execution_count": 42,
   "metadata": {
    "ExecuteTime": {
     "end_time": "2020-08-14T04:25:27.269552Z",
     "start_time": "2020-08-14T04:25:27.256656Z"
    }
   },
   "outputs": [],
   "source": [
    "record, tline, rdbl = asmbl_models.TwmUserTimeline.latest('jliang1')"
   ]
  },
  {
   "cell_type": "code",
   "execution_count": 45,
   "metadata": {
    "ExecuteTime": {
     "end_time": "2020-08-14T04:25:46.378454Z",
     "start_time": "2020-08-14T04:25:46.372043Z"
    }
   },
   "outputs": [
    {
     "data": {
      "text/plain": [
       "'20200814'"
      ]
     },
     "execution_count": 45,
     "metadata": {},
     "output_type": "execute_result"
    }
   ],
   "source": [
    "record.created_at.strftime('%Y%m%d')"
   ]
  },
  {
   "cell_type": "code",
   "execution_count": 46,
   "metadata": {
    "ExecuteTime": {
     "end_time": "2020-08-14T04:26:04.739869Z",
     "start_time": "2020-08-14T04:26:04.732885Z"
    }
   },
   "outputs": [
    {
     "data": {
      "text/plain": [
       "'d31e3c4058c44586af40089637d98a38'"
      ]
     },
     "execution_count": 46,
     "metadata": {},
     "output_type": "execute_result"
    }
   ],
   "source": [
    "record.uuid"
   ]
  },
  {
   "cell_type": "code",
   "execution_count": 47,
   "metadata": {
    "ExecuteTime": {
     "end_time": "2020-08-14T04:26:47.521140Z",
     "start_time": "2020-08-14T04:26:47.512385Z"
    }
   },
   "outputs": [
    {
     "data": {
      "text/plain": [
       "'20200814__tl__jliang1__d31e3c4058c44586af40089637d98a38.json'"
      ]
     },
     "execution_count": 47,
     "metadata": {},
     "output_type": "execute_result"
    }
   ],
   "source": [
    "asmbl_models.TwmUserTimeline.assemble_filename_tline('jliang1', record.created_at, record.uuid)"
   ]
  },
  {
   "cell_type": "code",
   "execution_count": null,
   "metadata": {},
   "outputs": [],
   "source": [
    "# ---------------"
   ]
  },
  {
   "cell_type": "markdown",
   "metadata": {},
   "source": [
    "### Inputs"
   ]
  },
  {
   "cell_type": "code",
   "execution_count": 5,
   "metadata": {
    "ExecuteTime": {
     "end_time": "2020-08-14T03:14:00.356669Z",
     "start_time": "2020-08-14T03:14:00.353187Z"
    }
   },
   "outputs": [],
   "source": [
    "#  Directory where calibrated models are saved locally\n",
    "MODEL_BASE_DIR = '/Users/liangjh/workspace/tweemio-api/data/models'"
   ]
  },
  {
   "cell_type": "code",
   "execution_count": 34,
   "metadata": {
    "ExecuteTime": {
     "end_time": "2020-08-14T03:18:00.313513Z",
     "start_time": "2020-08-14T03:18:00.310335Z"
    }
   },
   "outputs": [],
   "source": [
    "#  Calibration persistence parameters\n",
    "# group = 'trumpian'\n",
    "# group = 'antitrump'\n",
    "# group = 'prominentdems'\n",
    "# group = 'techbiz'\n",
    "group = 'culturalicons'\n"
   ]
  },
  {
   "cell_type": "code",
   "execution_count": 9,
   "metadata": {
    "ExecuteTime": {
     "end_time": "2020-01-26T23:16:46.678593Z",
     "start_time": "2020-01-26T23:16:46.675470Z"
    }
   },
   "outputs": [],
   "source": [
    "old_version = 1\n",
    "new_version = 1"
   ]
  },
  {
   "cell_type": "markdown",
   "metadata": {},
   "source": [
    "### Persist to Database"
   ]
  },
  {
   "cell_type": "code",
   "execution_count": null,
   "metadata": {},
   "outputs": [],
   "source": [
    "#  Archive old / prior versions, to allow for rollback (if needed)\n",
    "old_models = asmbl_models.TwmSnModel.query().filter(asmbl_models.TwmSnModel.active == True and asmbl_models.TwmSnModel.grp == group)\n",
    "for model in old_models:\n",
    "    model.update(active=False)       "
   ]
  },
  {
   "cell_type": "code",
   "execution_count": null,
   "metadata": {
    "ExecuteTime": {
     "end_time": "2020-07-14T00:43:48.402061Z",
     "start_time": "2020-07-14T00:43:47.790770Z"
    }
   },
   "outputs": [],
   "source": [
    "# for group in asmbl_config['SIMILARITY_COMPARISONS'].keys():\n",
    "#     print(f'processing models for group: {group}')"
   ]
  },
  {
   "cell_type": "code",
   "execution_count": 35,
   "metadata": {
    "ExecuteTime": {
     "end_time": "2020-08-14T03:18:01.508208Z",
     "start_time": "2020-08-14T03:18:01.421969Z"
    }
   },
   "outputs": [
    {
     "data": {
      "text/plain": [
       "<TwmSnModel>"
      ]
     },
     "execution_count": 35,
     "metadata": {},
     "output_type": "execute_result"
    }
   ],
   "source": [
    "#  Save similarity model, for this group\n",
    "with open(f'{MODEL_BASE_DIR}/{group}-mnbv1-similarity.pik', 'rb') as model_file:\n",
    "    mdl_pkl = pickle.load(model_file)\n",
    "\n",
    "asmbl_models.TwmSnModel.create(\n",
    "    model_name='mnbv1-similarity', version=1, active=True, grp=group, pckl=mdl_pkl)"
   ]
  },
  {
   "cell_type": "code",
   "execution_count": 36,
   "metadata": {
    "ExecuteTime": {
     "end_time": "2020-08-14T03:18:01.643749Z",
     "start_time": "2020-08-14T03:18:01.566456Z"
    }
   },
   "outputs": [
    {
     "data": {
      "text/plain": [
       "<TwmSnModel>"
      ]
     },
     "execution_count": 36,
     "metadata": {},
     "output_type": "execute_result"
    }
   ],
   "source": [
    "#  Save Vectorizer for this group\n",
    "with open(f'{MODEL_BASE_DIR}/{group}-mnbv1-vectorizer.pik', 'rb') as model_file:\n",
    "    mdl_pkl = pickle.load(model_file)\n",
    "\n",
    "asmbl_models.TwmSnModel.create(\n",
    "        model_name='mnbv1-vectorizer', version=1, active=True, grp=group, pckl=mdl_pkl)"
   ]
  },
  {
   "cell_type": "code",
   "execution_count": null,
   "metadata": {},
   "outputs": [],
   "source": []
  }
 ],
 "metadata": {
  "kernelspec": {
   "display_name": "Python 3",
   "language": "python",
   "name": "python3"
  },
  "language_info": {
   "codemirror_mode": {
    "name": "ipython",
    "version": 3
   },
   "file_extension": ".py",
   "mimetype": "text/x-python",
   "name": "python",
   "nbconvert_exporter": "python",
   "pygments_lexer": "ipython3",
   "version": "3.7.1"
  }
 },
 "nbformat": 4,
 "nbformat_minor": 2
}
