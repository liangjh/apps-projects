{
 "cells": [
  {
   "cell_type": "markdown",
   "metadata": {},
   "source": [
    "# Tweem.io Model Persistence"
   ]
  },
  {
   "cell_type": "markdown",
   "metadata": {},
   "source": [
    "Calibrated model objects to be saved to postgres database table  "
   ]
  },
  {
   "cell_type": "markdown",
   "metadata": {},
   "source": [
    "### Imports"
   ]
  },
  {
   "cell_type": "code",
   "execution_count": 1,
   "metadata": {
    "ExecuteTime": {
     "end_time": "2020-07-12T18:43:05.588772Z",
     "start_time": "2020-07-12T18:43:05.584253Z"
    }
   },
   "outputs": [],
   "source": [
    "import os\n",
    "import pickle"
   ]
  },
  {
   "cell_type": "code",
   "execution_count": 2,
   "metadata": {
    "ExecuteTime": {
     "end_time": "2020-07-12T18:43:07.021578Z",
     "start_time": "2020-07-12T18:43:05.697809Z"
    }
   },
   "outputs": [],
   "source": [
    "import assembly\n",
    "from assembly import config as asmbl_config\n",
    "from assembly import db as asmbl_db\n",
    "from assembly import models as asmbl_models"
   ]
  },
  {
   "cell_type": "markdown",
   "metadata": {},
   "source": [
    "### Environment Settings"
   ]
  },
  {
   "cell_type": "code",
   "execution_count": 3,
   "metadata": {
    "ExecuteTime": {
     "end_time": "2020-07-12T18:43:07.027157Z",
     "start_time": "2020-07-12T18:43:07.023843Z"
    }
   },
   "outputs": [],
   "source": [
    "#  CD out to main app directory root, \n",
    "#  This is needed by app context to initialize properly\n",
    "os.chdir('..')"
   ]
  },
  {
   "cell_type": "code",
   "execution_count": 4,
   "metadata": {
    "ExecuteTime": {
     "end_time": "2020-07-12T18:43:07.498187Z",
     "start_time": "2020-07-12T18:43:07.173808Z"
    }
   },
   "outputs": [],
   "source": [
    "#  Initialize environment\n",
    "#  Set env to appropriate location\n",
    "os.environ['ASSEMBLY_ENV'] = 'Development'\n",
    "app = assembly.Assembly.init(__name__, {'default': []})"
   ]
  },
  {
   "cell_type": "markdown",
   "metadata": {},
   "source": [
    "### Inputs"
   ]
  },
  {
   "cell_type": "code",
   "execution_count": 5,
   "metadata": {
    "ExecuteTime": {
     "end_time": "2020-07-12T18:43:09.451105Z",
     "start_time": "2020-07-12T18:43:09.447771Z"
    }
   },
   "outputs": [],
   "source": [
    "#  Directory where calibrated models are saved locally\n",
    "MODEL_BASE_DIR = '/Users/liangjh/workspace/tweemio-api/data/models'"
   ]
  },
  {
   "cell_type": "code",
   "execution_count": 6,
   "metadata": {
    "ExecuteTime": {
     "end_time": "2020-07-12T18:43:23.016363Z",
     "start_time": "2020-07-12T18:43:23.012731Z"
    }
   },
   "outputs": [],
   "source": [
    "#  Calibration persistence parameters\n",
    "#  trumpian, dempres2020, techbiz, entertainment, comedians\n",
    "group = 'trumpian'"
   ]
  },
  {
   "cell_type": "code",
   "execution_count": 9,
   "metadata": {
    "ExecuteTime": {
     "end_time": "2020-01-26T23:16:46.678593Z",
     "start_time": "2020-01-26T23:16:46.675470Z"
    }
   },
   "outputs": [],
   "source": [
    "old_version = 1\n",
    "new_version = 1"
   ]
  },
  {
   "cell_type": "markdown",
   "metadata": {},
   "source": [
    "### Save to Database"
   ]
  },
  {
   "cell_type": "markdown",
   "metadata": {},
   "source": [
    "#### Archive old models"
   ]
  },
  {
   "cell_type": "code",
   "execution_count": 8,
   "metadata": {
    "ExecuteTime": {
     "end_time": "2020-07-12T18:49:52.993325Z",
     "start_time": "2020-07-12T18:49:52.985990Z"
    }
   },
   "outputs": [],
   "source": [
    "#  Archive old / prior versions, to allow for rollback (if needed)\n",
    "old_models = asmbl_models.TwmSnModel.query().filter(asmbl_models.TwmSnModel.active == True and asmbl_models.TwmSnModel.grp == group)\n",
    "for model in old_models:\n",
    "    model.update(active=False)"
   ]
  },
  {
   "cell_type": "markdown",
   "metadata": {},
   "source": [
    "#### Save new / latest models"
   ]
  },
  {
   "cell_type": "code",
   "execution_count": 16,
   "metadata": {
    "ExecuteTime": {
     "end_time": "2020-07-12T18:52:33.387850Z",
     "start_time": "2020-07-12T18:52:33.309466Z"
    }
   },
   "outputs": [
    {
     "data": {
      "text/plain": [
       "<TwmSnModel>"
      ]
     },
     "execution_count": 16,
     "metadata": {},
     "output_type": "execute_result"
    }
   ],
   "source": [
    "#  Save similarity model, for this group\n",
    "with open(f'{MODEL_BASE_DIR}/{group}-mnbv1-similarity.pik', 'rb') as model_file:\n",
    "    mdl_pkl = pickle.load(model_file)\n",
    "\n",
    "asmbl_models.TwmSnModel.create(\n",
    "    model_name='mnbv1-similarity', version=1, active=True, grp=group, pckl=mdl_pkl)"
   ]
  },
  {
   "cell_type": "code",
   "execution_count": 17,
   "metadata": {
    "ExecuteTime": {
     "end_time": "2020-07-12T18:52:34.447354Z",
     "start_time": "2020-07-12T18:52:34.379402Z"
    }
   },
   "outputs": [
    {
     "data": {
      "text/plain": [
       "<TwmSnModel>"
      ]
     },
     "execution_count": 17,
     "metadata": {},
     "output_type": "execute_result"
    }
   ],
   "source": [
    "#  Save Vectorizer for this group\n",
    "with open(f'{MODEL_BASE_DIR}/{group}-mnbv1-vectorizer.pik', 'rb') as model_file:\n",
    "    mdl_pkl = pickle.load(model_file)\n",
    "\n",
    "asmbl_models.TwmSnModel.create(\n",
    "        model_name='mnbv1-vectorizer',\n",
    "        version=1, active=True, grp=group, pckl=mdl_pkl)"
   ]
  },
  {
   "cell_type": "code",
   "execution_count": null,
   "metadata": {},
   "outputs": [],
   "source": []
  }
 ],
 "metadata": {
  "kernelspec": {
   "display_name": "Python 3",
   "language": "python",
   "name": "python3"
  },
  "language_info": {
   "codemirror_mode": {
    "name": "ipython",
    "version": 3
   },
   "file_extension": ".py",
   "mimetype": "text/x-python",
   "name": "python",
   "nbconvert_exporter": "python",
   "pygments_lexer": "ipython3",
   "version": "3.7.1"
  }
 },
 "nbformat": 4,
 "nbformat_minor": 2
}
