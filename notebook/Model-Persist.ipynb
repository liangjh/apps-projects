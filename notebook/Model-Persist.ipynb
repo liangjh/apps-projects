{
 "cells": [
  {
   "cell_type": "code",
   "execution_count": 1,
   "metadata": {
    "ExecuteTime": {
     "end_time": "2020-01-20T18:03:27.748397Z",
     "start_time": "2020-01-20T18:03:27.745390Z"
    }
   },
   "outputs": [],
   "source": [
    "import os\n",
    "import pickle"
   ]
  },
  {
   "cell_type": "code",
   "execution_count": 6,
   "metadata": {
    "ExecuteTime": {
     "end_time": "2020-01-20T18:04:05.586157Z",
     "start_time": "2020-01-20T18:04:05.582336Z"
    }
   },
   "outputs": [],
   "source": [
    "import assembly\n",
    "from assembly import config as asmbl_config\n",
    "from assembly import db as asmbl_db\n",
    "from assembly import models as asmbl_models"
   ]
  },
  {
   "cell_type": "code",
   "execution_count": 3,
   "metadata": {
    "ExecuteTime": {
     "end_time": "2020-01-20T18:03:29.259418Z",
     "start_time": "2020-01-20T18:03:29.255781Z"
    }
   },
   "outputs": [],
   "source": [
    "#  CD out to main app directory root, \n",
    "#  This is needed by app context to initialize properly\n",
    "os.chdir('..')"
   ]
  },
  {
   "cell_type": "code",
   "execution_count": 19,
   "metadata": {
    "ExecuteTime": {
     "end_time": "2020-01-20T18:10:26.923196Z",
     "start_time": "2020-01-20T18:10:26.920086Z"
    }
   },
   "outputs": [],
   "source": [
    "#  Directory where calibrated models are saved locally\n",
    "MODEL_BASE_DIR = '/Users/liangjh/workspace/tweemio-api/data/models'"
   ]
  },
  {
   "cell_type": "code",
   "execution_count": 8,
   "metadata": {
    "ExecuteTime": {
     "end_time": "2020-01-20T18:04:17.622582Z",
     "start_time": "2020-01-20T18:04:17.610034Z"
    }
   },
   "outputs": [],
   "source": [
    "#  Initialize environment\n",
    "#  Set env to appropriate location\n",
    "os.environ['ASSEMBLY_ENV'] = 'Development'\n",
    "app = assembly.Assembly.init(__name__, {'default': []})"
   ]
  },
  {
   "cell_type": "code",
   "execution_count": 15,
   "metadata": {
    "ExecuteTime": {
     "end_time": "2020-01-20T18:05:31.537671Z",
     "start_time": "2020-01-20T18:05:31.533915Z"
    }
   },
   "outputs": [],
   "source": [
    "#  Calibration persistence parameters\n",
    "group = 'default'\n",
    "twitter_handles = app.config['TWITTER_HANDLES_GROUPS'][group]"
   ]
  },
  {
   "cell_type": "code",
   "execution_count": null,
   "metadata": {
    "ExecuteTime": {
     "end_time": "2020-01-20T18:10:22.269437Z",
     "start_time": "2020-01-20T18:10:22.254382Z"
    }
   },
   "outputs": [],
   "source": [
    "#  Create each model \n",
    "for screen_name in twitter_handles:\n",
    "    print(f'Reading / persisting model for screen_name: {screen_name}')\n",
    "    with open(f'{MODEL_BASE_DIR}/model-{screen_name}.pik', 'rb') as model_file:\n",
    "        mdl_pkl = pickle.load(model_file)\n",
    "\n",
    "    asmbl_models.TwmSnModel.create(\n",
    "        screen_name=screen_name,\n",
    "        version=1,\n",
    "        active=True,\n",
    "        grp=group,\n",
    "        pckl=mdl_pkl\n",
    "    )"
   ]
  },
  {
   "cell_type": "code",
   "execution_count": null,
   "metadata": {},
   "outputs": [],
   "source": [
    "#  Save Vectorizer;  this is specific to impl"
   ]
  },
  {
   "cell_type": "code",
   "execution_count": null,
   "metadata": {},
   "outputs": [],
   "source": [
    "#  -- Retrieve Models -- \n",
    "\n",
    "#  Load / initialize model etc from database\n",
    "mdl_row = asmbl_models.TwmSnModel.get(11)\n",
    "mdl_row.pckl\n",
    "\n",
    "# Query for a specific type\n",
    "mdls = asmbl_models.TwmSnModel.query().filter(asmbl_models.TwmSnModel.grp =='default' and asmbl_models.TwmSnModel.active == True)\n",
    "mdl_map = {mdl.screen_name:mdl.pckl for mdl in mdls}\n",
    "\n",
    "# mdl_map"
   ]
  },
  {
   "cell_type": "code",
   "execution_count": null,
   "metadata": {},
   "outputs": [],
   "source": []
  }
 ],
 "metadata": {
  "kernelspec": {
   "display_name": "Python 3",
   "language": "python",
   "name": "python3"
  },
  "language_info": {
   "codemirror_mode": {
    "name": "ipython",
    "version": 3
   },
   "file_extension": ".py",
   "mimetype": "text/x-python",
   "name": "python",
   "nbconvert_exporter": "python",
   "pygments_lexer": "ipython3",
   "version": "3.7.1"
  }
 },
 "nbformat": 4,
 "nbformat_minor": 2
}
