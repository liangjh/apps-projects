{
 "cells": [
  {
   "cell_type": "code",
   "execution_count": 15,
   "metadata": {
    "ExecuteTime": {
     "end_time": "2020-01-20T23:52:27.705679Z",
     "start_time": "2020-01-20T23:52:27.702437Z"
    }
   },
   "outputs": [],
   "source": [
    "import os\n",
    "import pickle"
   ]
  },
  {
   "cell_type": "code",
   "execution_count": 16,
   "metadata": {
    "ExecuteTime": {
     "end_time": "2020-01-20T23:52:27.848559Z",
     "start_time": "2020-01-20T23:52:27.845014Z"
    }
   },
   "outputs": [],
   "source": [
    "import assembly\n",
    "from assembly import config as asmbl_config\n",
    "from assembly import db as asmbl_db\n",
    "from assembly import models as asmbl_models"
   ]
  },
  {
   "cell_type": "code",
   "execution_count": 17,
   "metadata": {
    "ExecuteTime": {
     "end_time": "2020-01-20T23:52:29.280946Z",
     "start_time": "2020-01-20T23:52:29.277564Z"
    }
   },
   "outputs": [],
   "source": [
    "#  CD out to main app directory root, \n",
    "#  This is needed by app context to initialize properly\n",
    "os.chdir('..')"
   ]
  },
  {
   "cell_type": "code",
   "execution_count": 4,
   "metadata": {
    "ExecuteTime": {
     "end_time": "2020-01-20T22:45:22.276593Z",
     "start_time": "2020-01-20T22:45:22.273661Z"
    }
   },
   "outputs": [],
   "source": [
    "#  Directory where calibrated models are saved locally\n",
    "MODEL_BASE_DIR = '/Users/liangjh/workspace/tweemio-api/data/models'"
   ]
  },
  {
   "cell_type": "code",
   "execution_count": 18,
   "metadata": {
    "ExecuteTime": {
     "end_time": "2020-01-20T23:52:34.300703Z",
     "start_time": "2020-01-20T23:52:34.274666Z"
    }
   },
   "outputs": [],
   "source": [
    "#  Initialize environment\n",
    "#  Set env to appropriate location\n",
    "os.environ['ASSEMBLY_ENV'] = 'Development'\n",
    "app = assembly.Assembly.init(__name__, {'default': []})"
   ]
  },
  {
   "cell_type": "code",
   "execution_count": 19,
   "metadata": {
    "ExecuteTime": {
     "end_time": "2020-01-20T23:52:35.544407Z",
     "start_time": "2020-01-20T23:52:35.540767Z"
    }
   },
   "outputs": [],
   "source": [
    "#  Calibration persistence parameters\n",
    "group = 'default'\n",
    "twitter_handles = app.config['SIMILARITY_COMPARISONS'][group]['screen_names']"
   ]
  },
  {
   "cell_type": "code",
   "execution_count": 12,
   "metadata": {
    "ExecuteTime": {
     "end_time": "2020-01-20T23:50:32.071851Z",
     "start_time": "2020-01-20T23:50:32.061317Z"
    }
   },
   "outputs": [],
   "source": [
    "old_version = 1\n",
    "new_version = 2"
   ]
  },
  {
   "cell_type": "code",
   "execution_count": 22,
   "metadata": {
    "ExecuteTime": {
     "end_time": "2020-01-20T23:52:55.577034Z",
     "start_time": "2020-01-20T23:52:55.571854Z"
    }
   },
   "outputs": [],
   "source": [
    "old_models = asmbl_models.TwmSnModel.query().filter(asmbl_models.TwmSnModel.active == True and asmbl_models.TwmSnModel.grp == group)"
   ]
  },
  {
   "cell_type": "code",
   "execution_count": 23,
   "metadata": {
    "ExecuteTime": {
     "end_time": "2020-01-20T23:53:30.531915Z",
     "start_time": "2020-01-20T23:53:30.172216Z"
    }
   },
   "outputs": [],
   "source": [
    "for model in old_models:\n",
    "    model.update(active=False)"
   ]
  },
  {
   "cell_type": "code",
   "execution_count": 24,
   "metadata": {
    "ExecuteTime": {
     "end_time": "2020-01-20T23:53:48.918185Z",
     "start_time": "2020-01-20T23:53:47.988502Z"
    }
   },
   "outputs": [
    {
     "name": "stdout",
     "output_type": "stream",
     "text": [
      "Reading / persisting model for screen_name: realdonaldtrump\n",
      "Reading / persisting model for screen_name: jimmyfallon\n",
      "Reading / persisting model for screen_name: trevornoah\n",
      "Reading / persisting model for screen_name: billmaher\n",
      "Reading / persisting model for screen_name: stephenathome\n",
      "Reading / persisting model for screen_name: britneyspears\n",
      "Reading / persisting model for screen_name: selenagomez\n",
      "Reading / persisting model for screen_name: kimkardashian\n",
      "Reading / persisting model for screen_name: jtimberlake\n",
      "Reading / persisting model for screen_name: arianagrande\n",
      "Reading / persisting model for screen_name: theellenshow\n",
      "Reading / persisting model for screen_name: ladygaga\n",
      "Reading / persisting model for screen_name: rihanna\n",
      "Reading / persisting model for screen_name: taylorswift13\n",
      "Reading / persisting model for screen_name: justinbieber\n",
      "Reading / persisting model for screen_name: katyperry\n",
      "Reading / persisting model for screen_name: billgates\n",
      "Reading / persisting model for screen_name: mileycyrus\n",
      "Reading / persisting model for screen_name: jlo\n",
      "Reading / persisting model for screen_name: kingjames\n",
      "Reading / persisting model for screen_name: brunomars\n",
      "Reading / persisting model for screen_name: chrissyteigen\n",
      "Reading / persisting model for screen_name: oprah\n",
      "Reading / persisting model for screen_name: drake\n",
      "Reading / persisting model for screen_name: pink\n",
      "Reading / persisting model for screen_name: liltunechi\n",
      "Reading / persisting model for screen_name: kevinhart4real\n",
      "Reading / persisting model for screen_name: elonmusk\n",
      "Reading / persisting model for screen_name: kyliejenner\n",
      "Reading / persisting model for screen_name: conanobrien\n",
      "Reading / persisting model for screen_name: mariahcarey\n",
      "Reading / persisting model for screen_name: davidguetta\n",
      "Reading / persisting model for screen_name: jk_rowling\n"
     ]
    }
   ],
   "source": [
    "#  Create new\n",
    "#  Create each model \n",
    "for screen_name in twitter_handles:\n",
    "\n",
    "    print(f'Reading / persisting model for screen_name: {screen_name}')\n",
    "    with open(f'{MODEL_BASE_DIR}/model-{screen_name}.pik', 'rb') as model_file:\n",
    "        mdl_pkl = pickle.load(model_file)\n",
    "\n",
    "    asmbl_models.TwmSnModel.create(\n",
    "        model_name=screen_name,\n",
    "        version=new_version,\n",
    "        active=True,\n",
    "        grp=group,\n",
    "        pckl=mdl_pkl\n",
    "    )"
   ]
  },
  {
   "cell_type": "code",
   "execution_count": null,
   "metadata": {},
   "outputs": [],
   "source": [
    "#  Save Vectorizer;  this is specific to impl"
   ]
  },
  {
   "cell_type": "code",
   "execution_count": 25,
   "metadata": {
    "ExecuteTime": {
     "end_time": "2020-01-20T23:53:54.079108Z",
     "start_time": "2020-01-20T23:53:54.062233Z"
    }
   },
   "outputs": [],
   "source": [
    "with open(f'{MODEL_BASE_DIR}/vectorizer.pik', 'rb') as model_file:\n",
    "    mdl_pkl = pickle.load(model_file)"
   ]
  },
  {
   "cell_type": "code",
   "execution_count": 26,
   "metadata": {
    "ExecuteTime": {
     "end_time": "2020-01-20T23:53:54.835097Z",
     "start_time": "2020-01-20T23:53:54.743258Z"
    }
   },
   "outputs": [
    {
     "data": {
      "text/plain": [
       "<TwmSnModel>"
      ]
     },
     "execution_count": 26,
     "metadata": {},
     "output_type": "execute_result"
    }
   ],
   "source": [
    "asmbl_models.TwmSnModel.create(\n",
    "        model_name='transformation-countvectorizer',\n",
    "        version=1, active=True, grp='default', pckl=mdl_pkl\n",
    ")"
   ]
  },
  {
   "cell_type": "code",
   "execution_count": null,
   "metadata": {},
   "outputs": [],
   "source": [
    "#  -- Retrieve Models -- \n",
    "\n",
    "#  Load / initialize model etc from database\n",
    "mdl_row = asmbl_models.TwmSnModel.get(11)\n",
    "mdl_row.pckl\n",
    "\n",
    "# Query for a specific type\n",
    "mdls = asmbl_models.TwmSnModel.query().filter(asmbl_models.TwmSnModel.grp =='default' and asmbl_models.TwmSnModel.active == True)\n",
    "mdl_map = {mdl.screen_name:mdl.pckl for mdl in mdls}"
   ]
  },
  {
   "cell_type": "code",
   "execution_count": null,
   "metadata": {},
   "outputs": [],
   "source": []
  }
 ],
 "metadata": {
  "kernelspec": {
   "display_name": "Python 3",
   "language": "python",
   "name": "python3"
  },
  "language_info": {
   "codemirror_mode": {
    "name": "ipython",
    "version": 3
   },
   "file_extension": ".py",
   "mimetype": "text/x-python",
   "name": "python",
   "nbconvert_exporter": "python",
   "pygments_lexer": "ipython3",
   "version": "3.7.1"
  }
 },
 "nbformat": 4,
 "nbformat_minor": 2
}
