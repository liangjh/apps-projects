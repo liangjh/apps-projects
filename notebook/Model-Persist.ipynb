{
 "cells": [
  {
   "cell_type": "markdown",
   "metadata": {},
   "source": [
    "# Tweem.io Model Persistence"
   ]
  },
  {
   "cell_type": "markdown",
   "metadata": {},
   "source": [
    "Calibrated model objects to be saved to postgres database table  "
   ]
  },
  {
   "cell_type": "markdown",
   "metadata": {},
   "source": [
    "### Imports"
   ]
  },
  {
   "cell_type": "code",
   "execution_count": 1,
   "metadata": {
    "ExecuteTime": {
     "end_time": "2020-01-26T23:13:25.852039Z",
     "start_time": "2020-01-26T23:13:25.841856Z"
    }
   },
   "outputs": [],
   "source": [
    "import os\n",
    "import pickle"
   ]
  },
  {
   "cell_type": "code",
   "execution_count": 2,
   "metadata": {
    "ExecuteTime": {
     "end_time": "2020-01-26T23:13:27.700780Z",
     "start_time": "2020-01-26T23:13:26.157991Z"
    }
   },
   "outputs": [],
   "source": [
    "import assembly\n",
    "from assembly import config as asmbl_config\n",
    "from assembly import db as asmbl_db\n",
    "from assembly import models as asmbl_models"
   ]
  },
  {
   "cell_type": "markdown",
   "metadata": {},
   "source": [
    "### Environment Settings"
   ]
  },
  {
   "cell_type": "code",
   "execution_count": 3,
   "metadata": {
    "ExecuteTime": {
     "end_time": "2020-01-26T23:13:27.706525Z",
     "start_time": "2020-01-26T23:13:27.702882Z"
    }
   },
   "outputs": [],
   "source": [
    "#  CD out to main app directory root, \n",
    "#  This is needed by app context to initialize properly\n",
    "os.chdir('..')"
   ]
  },
  {
   "cell_type": "code",
   "execution_count": 4,
   "metadata": {
    "ExecuteTime": {
     "end_time": "2020-01-26T23:13:27.891799Z",
     "start_time": "2020-01-26T23:13:27.829612Z"
    }
   },
   "outputs": [],
   "source": [
    "#  Initialize environment\n",
    "#  Set env to appropriate location\n",
    "os.environ['ASSEMBLY_ENV'] = 'Development'\n",
    "app = assembly.Assembly.init(__name__, {'default': []})"
   ]
  },
  {
   "cell_type": "markdown",
   "metadata": {},
   "source": [
    "### Inputs"
   ]
  },
  {
   "cell_type": "code",
   "execution_count": 5,
   "metadata": {
    "ExecuteTime": {
     "end_time": "2020-01-26T23:13:33.290682Z",
     "start_time": "2020-01-26T23:13:33.287268Z"
    }
   },
   "outputs": [],
   "source": [
    "#  Directory where calibrated models are saved locally\n",
    "MODEL_BASE_DIR = '/Users/liangjh/workspace/tweemio-api/data/models'"
   ]
  },
  {
   "cell_type": "code",
   "execution_count": 24,
   "metadata": {
    "ExecuteTime": {
     "end_time": "2020-01-26T23:37:36.026648Z",
     "start_time": "2020-01-26T23:37:36.021207Z"
    }
   },
   "outputs": [],
   "source": [
    "#  Calibration persistence parameters\n",
    "#  trumpian, dempres2020, techbiz, entertainment, comedians\n",
    "group = 'comedians'\n",
    "twitter_handles = app.config['SIMILARITY_COMPARISONS'][group]['screen_names']"
   ]
  },
  {
   "cell_type": "code",
   "execution_count": 9,
   "metadata": {
    "ExecuteTime": {
     "end_time": "2020-01-26T23:16:46.678593Z",
     "start_time": "2020-01-26T23:16:46.675470Z"
    }
   },
   "outputs": [],
   "source": [
    "old_version = 1\n",
    "new_version = 1"
   ]
  },
  {
   "cell_type": "markdown",
   "metadata": {},
   "source": [
    "### Save to Database"
   ]
  },
  {
   "cell_type": "markdown",
   "metadata": {},
   "source": [
    "#### Archive old models"
   ]
  },
  {
   "cell_type": "code",
   "execution_count": 12,
   "metadata": {
    "ExecuteTime": {
     "end_time": "2020-01-20T23:50:32.071851Z",
     "start_time": "2020-01-20T23:50:32.061317Z"
    }
   },
   "outputs": [],
   "source": [
    "#  Archive old / prior versions, to allow for rollback (if needed)\n",
    "old_models = asmbl_models.TwmSnModel.query().filter(asmbl_models.TwmSnModel.active == True and asmbl_models.TwmSnModel.grp == group)\n",
    "for model in old_models:\n",
    "    model.update(active=False)"
   ]
  },
  {
   "cell_type": "markdown",
   "metadata": {},
   "source": [
    "#### Save new / latest models"
   ]
  },
  {
   "cell_type": "code",
   "execution_count": 25,
   "metadata": {
    "ExecuteTime": {
     "end_time": "2020-01-26T23:37:38.160475Z",
     "start_time": "2020-01-26T23:37:37.899177Z"
    }
   },
   "outputs": [
    {
     "name": "stdout",
     "output_type": "stream",
     "text": [
      "Reading / persisting model for screen_name: billmaher\n",
      "Reading / persisting model for screen_name: conanobrien\n",
      "Reading / persisting model for screen_name: jimmyfallon\n",
      "Reading / persisting model for screen_name: jimmykimmel\n",
      "Reading / persisting model for screen_name: trevornoah\n",
      "Reading / persisting model for screen_name: jimgaffigan\n",
      "Reading / persisting model for screen_name: sarahksilverman\n",
      "Reading / persisting model for screen_name: stevemartintogo\n",
      "Reading / persisting model for screen_name: stephenathome\n",
      "Reading / persisting model for screen_name: badbanana\n",
      "Reading / persisting model for screen_name: jerryseinfeld\n",
      "Reading / persisting model for screen_name: sethmeyers\n",
      "Reading / persisting model for screen_name: theellenshow\n"
     ]
    }
   ],
   "source": [
    "#  Create new\n",
    "#  Create each model \n",
    "for screen_name in twitter_handles:\n",
    "\n",
    "    print(f'Reading / persisting model for screen_name: {screen_name}')\n",
    "    with open(f'{MODEL_BASE_DIR}/{group}-{screen_name}.pik', 'rb') as model_file:\n",
    "        mdl_pkl = pickle.load(model_file)\n",
    "\n",
    "    asmbl_models.TwmSnModel.create(\n",
    "        model_name=screen_name,\n",
    "        version=(1 if (new_version is None) else new_version),\n",
    "        active=True,\n",
    "        grp=group,\n",
    "        pckl=mdl_pkl\n",
    "    )"
   ]
  },
  {
   "cell_type": "code",
   "execution_count": 26,
   "metadata": {
    "ExecuteTime": {
     "end_time": "2020-01-26T23:37:40.824624Z",
     "start_time": "2020-01-26T23:37:40.769006Z"
    }
   },
   "outputs": [
    {
     "data": {
      "text/plain": [
       "<TwmSnModel>"
      ]
     },
     "execution_count": 26,
     "metadata": {},
     "output_type": "execute_result"
    }
   ],
   "source": [
    "#  Save Vectorizer for this group\n",
    "with open(f'{MODEL_BASE_DIR}/{group}-vectorizer.pik', 'rb') as model_file:\n",
    "    mdl_pkl = pickle.load(model_file)\n",
    "\n",
    "asmbl_models.TwmSnModel.create(\n",
    "        model_name='transformation-countvectorizer',\n",
    "        version=1, active=True, grp=group, pckl=mdl_pkl)"
   ]
  },
  {
   "cell_type": "code",
   "execution_count": null,
   "metadata": {},
   "outputs": [],
   "source": [
    "# --- TESTING ---\n",
    "# --- Retrieve Models ---\n",
    "\n",
    "#  Load / initialize model etc from database\n",
    "mdl_row = asmbl_models.TwmSnModel.get(11)\n",
    "mdl_row.pckl\n",
    "\n",
    "# Query for a specific type\n",
    "mdls = asmbl_models.TwmSnModel.query().filter(asmbl_models.TwmSnModel.grp =='default' and asmbl_models.TwmSnModel.active == True)\n",
    "mdl_map = {mdl.screen_name:mdl.pckl for mdl in mdls}"
   ]
  },
  {
   "cell_type": "code",
   "execution_count": null,
   "metadata": {},
   "outputs": [],
   "source": []
  }
 ],
 "metadata": {
  "kernelspec": {
   "display_name": "Python 3",
   "language": "python",
   "name": "python3"
  },
  "language_info": {
   "codemirror_mode": {
    "name": "ipython",
    "version": 3
   },
   "file_extension": ".py",
   "mimetype": "text/x-python",
   "name": "python",
   "nbconvert_exporter": "python",
   "pygments_lexer": "ipython3",
   "version": "3.7.1"
  }
 },
 "nbformat": 4,
 "nbformat_minor": 2
}
