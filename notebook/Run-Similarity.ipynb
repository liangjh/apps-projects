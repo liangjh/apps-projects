{
 "cells": [
  {
   "cell_type": "code",
   "execution_count": 1,
   "metadata": {
    "ExecuteTime": {
     "end_time": "2020-01-20T23:56:42.536661Z",
     "start_time": "2020-01-20T23:56:42.532853Z"
    }
   },
   "outputs": [],
   "source": [
    "#  Necessary to allow assembly framework to run\n",
    "import os\n",
    "os.chdir('..')"
   ]
  },
  {
   "cell_type": "code",
   "execution_count": 2,
   "metadata": {
    "ExecuteTime": {
     "end_time": "2020-01-20T23:56:44.820810Z",
     "start_time": "2020-01-20T23:56:42.964592Z"
    }
   },
   "outputs": [],
   "source": [
    "import pandas as pd\n",
    "import numpy as np\n",
    "import inspect\n",
    "\n",
    "import assembly\n",
    "from assembly import config as asmbl_config\n",
    "from assembly import db as asmbl_db\n",
    "from assembly import models as asmbl_models\n",
    "\n",
    "from lib.tweemio import twm\n",
    "from lib.tweemio import similarity\n",
    "from lib.tweemio import twitter"
   ]
  },
  {
   "cell_type": "code",
   "execution_count": 3,
   "metadata": {
    "ExecuteTime": {
     "end_time": "2020-01-20T23:56:44.866685Z",
     "start_time": "2020-01-20T23:56:44.823656Z"
    }
   },
   "outputs": [],
   "source": [
    "os.environ['ASSEMBLY_ENV'] = 'Development'\n",
    "app = assembly.Assembly.init(__name__, {'default': []})"
   ]
  },
  {
   "cell_type": "code",
   "execution_count": 10,
   "metadata": {
    "ExecuteTime": {
     "end_time": "2020-01-20T23:58:23.713923Z",
     "start_time": "2020-01-20T23:58:21.161114Z"
    }
   },
   "outputs": [
    {
     "name": "stdout",
     "output_type": "stream",
     "text": [
      "Downloading user timeline for: trevornoah\n",
      "Evaluating similarity to realdonaldtrump with model: mdl_multinomialnbvect_v1\n",
      "Evaluating similarity to jimmyfallon with model: mdl_multinomialnbvect_v1\n",
      "Evaluating similarity to trevornoah with model: mdl_multinomialnbvect_v1\n",
      "Evaluating similarity to billmaher with model: mdl_multinomialnbvect_v1\n",
      "Evaluating similarity to stephenathome with model: mdl_multinomialnbvect_v1\n",
      "Evaluating similarity to britneyspears with model: mdl_multinomialnbvect_v1\n",
      "Evaluating similarity to selenagomez with model: mdl_multinomialnbvect_v1\n",
      "Evaluating similarity to kimkardashian with model: mdl_multinomialnbvect_v1\n",
      "Evaluating similarity to jtimberlake with model: mdl_multinomialnbvect_v1\n",
      "Evaluating similarity to arianagrande with model: mdl_multinomialnbvect_v1\n",
      "Evaluating similarity to theellenshow with model: mdl_multinomialnbvect_v1\n",
      "Evaluating similarity to ladygaga with model: mdl_multinomialnbvect_v1\n",
      "Evaluating similarity to rihanna with model: mdl_multinomialnbvect_v1\n",
      "Evaluating similarity to taylorswift13 with model: mdl_multinomialnbvect_v1\n",
      "Evaluating similarity to justinbieber with model: mdl_multinomialnbvect_v1\n",
      "Evaluating similarity to katyperry with model: mdl_multinomialnbvect_v1\n",
      "Evaluating similarity to billgates with model: mdl_multinomialnbvect_v1\n",
      "Evaluating similarity to mileycyrus with model: mdl_multinomialnbvect_v1\n",
      "Evaluating similarity to jlo with model: mdl_multinomialnbvect_v1\n",
      "Evaluating similarity to kingjames with model: mdl_multinomialnbvect_v1\n",
      "Evaluating similarity to brunomars with model: mdl_multinomialnbvect_v1\n",
      "Evaluating similarity to chrissyteigen with model: mdl_multinomialnbvect_v1\n",
      "Evaluating similarity to oprah with model: mdl_multinomialnbvect_v1\n",
      "Evaluating similarity to drake with model: mdl_multinomialnbvect_v1\n",
      "Evaluating similarity to pink with model: mdl_multinomialnbvect_v1\n",
      "Evaluating similarity to liltunechi with model: mdl_multinomialnbvect_v1\n",
      "Evaluating similarity to kevinhart4real with model: mdl_multinomialnbvect_v1\n",
      "Evaluating similarity to elonmusk with model: mdl_multinomialnbvect_v1\n",
      "Evaluating similarity to kyliejenner with model: mdl_multinomialnbvect_v1\n",
      "Evaluating similarity to conanobrien with model: mdl_multinomialnbvect_v1\n",
      "Evaluating similarity to mariahcarey with model: mdl_multinomialnbvect_v1\n",
      "Evaluating similarity to davidguetta with model: mdl_multinomialnbvect_v1\n",
      "Evaluating similarity to jk_rowling with model: mdl_multinomialnbvect_v1\n"
     ]
    }
   ],
   "source": [
    "results = twm.calculate(app.config, screen_name='trevornoah', group='default') #, compare_to_screen_names=['realdonaldtrump'])"
   ]
  },
  {
   "cell_type": "code",
   "execution_count": 11,
   "metadata": {
    "ExecuteTime": {
     "end_time": "2020-01-20T23:58:23.738139Z",
     "start_time": "2020-01-20T23:58:23.716289Z"
    }
   },
   "outputs": [
    {
     "data": {
      "text/plain": [
       "{'realdonaldtrump': 2.0272744207938766e-07,\n",
       " 'jimmyfallon': 8.435293913893682e-11,\n",
       " 'trevornoah': 0.27224080456833444,\n",
       " 'billmaher': 4.701467699324362e-05,\n",
       " 'stephenathome': 1.3192031394302914e-08,\n",
       " 'britneyspears': 1.8034018474097703e-11,\n",
       " 'selenagomez': 1.0769915285670639e-11,\n",
       " 'kimkardashian': 1.864278747397354e-10,\n",
       " 'jtimberlake': 1.3633570325960516e-13,\n",
       " 'arianagrande': 8.673472964447969e-12,\n",
       " 'theellenshow': 9.35392920580554e-11,\n",
       " 'ladygaga': 3.693794893881505e-09,\n",
       " 'rihanna': 4.966278896967584e-12,\n",
       " 'taylorswift13': 1.1532894211923138e-11,\n",
       " 'justinbieber': 2.514918542447701e-14,\n",
       " 'katyperry': 4.0867095196181355e-10,\n",
       " 'billgates': 2.0412556035169727e-08,\n",
       " 'mileycyrus': 1.3492695556535913e-14,\n",
       " 'jlo': 1.5404753718814564e-10,\n",
       " 'kingjames': 1.969267319830148e-09,\n",
       " 'brunomars': 1.4672376455692892e-12,\n",
       " 'chrissyteigen': 6.660846594382522e-09,\n",
       " 'oprah': 8.47086824939767e-08,\n",
       " 'drake': 2.716598253078705e-12,\n",
       " 'pink': 6.489231577394058e-10,\n",
       " 'liltunechi': 1.064885256145895e-14,\n",
       " 'kevinhart4real': 3.2978736961729496e-08,\n",
       " 'elonmusk': 1.2560208937892024e-14,\n",
       " 'kyliejenner': 5.856373589686154e-13,\n",
       " 'conanobrien': 1.0981577824694908e-08,\n",
       " 'mariahcarey': 7.708359858308064e-10,\n",
       " 'davidguetta': 3.29773528314718e-15,\n",
       " 'jk_rowling': 1.9628322100543723e-08}"
      ]
     },
     "execution_count": 11,
     "metadata": {},
     "output_type": "execute_result"
    }
   ],
   "source": [
    "{screen_name : np.mean(result.y_prob) for screen_name, result in results.items()}"
   ]
  },
  {
   "cell_type": "code",
   "execution_count": null,
   "metadata": {},
   "outputs": [],
   "source": [
    "# -------"
   ]
  },
  {
   "cell_type": "code",
   "execution_count": 4,
   "metadata": {
    "ExecuteTime": {
     "end_time": "2020-01-20T23:40:36.527762Z",
     "start_time": "2020-01-20T23:40:36.524160Z"
    }
   },
   "outputs": [],
   "source": [
    "config = app.config"
   ]
  },
  {
   "cell_type": "code",
   "execution_count": 119,
   "metadata": {
    "ExecuteTime": {
     "end_time": "2020-01-20T23:19:37.399445Z",
     "start_time": "2020-01-20T23:19:37.396014Z"
    }
   },
   "outputs": [],
   "source": [
    "screen_name='realdonaldtrump'\n",
    "group='default'"
   ]
  },
  {
   "cell_type": "code",
   "execution_count": 120,
   "metadata": {
    "ExecuteTime": {
     "end_time": "2020-01-20T23:19:40.358309Z",
     "start_time": "2020-01-20T23:19:38.961065Z"
    }
   },
   "outputs": [
    {
     "name": "stdout",
     "output_type": "stream",
     "text": [
      "Downloading user timeline for: realdonaldtrump\n"
     ]
    }
   ],
   "source": [
    "twitter_creds = config['TWITTER_API_CREDS']\n",
    "tapi = twitter.TwitterApi(twitter_creds)\n",
    "\n",
    "#  Download user timeline;  condense / merge tweets, based on settings\n",
    "print(f'Downloading user timeline for: {screen_name}')\n",
    "tweet_timeline = tapi.timeline(screen_name)\n",
    "timeline_text = list(reversed([tli._json['full_text'] for tli in tweet_timeline]))\n",
    "timeline_text = twm.condense_timeline(timeline_text, condense_factor=config['TWEET_CONDENSE_FACTOR'])"
   ]
  },
  {
   "cell_type": "code",
   "execution_count": 121,
   "metadata": {
    "ExecuteTime": {
     "end_time": "2020-01-20T23:19:40.365278Z",
     "start_time": "2020-01-20T23:19:40.360481Z"
    }
   },
   "outputs": [],
   "source": [
    "tweets = timeline_text"
   ]
  },
  {
   "cell_type": "code",
   "execution_count": 122,
   "metadata": {
    "ExecuteTime": {
     "end_time": "2020-01-20T23:19:40.959531Z",
     "start_time": "2020-01-20T23:19:40.946600Z"
    }
   },
   "outputs": [],
   "source": [
    "#  Transform tweets to vectorizer\n",
    "#  Transform incoming tweets to vectorized values\n",
    "vect_mdl = similarity.get_model(grp=group, model_name='transformation-countvectorizer')\n",
    "x_vect = vect_mdl.transform(tweets)"
   ]
  },
  {
   "cell_type": "code",
   "execution_count": 123,
   "metadata": {
    "ExecuteTime": {
     "end_time": "2020-01-20T23:19:41.445413Z",
     "start_time": "2020-01-20T23:19:41.442130Z"
    }
   },
   "outputs": [],
   "source": [
    "#  Predict probability via model\n",
    "screen_mdl = similarity.get_model(grp=group, model_name='realdonaldtrump')"
   ]
  },
  {
   "cell_type": "code",
   "execution_count": 124,
   "metadata": {
    "ExecuteTime": {
     "end_time": "2020-01-20T23:19:42.295328Z",
     "start_time": "2020-01-20T23:19:42.290175Z"
    }
   },
   "outputs": [
    {
     "data": {
      "text/plain": [
       "array([False,  True])"
      ]
     },
     "execution_count": 124,
     "metadata": {},
     "output_type": "execute_result"
    }
   ],
   "source": [
    "screen_mdl.classes_"
   ]
  },
  {
   "cell_type": "code",
   "execution_count": 148,
   "metadata": {
    "ExecuteTime": {
     "end_time": "2020-01-20T23:32:05.860874Z",
     "start_time": "2020-01-20T23:32:05.855769Z"
    }
   },
   "outputs": [
    {
     "data": {
      "text/plain": [
       "array([False,  True])"
      ]
     },
     "execution_count": 148,
     "metadata": {},
     "output_type": "execute_result"
    }
   ],
   "source": [
    "screen_mdl.classes_"
   ]
  },
  {
   "cell_type": "code",
   "execution_count": 125,
   "metadata": {
    "ExecuteTime": {
     "end_time": "2020-01-20T23:19:43.249964Z",
     "start_time": "2020-01-20T23:19:43.246307Z"
    }
   },
   "outputs": [],
   "source": [
    "y_pred = screen_mdl.predict(x_vect)"
   ]
  },
  {
   "cell_type": "code",
   "execution_count": 126,
   "metadata": {
    "ExecuteTime": {
     "end_time": "2020-01-20T23:19:44.116729Z",
     "start_time": "2020-01-20T23:19:44.112093Z"
    }
   },
   "outputs": [],
   "source": [
    "y_prob = screen_mdl.predict_proba(x_vect)"
   ]
  },
  {
   "cell_type": "code",
   "execution_count": 127,
   "metadata": {
    "ExecuteTime": {
     "end_time": "2020-01-20T23:19:45.379171Z",
     "start_time": "2020-01-20T23:19:45.373425Z"
    }
   },
   "outputs": [
    {
     "data": {
      "text/plain": [
       "array([4.03911071e-04, 1.45133999e-17, 3.41111708e-03, 1.27098412e-10,\n",
       "       9.99984482e-01])"
      ]
     },
     "execution_count": 127,
     "metadata": {},
     "output_type": "execute_result"
    }
   ],
   "source": [
    "pred_prob_lbl[:5]\n",
    "\n",
    "pred_prob_opp[:5]\n",
    "\n",
    "pred_prob_true  = y_prob[:,1]\n",
    "pred_prob_false = y_prob[:,0]\n",
    "\n",
    "np.mean(y_prob[:,1])\n",
    "\n",
    "np.mean(y_prob[:,0])\n",
    "\n",
    "y_pred[:10]\n",
    "\n",
    "pred_prob_true[:10]\n",
    "\n",
    "pred_prob_false[:10]\n",
    "\n",
    "(~y_pred * pred_prob_false)[:5]\n",
    "\n",
    "(y_pred * pred_prob_true)[:5]\n",
    "\n",
    "((~y_pred * (1 - pred_prob_false)) + (y_pred * pred_prob_true))[:5]\n",
    "\n",
    "np.mean((~y_pred * (1 - pred_prob_false)) + (y_pred * pred_prob_true))\n",
    "\n",
    "np.std((~y_pred * (1 - pred_prob_false)) + (y_pred * pred_prob_true))\n",
    "\n",
    "# --------------------------------------------------------\n",
    "\n",
    "labels = {}\n",
    "for screen_name in config['SIMILARITY_COMPARISONS']['default']['screen_names']:\n",
    "    model = similarity.get_model('default', model_name=screen_name)\n",
    "    labels[screen_name]  = model.classes_\n",
    "\n"
   ]
  }
 ],
 "metadata": {
  "kernelspec": {
   "display_name": "Python 3",
   "language": "python",
   "name": "python3"
  },
  "language_info": {
   "codemirror_mode": {
    "name": "ipython",
    "version": 3
   },
   "file_extension": ".py",
   "mimetype": "text/x-python",
   "name": "python",
   "nbconvert_exporter": "python",
   "pygments_lexer": "ipython3",
   "version": "3.7.1"
  }
 },
 "nbformat": 4,
 "nbformat_minor": 2
}
