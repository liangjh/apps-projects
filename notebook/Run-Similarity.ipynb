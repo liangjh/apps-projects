{
 "cells": [
  {
   "cell_type": "markdown",
   "metadata": {},
   "source": [
    "# Tweem.io Similarity Comparison"
   ]
  },
  {
   "cell_type": "markdown",
   "metadata": {},
   "source": [
    "### Imports"
   ]
  },
  {
   "cell_type": "code",
   "execution_count": 2,
   "metadata": {
    "ExecuteTime": {
     "end_time": "2020-01-27T04:22:56.593267Z",
     "start_time": "2020-01-27T04:22:56.589723Z"
    }
   },
   "outputs": [],
   "source": [
    "#  Necessary to allow assembly framework to run\n",
    "import os\n",
    "os.chdir('..')"
   ]
  },
  {
   "cell_type": "code",
   "execution_count": 72,
   "metadata": {
    "ExecuteTime": {
     "end_time": "2020-01-28T01:02:02.461348Z",
     "start_time": "2020-01-28T01:02:02.455577Z"
    }
   },
   "outputs": [],
   "source": [
    "import pandas as pd\n",
    "import numpy as np\n",
    "import inspect\n",
    "import importlib\n",
    "\n",
    "import assembly\n",
    "from assembly import config as asmbl_config\n",
    "from assembly import db as asmbl_db\n",
    "from assembly import models as asmbl_models\n",
    "\n",
    "from lib.tweemio import twm\n",
    "from lib.tweemio import similarity\n",
    "from lib.tweemio import twitter"
   ]
  },
  {
   "cell_type": "code",
   "execution_count": 73,
   "metadata": {
    "ExecuteTime": {
     "end_time": "2020-01-28T01:02:11.749711Z",
     "start_time": "2020-01-28T01:02:11.701440Z"
    }
   },
   "outputs": [
    {
     "data": {
      "text/plain": [
       "<module 'lib.tweemio.similarity' from '/Users/liangjh/Workspace/tweemio-api/lib/tweemio/similarity.py'>"
      ]
     },
     "execution_count": 73,
     "metadata": {},
     "output_type": "execute_result"
    }
   ],
   "source": [
    "importlib.reload(similarity)"
   ]
  },
  {
   "cell_type": "markdown",
   "metadata": {},
   "source": [
    "### Settings"
   ]
  },
  {
   "cell_type": "code",
   "execution_count": 4,
   "metadata": {
    "ExecuteTime": {
     "end_time": "2020-01-27T04:22:59.967111Z",
     "start_time": "2020-01-27T04:22:59.921420Z"
    }
   },
   "outputs": [],
   "source": [
    "os.environ['ASSEMBLY_ENV'] = 'Development'\n",
    "app = assembly.Assembly.init(__name__, {'default': []})"
   ]
  },
  {
   "cell_type": "markdown",
   "metadata": {},
   "source": [
    "### Calculate Similarity to Group"
   ]
  },
  {
   "cell_type": "code",
   "execution_count": 43,
   "metadata": {
    "ExecuteTime": {
     "end_time": "2020-01-27T16:26:57.154035Z",
     "start_time": "2020-01-27T16:26:54.729185Z"
    }
   },
   "outputs": [
    {
     "name": "stdout",
     "output_type": "stream",
     "text": [
      "Downloading user timeline for: barackobama\n",
      "Evaluating similarity to realdonaldtrump with model: mdl_multinomialnbvect_v1\n",
      "Evaluating similarity to kellyannepolls with model: mdl_multinomialnbvect_v1\n",
      "Evaluating similarity to secpompeo with model: mdl_multinomialnbvect_v1\n",
      "Evaluating similarity to mike_pence with model: mdl_multinomialnbvect_v1\n",
      "Evaluating similarity to devinnunes with model: mdl_multinomialnbvect_v1\n",
      "Evaluating similarity to lindseygrahamsc with model: mdl_multinomialnbvect_v1\n",
      "Evaluating similarity to donaldjtrumpjr with model: mdl_multinomialnbvect_v1\n",
      "Evaluating similarity to rudygiuliani with model: mdl_multinomialnbvect_v1\n",
      "Evaluating similarity to govmikehuckabee with model: mdl_multinomialnbvect_v1\n",
      "Evaluating similarity to alandersh with model: mdl_multinomialnbvect_v1\n",
      "Evaluating similarity to repmattgaetz with model: mdl_multinomialnbvect_v1\n",
      "Evaluating similarity to jim_jordan with model: mdl_multinomialnbvect_v1\n",
      "Evaluating similarity to repmarkmeadows with model: mdl_multinomialnbvect_v1\n",
      "Evaluating similarity to gopleader with model: mdl_multinomialnbvect_v1\n",
      "Evaluating similarity to gtconway3d with model: mdl_multinomialnbvect_v1\n",
      "Evaluating similarity to scaramucci with model: mdl_multinomialnbvect_v1\n"
     ]
    }
   ],
   "source": [
    "results = twm.calculate(app.config, screen_name='barackobama', group='trumpian') #, compare_to_screen_names=['realdonaldtrump'])"
   ]
  },
  {
   "cell_type": "code",
   "execution_count": 44,
   "metadata": {
    "ExecuteTime": {
     "end_time": "2020-01-27T16:26:59.707123Z",
     "start_time": "2020-01-27T16:26:59.697165Z"
    }
   },
   "outputs": [
    {
     "data": {
      "text/plain": [
       "{'realdonaldtrump': 0.0362871456636854,\n",
       " 'kellyannepolls': 0.05737222991201928,\n",
       " 'secpompeo': 0.11167948068663866,\n",
       " 'mike_pence': 0.06720481314569705,\n",
       " 'devinnunes': 1.9921557356344103e-05,\n",
       " 'lindseygrahamsc': 0.007312821960141586,\n",
       " 'donaldjtrumpjr': 0.0015974980293346611,\n",
       " 'rudygiuliani': 0.0007456474545912521,\n",
       " 'govmikehuckabee': 0.00879048543646449,\n",
       " 'alandersh': 0.00044566331079554106,\n",
       " 'repmattgaetz': 0.0010570736682972686,\n",
       " 'jim_jordan': 0.0046734620896466015,\n",
       " 'repmarkmeadows': 0.0002013814121971472,\n",
       " 'gopleader': 0.008936633656353447,\n",
       " 'gtconway3d': 0.00020415448715250007,\n",
       " 'scaramucci': 0.01527626348948547}"
      ]
     },
     "execution_count": 44,
     "metadata": {},
     "output_type": "execute_result"
    }
   ],
   "source": [
    "{screen_name : np.mean(result.y_prob) for screen_name, result in results.items()}"
   ]
  },
  {
   "cell_type": "code",
   "execution_count": 83,
   "metadata": {
    "ExecuteTime": {
     "end_time": "2020-01-28T01:37:14.462668Z",
     "start_time": "2020-01-28T01:37:14.459249Z"
    }
   },
   "outputs": [],
   "source": [
    "res = results['mike_pence']"
   ]
  },
  {
   "cell_type": "code",
   "execution_count": 62,
   "metadata": {
    "ExecuteTime": {
     "end_time": "2020-01-27T17:17:56.364712Z",
     "start_time": "2020-01-27T17:17:56.358534Z"
    }
   },
   "outputs": [],
   "source": [
    "res = res[res.y_prob > 0.75].sort_values('y_prob', ascending=False)"
   ]
  },
  {
   "cell_type": "code",
   "execution_count": 63,
   "metadata": {
    "ExecuteTime": {
     "end_time": "2020-01-27T17:17:56.591567Z",
     "start_time": "2020-01-27T17:17:56.583898Z"
    }
   },
   "outputs": [
    {
     "data": {
      "text/plain": [
       "102    0.999631\n",
       "97     0.998127\n",
       "105    0.996245\n",
       "18     0.990319\n",
       "40     0.981850\n",
       "59     0.795553\n",
       "0      0.785098\n",
       "Name: y_prob, dtype: float64"
      ]
     },
     "execution_count": 63,
     "metadata": {},
     "output_type": "execute_result"
    }
   ],
   "source": [
    "res.y_prob"
   ]
  },
  {
   "cell_type": "code",
   "execution_count": 85,
   "metadata": {
    "ExecuteTime": {
     "end_time": "2020-01-28T01:37:22.048531Z",
     "start_time": "2020-01-28T01:37:22.041862Z"
    }
   },
   "outputs": [
    {
     "data": {
      "text/plain": [
       "0.06720481314569705"
      ]
     },
     "execution_count": 85,
     "metadata": {},
     "output_type": "execute_result"
    }
   ],
   "source": [
    "np.mean(res.y_prob)"
   ]
  },
  {
   "cell_type": "code",
   "execution_count": 94,
   "metadata": {
    "ExecuteTime": {
     "end_time": "2020-01-28T01:43:08.292881Z",
     "start_time": "2020-01-28T01:43:08.286039Z"
    }
   },
   "outputs": [
    {
     "data": {
      "text/plain": [
       "[{'text': 'Americans across the country agree that we need bold action in the fight against climate change. #ActOnClimate  Show your support for bold action to fight climate change.  #ActOnClimate Adding clean energy jobs is another way the U.S. is continuing to #ActOnClimate.  President Obama has done more to improve energy efficiency than any previous U.S. leader.  #ActOnClimate',\n",
       "  'y_prob': 0.7850975001360624,\n",
       "  'y_sn': 'mike_pence'},\n",
       " {'text': \"Editorial boards from across the country have called on Senate leaders to fill the Supreme Court vacancy.  Senate leaders are hamstringing our Supreme Court. This obstruction is unprecedented—and unacceptable:  #DoYourJob Judge Garland has now waited 146 days. That's shameful—and irresponsible. #DoYourJob  We've accomplished so much as a movement—and it's thanks to the power of organizing. \",\n",
       "  'y_prob': 0.0001823461133651533,\n",
       "  'y_sn': 'mike_pence'},\n",
       " {'text': \"Don't let the cynics win. Keep pushing for change with @OFA.  Grab one of these for all your progressive organizing travels.   Being cynical is easy. It's having hope in the face of adversity that's hard—but essential.  Don't let misinformation go unchallenged. Join the @OFA Truth Team and get the facts to fight back: \",\n",
       "  'y_prob': 0.00010167003523374997,\n",
       "  'y_sn': 'mike_pence'}]"
      ]
     },
     "execution_count": 94,
     "metadata": {},
     "output_type": "execute_result"
    }
   ],
   "source": [
    "res.iloc[:3,:].to_dict('records')"
   ]
  },
  {
   "cell_type": "code",
   "execution_count": 64,
   "metadata": {
    "ExecuteTime": {
     "end_time": "2020-01-27T17:17:56.739433Z",
     "start_time": "2020-01-27T17:17:56.730208Z"
    }
   },
   "outputs": [
    {
     "data": {
      "text/plain": [
       "[\"Michelle and I send our condolences to the people of New Zealand. We grieve with you and the Muslim community. All of us must stand against hatred in all its forms. In 2011, I visited the tiny town of Moneygall and got to walk around in the house where my great-great-great grandfather Falmouth Kearney lived his early life. I'll always be grateful for the warmth and generosity of the Irish people. Happy St. Patrick's Day! -Barack O’Bama  The floods in the Midwest and in southern Africa are heartbreaking. Suffering and loss on two sides of the world calls for solidarity and strength from all of us. Ask what you can do to help our fellow Americans and families in need. Here are some ideas:  And here are some ways to help cyclone victims in Mozambique, Malawi, and Zimbabwe: \",\n",
       " 'As we celebrate Black History Month and Jackie Robinson’s 100th birthday, we celebrate the life of all whose courage opened the gates for everybody, and in the process, made America better.  We lost two great Americans today – Frank Robinson and John Dingell – citizens who inspired me and so many others by leading on the civil rights issues of our time, opening doors to others, and leaving it all on the field. My statement on the passing of former Congressman John Dingell:  Happy 85th birthday to @RealBillRussell - the greatest champion in American sports, and a lifelong warrior for justice.',\n",
       " 'Another good story worth sharing: From one \"kid from Akron\" to a new generation of Akron kids, some remarkable early achievements at @IPROMISESchool. Great work, @KingJames—and even better work by those students. Proud to be a witness to their success:  Congratulations, Tiger! To come back and win the Masters after all the highs and lows is a testament to excellence, grit, and determination. Notre Dame is one of the world’s great treasures, and we’re thinking of the people of France in your time of grief. It’s in our nature to mourn when we see history lost – but it’s also in our nature to rebuild for tomorrow, as strong as we can.  The attacks on tourists and Easter worshippers in Sri Lanka are an attack on humanity. On a day devoted to love, redemption, and renewal, we pray for the victims and stand with the people of Sri Lanka.',\n",
       " \"It's been a long road, but we're far better off than we were eight years ago.  Unemployment: ⬇ Deficits: ⬇ Uninsured rate: ⬇ Jobs: +15.1 million  When Americans stand together, there's no challenge too great to solve—not even climate change. #ActOnClimate today:  Recess is almost over, and editorial boards across the country are calling for Senate leaders to do their jobs. \",\n",
       " \"The cost of clean energy technology dropped significantly over the last eight years. Get the chart:  #ActOnClimate ICYMI: Read about the historic #ParisAgreement and what it means for the fight to #ActOnClimate.  The economy added 156,000 jobs in September—extending the longest streak of total job growth on record. Check out President Obama's essay in @TheEconomist on the unique challenges the American economy faces. \",\n",
       " \"Tens of millions of Americans have benefited from #Obamacare. Make sure you're one of them. #GetCovered  The positive impact of #Obamacare is undeniable, but there's one big factor holding many states back:  There are a lot of plans out there. Check your options and lock in the one that's best for you:  #GetCovered The economy added 161,000 jobs in October, and wages are up 2.8 percent over the past year.  #JobsReport\",\n",
       " 'Americans across the country agree that we need bold action in the fight against climate change. #ActOnClimate  Show your support for bold action to fight climate change.  #ActOnClimate Adding clean energy jobs is another way the U.S. is continuing to #ActOnClimate.  President Obama has done more to improve energy efficiency than any previous U.S. leader.  #ActOnClimate']"
      ]
     },
     "execution_count": 64,
     "metadata": {},
     "output_type": "execute_result"
    }
   ],
   "source": [
    "list(res.text)"
   ]
  },
  {
   "cell_type": "markdown",
   "metadata": {},
   "source": [
    "### Scratchpad"
   ]
  },
  {
   "cell_type": "code",
   "execution_count": 68,
   "metadata": {
    "ExecuteTime": {
     "end_time": "2020-01-28T01:00:51.987804Z",
     "start_time": "2020-01-28T01:00:51.984584Z"
    }
   },
   "outputs": [],
   "source": [
    "screen_name='barackobama'"
   ]
  },
  {
   "cell_type": "code",
   "execution_count": 66,
   "metadata": {
    "ExecuteTime": {
     "end_time": "2020-01-28T01:00:07.870771Z",
     "start_time": "2020-01-28T01:00:07.864798Z"
    }
   },
   "outputs": [],
   "source": [
    "tapi = twitter.TwitterApi(app.config['TWITTER_API_CREDS'])\n",
    "tweets = tapi.timeline(screen_name, condense_factor=app.config['TWEET_CONDENSE_FACTOR'])"
   ]
  },
  {
   "cell_type": "code",
   "execution_count": 74,
   "metadata": {
    "ExecuteTime": {
     "end_time": "2020-01-28T01:02:16.049526Z",
     "start_time": "2020-01-28T01:02:15.549789Z"
    }
   },
   "outputs": [],
   "source": [
    "nlp_parser = similarity.get_nlp_readability()\n",
    "\n",
    "nlpdocs = [nlp_parser(tweet) for tweet in tweets]\n",
    "\n",
    "fkgl  = [nlpdoc._.flesch_kincaid_grade_level for nlpdoc in nlpdocs]\n",
    "fkre  = [nlpdoc._.flesch_kincaid_reading_ease for nlpdoc in nlpdocs]\n",
    "dc    = [nlpdoc._.dale_chall for nlpdoc in nlpdocs]\n",
    "cl    = [nlpdoc._.coleman_liau_index for nlpdoc in nlpdocs]\n",
    "autor = [nlpdoc._.automated_readability_index for nlpdoc in nlpdocs]\n",
    "\n",
    "{\n",
    "    'flesch_kincaid_grade_level': np.mean(fkgl),\n",
    "    'flesch_kincaid_reading_ease': np.mean(fkre),\n",
    "    'dale_chall': np.mean(dc),\n",
    "    'coleman_liau_index': np.mean(cl),\n",
    "    'automated_readability_index': np.mean(autor)\n",
    "}"
   ]
  },
  {
   "cell_type": "code",
   "execution_count": null,
   "metadata": {},
   "outputs": [],
   "source": []
  }
 ],
 "metadata": {
  "kernelspec": {
   "display_name": "Python 3",
   "language": "python",
   "name": "python3"
  },
  "language_info": {
   "codemirror_mode": {
    "name": "ipython",
    "version": 3
   },
   "file_extension": ".py",
   "mimetype": "text/x-python",
   "name": "python",
   "nbconvert_exporter": "python",
   "pygments_lexer": "ipython3",
   "version": "3.7.1"
  }
 },
 "nbformat": 4,
 "nbformat_minor": 2
}
