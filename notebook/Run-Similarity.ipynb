{
 "cells": [
  {
   "cell_type": "markdown",
   "metadata": {},
   "source": [
    "# Tweem.io Similarity Comparison"
   ]
  },
  {
   "cell_type": "markdown",
   "metadata": {},
   "source": [
    "### Imports"
   ]
  },
  {
   "cell_type": "code",
   "execution_count": 2,
   "metadata": {
    "ExecuteTime": {
     "end_time": "2020-01-27T04:22:56.593267Z",
     "start_time": "2020-01-27T04:22:56.589723Z"
    }
   },
   "outputs": [],
   "source": [
    "#  Necessary to allow assembly framework to run\n",
    "import os\n",
    "os.chdir('..')"
   ]
  },
  {
   "cell_type": "code",
   "execution_count": 3,
   "metadata": {
    "ExecuteTime": {
     "end_time": "2020-01-27T04:22:57.175421Z",
     "start_time": "2020-01-27T04:22:56.817396Z"
    }
   },
   "outputs": [],
   "source": [
    "import pandas as pd\n",
    "import numpy as np\n",
    "import inspect\n",
    "\n",
    "import assembly\n",
    "from assembly import config as asmbl_config\n",
    "from assembly import db as asmbl_db\n",
    "from assembly import models as asmbl_models\n",
    "\n",
    "from lib.tweemio import twm\n",
    "from lib.tweemio import similarity\n",
    "from lib.tweemio import twitter"
   ]
  },
  {
   "cell_type": "markdown",
   "metadata": {},
   "source": [
    "### Settings"
   ]
  },
  {
   "cell_type": "code",
   "execution_count": 4,
   "metadata": {
    "ExecuteTime": {
     "end_time": "2020-01-27T04:22:59.967111Z",
     "start_time": "2020-01-27T04:22:59.921420Z"
    }
   },
   "outputs": [],
   "source": [
    "os.environ['ASSEMBLY_ENV'] = 'Development'\n",
    "app = assembly.Assembly.init(__name__, {'default': []})"
   ]
  },
  {
   "cell_type": "markdown",
   "metadata": {},
   "source": [
    "### Calculate Similarity to Group"
   ]
  },
  {
   "cell_type": "code",
   "execution_count": null,
   "metadata": {
    "ExecuteTime": {
     "start_time": "2020-01-27T04:23:01.042Z"
    }
   },
   "outputs": [],
   "source": [
    "results = twm.calculate(app.config, screen_name='barackobama', group='dempres2020') #, compare_to_screen_names=['realdonaldtrump'])"
   ]
  },
  {
   "cell_type": "code",
   "execution_count": null,
   "metadata": {
    "ExecuteTime": {
     "start_time": "2020-01-27T04:23:01.575Z"
    }
   },
   "outputs": [],
   "source": [
    "{screen_name : np.mean(result.y_prob) for screen_name, result in results.items()}"
   ]
  },
  {
   "cell_type": "markdown",
   "metadata": {},
   "source": [
    "### Scratchpad"
   ]
  },
  {
   "cell_type": "code",
   "execution_count": 119,
   "metadata": {
    "ExecuteTime": {
     "end_time": "2020-01-20T23:19:37.399445Z",
     "start_time": "2020-01-20T23:19:37.396014Z"
    }
   },
   "outputs": [],
   "source": [
    "screen_name='realdonaldtrump'\n",
    "group='default'"
   ]
  },
  {
   "cell_type": "code",
   "execution_count": 120,
   "metadata": {
    "ExecuteTime": {
     "end_time": "2020-01-20T23:19:40.358309Z",
     "start_time": "2020-01-20T23:19:38.961065Z"
    }
   },
   "outputs": [
    {
     "name": "stdout",
     "output_type": "stream",
     "text": [
      "Downloading user timeline for: realdonaldtrump\n"
     ]
    }
   ],
   "source": [
    "twitter_creds = config['TWITTER_API_CREDS']\n",
    "tapi = twitter.TwitterApi(twitter_creds)\n",
    "\n",
    "#  Download user timeline;  condense / merge tweets, based on settings\n",
    "print(f'Downloading user timeline for: {screen_name}')\n",
    "tweet_timeline = tapi.timeline(screen_name)\n",
    "timeline_text = list(reversed([tli._json['full_text'] for tli in tweet_timeline]))\n",
    "timeline_text = twm.condense_timeline(timeline_text, condense_factor=config['TWEET_CONDENSE_FACTOR'])"
   ]
  },
  {
   "cell_type": "code",
   "execution_count": 121,
   "metadata": {
    "ExecuteTime": {
     "end_time": "2020-01-20T23:19:40.365278Z",
     "start_time": "2020-01-20T23:19:40.360481Z"
    }
   },
   "outputs": [],
   "source": [
    "tweets = timeline_text"
   ]
  },
  {
   "cell_type": "code",
   "execution_count": 122,
   "metadata": {
    "ExecuteTime": {
     "end_time": "2020-01-20T23:19:40.959531Z",
     "start_time": "2020-01-20T23:19:40.946600Z"
    }
   },
   "outputs": [],
   "source": [
    "#  Transform tweets to vectorizer\n",
    "#  Transform incoming tweets to vectorized values\n",
    "vect_mdl = similarity.get_model(grp=group, model_name='transformation-countvectorizer')\n",
    "x_vect = vect_mdl.transform(tweets)"
   ]
  },
  {
   "cell_type": "code",
   "execution_count": 123,
   "metadata": {
    "ExecuteTime": {
     "end_time": "2020-01-20T23:19:41.445413Z",
     "start_time": "2020-01-20T23:19:41.442130Z"
    }
   },
   "outputs": [],
   "source": [
    "#  Predict probability via model\n",
    "screen_mdl = similarity.get_model(grp=group, model_name='realdonaldtrump')"
   ]
  },
  {
   "cell_type": "code",
   "execution_count": 124,
   "metadata": {
    "ExecuteTime": {
     "end_time": "2020-01-20T23:19:42.295328Z",
     "start_time": "2020-01-20T23:19:42.290175Z"
    }
   },
   "outputs": [
    {
     "data": {
      "text/plain": [
       "array([False,  True])"
      ]
     },
     "execution_count": 124,
     "metadata": {},
     "output_type": "execute_result"
    }
   ],
   "source": [
    "screen_mdl.classes_"
   ]
  },
  {
   "cell_type": "code",
   "execution_count": 148,
   "metadata": {
    "ExecuteTime": {
     "end_time": "2020-01-20T23:32:05.860874Z",
     "start_time": "2020-01-20T23:32:05.855769Z"
    }
   },
   "outputs": [
    {
     "data": {
      "text/plain": [
       "array([False,  True])"
      ]
     },
     "execution_count": 148,
     "metadata": {},
     "output_type": "execute_result"
    }
   ],
   "source": [
    "screen_mdl.classes_"
   ]
  },
  {
   "cell_type": "code",
   "execution_count": 125,
   "metadata": {
    "ExecuteTime": {
     "end_time": "2020-01-20T23:19:43.249964Z",
     "start_time": "2020-01-20T23:19:43.246307Z"
    }
   },
   "outputs": [],
   "source": [
    "y_pred = screen_mdl.predict(x_vect)"
   ]
  },
  {
   "cell_type": "code",
   "execution_count": 126,
   "metadata": {
    "ExecuteTime": {
     "end_time": "2020-01-20T23:19:44.116729Z",
     "start_time": "2020-01-20T23:19:44.112093Z"
    }
   },
   "outputs": [],
   "source": [
    "y_prob = screen_mdl.predict_proba(x_vect)"
   ]
  },
  {
   "cell_type": "code",
   "execution_count": 127,
   "metadata": {
    "ExecuteTime": {
     "end_time": "2020-01-20T23:19:45.379171Z",
     "start_time": "2020-01-20T23:19:45.373425Z"
    }
   },
   "outputs": [
    {
     "data": {
      "text/plain": [
       "array([4.03911071e-04, 1.45133999e-17, 3.41111708e-03, 1.27098412e-10,\n",
       "       9.99984482e-01])"
      ]
     },
     "execution_count": 127,
     "metadata": {},
     "output_type": "execute_result"
    }
   ],
   "source": [
    "pred_prob_lbl[:5]\n",
    "\n",
    "pred_prob_opp[:5]\n",
    "\n",
    "pred_prob_true  = y_prob[:,1]\n",
    "pred_prob_false = y_prob[:,0]\n",
    "\n",
    "np.mean(y_prob[:,1])\n",
    "\n",
    "np.mean(y_prob[:,0])\n",
    "\n",
    "y_pred[:10]\n",
    "\n",
    "pred_prob_true[:10]\n",
    "\n",
    "pred_prob_false[:10]\n",
    "\n",
    "(~y_pred * pred_prob_false)[:5]\n",
    "\n",
    "(y_pred * pred_prob_true)[:5]\n",
    "\n",
    "((~y_pred * (1 - pred_prob_false)) + (y_pred * pred_prob_true))[:5]\n",
    "\n",
    "np.mean((~y_pred * (1 - pred_prob_false)) + (y_pred * pred_prob_true))\n",
    "\n",
    "np.std((~y_pred * (1 - pred_prob_false)) + (y_pred * pred_prob_true))\n",
    "\n",
    "# --------------------------------------------------------\n",
    "\n",
    "labels = {}\n",
    "for screen_name in config['SIMILARITY_COMPARISONS']['default']['screen_names']:\n",
    "    model = similarity.get_model('default', model_name=screen_name)\n",
    "    labels[screen_name]  = model.classes_\n",
    "\n"
   ]
  }
 ],
 "metadata": {
  "kernelspec": {
   "display_name": "Python 3",
   "language": "python",
   "name": "python3"
  }
 },
 "nbformat": 4,
 "nbformat_minor": 2
}
